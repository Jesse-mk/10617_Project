{
 "cells": [
  {
   "cell_type": "markdown",
   "metadata": {},
   "source": [
    "### processing inkml as images:"
   ]
  },
  {
   "cell_type": "code",
   "execution_count": 20,
   "metadata": {},
   "outputs": [],
   "source": [
    "import pandas as pd\n",
    "import numpy as np\n",
    "import matplotlib.pyplot as plt\n",
    "import inkml2img_pictures as ink\n",
    "import os\n",
    "import time\n",
    "from tqdm import tqdm_notebook"
   ]
  },
  {
   "cell_type": "markdown",
   "metadata": {},
   "source": [
    "#### parsing:\n",
    "I put the files into a folder called math and the file unzipped is the ICFHR_package. (I manually unzipped that one). Note, there are zipped folders inside the zipped folder lol"
   ]
  },
  {
   "cell_type": "code",
   "execution_count": 7,
   "metadata": {},
   "outputs": [
    {
     "data": {
      "text/plain": [
       "['crohme.css',\n",
       " 'CROHME2011_data',\n",
       " 'CROHME2012_data',\n",
       " 'CROHME_papers',\n",
       " 'evaluationTools',\n",
       " 'index.html',\n",
       " 'InkmlViewer',\n",
       " 'ParticipantsResults2012']"
      ]
     },
     "execution_count": 7,
     "metadata": {},
     "output_type": "execute_result"
    }
   ],
   "source": [
    "#made a directory named math first and unzipped ICFHR to that\n",
    "path = \"./math/ICFHR_package/\"\n",
    "os.listdir(path)"
   ]
  },
  {
   "cell_type": "code",
<<<<<<< HEAD
   "execution_count": 94,
   "metadata": {},
   "outputs": [
    {
     "data": {
      "text/plain": [
       "array([[ 0,  1,  2,  3,  4,  5,  6,  7,  8,  9],\n",
       "       [10, 11, 12, 13, 14, 15, 16, 17, 18, 19]])"
      ]
     },
     "execution_count": 94,
     "metadata": {},
     "output_type": "execute_result"
    }
   ],
   "source": [
    "hehe = np.arange(2 * 10).reshape(2,-1)\n",
    "hehe"
   ]
  },
  {
   "cell_type": "code",
   "execution_count": 95,
   "metadata": {},
   "outputs": [
    {
     "data": {
      "text/plain": [
       "array([[1.],\n",
       "       [1.]])"
      ]
     },
     "execution_count": 95,
     "metadata": {},
     "output_type": "execute_result"
    }
   ],
   "source": [
    "bias = np.ones((2,1))\n",
    "bias"
   ]
  },
  {
   "cell_type": "code",
   "execution_count": 96,
   "metadata": {},
   "outputs": [
    {
     "data": {
      "text/plain": [
       "array([[ 1.,  2.,  3.,  4.,  5.,  6.,  7.,  8.,  9., 10.],\n",
       "       [11., 12., 13., 14., 15., 16., 17., 18., 19., 20.]])"
      ]
     },
     "execution_count": 96,
     "metadata": {},
     "output_type": "execute_result"
    }
   ],
   "source": [
    "np.add(hehe, bias)"
   ]
  },
  {
   "cell_type": "code",
   "execution_count": 11,
=======
   "execution_count": 8,
>>>>>>> b27ea62b169caef040ee16294a5b70a50846b259
   "metadata": {},
   "outputs": [
    {
     "data": {
      "text/plain": [
       "['CROHME_test.zip']"
      ]
     },
     "execution_count": 8,
     "metadata": {},
     "output_type": "execute_result"
    }
   ],
   "source": [
    "os.listdir(path + 'CROHME2011_data/CROHME_test')"
   ]
  },
  {
   "cell_type": "code",
   "execution_count": 10,
   "metadata": {},
   "outputs": [
    {
     "data": {
      "text/plain": [
       "['./math/ICFHR_package/CROHME2011_data/CROHME_training/CROHME_training/',\n",
       " './math/ICFHR_package/CROHME2012_data/trainData/trainData/',\n",
       " './math/ICFHR_package/CROHME2011_data/CROHME_test/CROHME_test/',\n",
       " './math/ICFHR_package/CROHME2012_data/testData/testData/',\n",
       " './math/ICFHR_package/CROHME2011_data/CROHME_test/CROHME_test/',\n",
       " './math/ICFHR_package/CROHME2012_data/testDataGT/']"
      ]
     },
     "execution_count": 10,
     "metadata": {},
     "output_type": "execute_result"
    }
   ],
   "source": [
    "#all locations of inkml files:\n",
    "\n",
    "train_2011 = path + \"CROHME2011_data/CROHME_training/CROHME_training/\"\n",
    "train_2012 = path + \"CROHME2012_data/trainData/trainData/\"\n",
    "\n",
    "test_2011 = path + \"CROHME2011_data/CROHME_test/CROHME_test/\"\n",
    "test_2012 = path + \"CROHME2012_data/testData/testData/\"\n",
    "\n",
    "testGT_2011 = path + \"CROHME2011_data/CROHME_test/CROHME_test/\"\n",
    "testGT_2012 = path + \"CROHME2012_data/testDataGT/\" #notice, slightly different path...\n",
    "\n",
    "paths = [train_2011, train_2012, test_2011, test_2012, testGT_2011, testGT_2012]\n",
    "paths"
   ]
  },
  {
   "cell_type": "markdown",
   "metadata": {},
   "source": [
    "### unzipping\n",
    "lots of files are zipped (train files) so this is to unzip them:"
   ]
  },
  {
   "cell_type": "code",
   "execution_count": 21,
   "metadata": {},
   "outputs": [
    {
     "data": {
      "application/vnd.jupyter.widget-view+json": {
       "model_id": "232de400989f4a2c9fa49ed6ca13fd56",
       "version_major": 2,
       "version_minor": 0
      },
      "text/plain": [
       "HBox(children=(HTML(value=''), FloatProgress(value=0.0, max=5.0), HTML(value='')))"
      ]
     },
     "metadata": {},
     "output_type": "display_data"
    },
    {
     "name": "stdout",
     "output_type": "stream",
     "text": [
      "\n"
     ]
    }
   ],
   "source": [
    "import zipfile\n",
    "\n",
    "for file in tqdm_notebook(paths[:-1]): #for some reason testGT_2012 is not zipped??? Idk why but just exclude that one in unzipping\n",
    "    with zipfile.ZipFile(file[:-1] + \".zip\", 'r') as zip_ref:\n",
    "        zip_ref.extractall(file)"
   ]
  },
  {
   "cell_type": "markdown",
   "metadata": {},
   "source": [
    "##### getting image paths:"
   ]
  },
  {
   "cell_type": "code",
   "execution_count": 15,
   "metadata": {},
   "outputs": [],
   "source": [
    "#dictionary with all file paths to inkml files (some other files present, so be warry, not all inkmls, just what's in file)\n",
    "ink_names = {}\n",
    "for ink_file in paths:\n",
    "    ind_paths = [ink_file + (ink).strip(\".inkml\") for ink in os.listdir(ink_file)]\n",
    "    ink_names[ink_file] = ind_paths\n"
   ]
  },
  {
   "cell_type": "markdown",
   "metadata": {},
   "source": [
    "## converting images:"
   ]
  },
  {
   "cell_type": "code",
   "execution_count": 34,
   "metadata": {},
   "outputs": [],
   "source": [
    "#making new folders for converted images:\n",
    "folders =  [\n",
    "    \"data/raw_images/train_data_2011\", \n",
    "    \"data/raw_images/train_data_2012\", \n",
    "    \"data/raw_images/test_data_2011\", \n",
    "    \"data/raw_images/test_data_2012\", \n",
    "    \"data/raw_images/testGT_data_2011\", \n",
    "    \"data/raw_images/testGT_data_2012\"\n",
    "]\n",
    "\n",
    "try:\n",
    "    os.mkdir('data')\n",
    "    os.mkdir('data/raw_images')\n",
    "except:\n",
    "    print(f'Could not create data/raw_images, perhaps the directory already exists?')\n",
    "\n",
    "for direct in folders:\n",
    "    try:\n",
    "         os.mkdir(direct)\n",
    "    except:\n",
    "        print(\"this directory already exists, '{}', come up with a new one or perish\".format(direct))\n"
   ]
  },
  {
   "cell_type": "code",
   "execution_count": 35,
   "metadata": {},
   "outputs": [
    {
     "name": "stdout",
     "output_type": "stream",
     "text": [
      "data/raw_images/train_data_2011 ./math/ICFHR_package/CROHME2011_data/CROHME_training/CROHME_training/\n",
      "data/raw_images/train_data_2012 ./math/ICFHR_package/CROHME2012_data/trainData/trainData/\n",
      "data/raw_images/test_data_2011 ./math/ICFHR_package/CROHME2011_data/CROHME_test/CROHME_test/\n",
      "data/raw_images/test_data_2012 ./math/ICFHR_package/CROHME2012_data/testData/testData/\n",
      "data/raw_images/testGT_data_2011 ./math/ICFHR_package/CROHME2011_data/CROHME_test/CROHME_test/\n",
      "data/raw_images/testGT_data_2012 ./math/ICFHR_package/CROHME2012_data/testDataGT/\n"
     ]
    }
   ],
   "source": [
    "#example:\n",
    "for places in zip(folders, paths):\n",
    "    print(places[0], places[1])\n",
    "    \n",
    "#example getting 1 image, generalized below:\n",
    "# [ink.inkml2img('./{}.inkml'.format(file_name), train_2011_folder + '/{}.png'.format(ink_name.strip(\".inkml\"))) for file_name, ink_name in zip(paths, train_2011_ink)]\n"
   ]
  },
  {
   "cell_type": "markdown",
   "metadata": {},
   "source": [
    "just as a heads up, lots of warnings so I suppressed, will take quite a bit of time though. Also didn't run fully on my own computer, but there's a lot of files hehe so should be fun. Maybe zip after???"
   ]
  },
  {
   "cell_type": "code",
   "execution_count": 36,
   "metadata": {},
   "outputs": [],
   "source": [
    "import warnings\n",
    "#there's a lot of warnings based on below... just as a warning haha\n",
    "warnings.filterwarnings('ignore')"
   ]
  },
  {
   "cell_type": "code",
<<<<<<< HEAD
   "execution_count": 99,
=======
   "execution_count": 41,
>>>>>>> b27ea62b169caef040ee16294a5b70a50846b259
   "metadata": {},
   "outputs": [
    {
     "data": {
      "application/vnd.jupyter.widget-view+json": {
       "model_id": "95bfcc212d384ea59c3ba9809ce35dad",
       "version_major": 2,
       "version_minor": 0
      },
      "text/plain": [
       "HBox(children=(HTML(value=''), FloatProgress(value=1.0, bar_style='info', layout=Layout(width='20px'), max=1.0…"
      ]
     },
     "metadata": {},
     "output_type": "display_data"
    },
    {
     "name": "stdout",
     "output_type": "stream",
     "text": [
<<<<<<< HEAD
      "./train_data_2011 ./math/ICFHR_package/CROHME2011_data/CROHME_training/CROHME_training/\n",
      "./train_data_2012 ./math/ICFHR_package/CROHME2012_data/trainData/trainData/\n",
      "./math/ICFHR_package/CROHME2012_data/trainData/trainData/tegral05\n",
      "./test_data_2011 ./math/ICFHR_package/CROHME2011_data/CROHME_test/CROHME_test/\n",
      "./math/ICFHR_package/CROHME2011_data/CROHME_test/CROHME_test/tegral01\n",
      "./test_data_2012 ./math/ICFHR_package/CROHME2012_data/testData/testData/\n",
      "./testGT_data_2011 ./math/ICFHR_package/CROHME2011_data/CROHME_test/CROHME_test/\n",
      "./math/ICFHR_package/CROHME2011_data/CROHME_test/CROHME_test/tegral01\n",
      "./testGT_data_2012 ./math/ICFHR_package/CROHME2012_data/testDataGT/\n",
      "./math/ICFHR_package/CROHME2012_data/testDataGT/statSR.txt\n",
      "Wall time: 20min 25s\n"
=======
      "data/raw_images/train_data_2011 ./math/ICFHR_package/CROHME2011_data/CROHME_training/CROHME_training/\n"
     ]
    },
    {
     "data": {
      "application/vnd.jupyter.widget-view+json": {
       "model_id": "7a88891182cc4923a91b691ad1837dae",
       "version_major": 2,
       "version_minor": 0
      },
      "text/plain": [
       "HBox(children=(HTML(value=''), FloatProgress(value=0.0, max=921.0), HTML(value='')))"
      ]
     },
     "metadata": {},
     "output_type": "display_data"
    },
    {
     "name": "stdout",
     "output_type": "stream",
     "text": [
      "\n",
      "data/raw_images/train_data_2012 ./math/ICFHR_package/CROHME2012_data/trainData/trainData/\n"
     ]
    },
    {
     "data": {
      "application/vnd.jupyter.widget-view+json": {
       "model_id": "22ab21763f6c4a5c93b140333a995dc2",
       "version_major": 2,
       "version_minor": 0
      },
      "text/plain": [
       "HBox(children=(HTML(value=''), FloatProgress(value=0.0, max=1338.0), HTML(value='')))"
      ]
     },
     "metadata": {},
     "output_type": "display_data"
    },
    {
     "name": "stdout",
     "output_type": "stream",
     "text": [
      "./math/ICFHR_package/CROHME2012_data/trainData/trainData/tegral05 [Errno 2] No such file or directory: './math/ICFHR_package/CROHME2012_data/trainData/trainData/tegral05.inkml'\n",
      "\n",
      "data/raw_images/test_data_2011 ./math/ICFHR_package/CROHME2011_data/CROHME_test/CROHME_test/\n"
     ]
    },
    {
     "data": {
      "application/vnd.jupyter.widget-view+json": {
       "model_id": "6674392e046649d8b45ffbc2631c81e9",
       "version_major": 2,
       "version_minor": 0
      },
      "text/plain": [
       "HBox(children=(HTML(value=''), FloatProgress(value=0.0, max=348.0), HTML(value='')))"
      ]
     },
     "metadata": {},
     "output_type": "display_data"
    },
    {
     "name": "stdout",
     "output_type": "stream",
     "text": [
      "./math/ICFHR_package/CROHME2011_data/CROHME_test/CROHME_test/tegral01 [Errno 2] No such file or directory: './math/ICFHR_package/CROHME2011_data/CROHME_test/CROHME_test/tegral01.inkml'\n",
      "\n",
      "data/raw_images/test_data_2012 ./math/ICFHR_package/CROHME2012_data/testData/testData/\n"
     ]
    },
    {
     "data": {
      "application/vnd.jupyter.widget-view+json": {
       "model_id": "b0b9303839b24093b2c90462abb4ee72",
       "version_major": 2,
       "version_minor": 0
      },
      "text/plain": [
       "HBox(children=(HTML(value=''), FloatProgress(value=0.0, max=488.0), HTML(value='')))"
      ]
     },
     "metadata": {},
     "output_type": "display_data"
    },
    {
     "name": "stdout",
     "output_type": "stream",
     "text": [
      "\n",
      "data/raw_images/testGT_data_2011 ./math/ICFHR_package/CROHME2011_data/CROHME_test/CROHME_test/\n"
     ]
    },
    {
     "data": {
      "application/vnd.jupyter.widget-view+json": {
       "model_id": "1e60475e447440feaf8de8f2ab53c38e",
       "version_major": 2,
       "version_minor": 0
      },
      "text/plain": [
       "HBox(children=(HTML(value=''), FloatProgress(value=0.0, max=348.0), HTML(value='')))"
      ]
     },
     "metadata": {},
     "output_type": "display_data"
    },
    {
     "name": "stdout",
     "output_type": "stream",
     "text": [
      "./math/ICFHR_package/CROHME2011_data/CROHME_test/CROHME_test/tegral01 [Errno 2] No such file or directory: './math/ICFHR_package/CROHME2011_data/CROHME_test/CROHME_test/tegral01.inkml'\n",
      "\n",
      "data/raw_images/testGT_data_2012 ./math/ICFHR_package/CROHME2012_data/testDataGT/\n"
     ]
    },
    {
     "data": {
      "application/vnd.jupyter.widget-view+json": {
       "model_id": "f73e7b639a994cccb5ac35c2829f89b0",
       "version_major": 2,
       "version_minor": 0
      },
      "text/plain": [
       "HBox(children=(HTML(value=''), FloatProgress(value=0.0, max=489.0), HTML(value='')))"
      ]
     },
     "metadata": {},
     "output_type": "display_data"
    },
    {
     "name": "stdout",
     "output_type": "stream",
     "text": [
      "./math/ICFHR_package/CROHME2012_data/testDataGT/statSR.txt [Errno 2] No such file or directory: './math/ICFHR_package/CROHME2012_data/testDataGT/statSR.txt.inkml'\n",
      "\n",
      "\n",
      "Wall time: 3min 57s\n"
>>>>>>> b27ea62b169caef040ee16294a5b70a50846b259
     ]
    },
    {
     "data": {
      "text/plain": [
       "<Figure size 432x288 with 0 Axes>"
      ]
     },
     "metadata": {},
     "output_type": "display_data"
    }
   ],
   "source": [
    "%%time\n",
    "bad_links = []\n",
    "\n",
    "#converting images:\n",
    "for places in tqdm_notebook(zip(folders, paths)):\n",
    "    #hold onto labels\n",
    "    traces_dict = {}\n",
    "    \n",
    "    print(places[0], places[1])\n",
    "    new_directory = places[0]\n",
    "    inkml_directory = places[1]\n",
    "    \n",
    "    #I don't know how to parallelize this or if it's even worth it tbh since we're only doing it once:\n",
    "    for ink_name in tqdm_notebook(ink_names[inkml_directory]):#ink_names[inkml_directory]:\n",
    "        try:\n",
    "            file_name = inkml_directory\n",
    "            #print(file_name, ink_name)\n",
    "            #print(new_directory)\n",
    "            #process image:\n",
    "            ink.inkml2img('{}.inkml'.format(ink_name), output_path = new_directory  + '/{}.png'.format(ink_name.strip(\".inkml\").split(\"/\")[-1]))\n",
    "\n",
    "            #get traces:\n",
    "            trace_data = ink.get_traces_data(ink_name + \".inkml\")\n",
    "            traces_dict[ink_name] = trace_data\n",
<<<<<<< HEAD
    "        except:\n",
    "            bad_links.append(ink_name)\n",
    "#             print(exception_output)\n",
    "            print(ink_name)\n",
=======
    "        except Exception as e:\n",
    "            bad_links.append([ink_name, str(e)])\n",
    "            print(ink_name, str(e))\n",
    "            \n",
>>>>>>> b27ea62b169caef040ee16294a5b70a50846b259
    "    traces_labels = pd.Series(traces_dict)\n",
    "    file_prefix = str(new_directory.split('/')[-1])\n",
    "    traces_labels.to_csv(path_or_buf = new_directory + \"/\" + file_prefix + \"_traces.csv\", index = True, header = False)\n",
    "    \n",
    "if bad_links:\n",
    "    pd.DataFrame(bad_links, columns=['Filename', 'Exception']).to_csv(\"bad_links.csv\")\n",
    "        \n"
   ]
  },
  {
   "cell_type": "markdown",
   "metadata": {},
   "source": [
    "#### getting traces:"
   ]
  },
  {
   "cell_type": "markdown",
   "metadata": {},
   "source": [
    "just sample code to see how to get traces and output:"
   ]
  },
  {
   "cell_type": "code",
   "execution_count": null,
   "metadata": {},
   "outputs": [],
   "source": [
    "sample1 = ink_names[paths[0]][0]\n",
    "sample1\n",
    "sample2 = ink_names[paths[0]][1]\n",
    "sample2"
   ]
  },
  {
   "cell_type": "code",
   "execution_count": null,
   "metadata": {},
   "outputs": [],
   "source": [
    "hi = pd.Series({0: ink.get_traces_data(sample1 + \".inkml\"), 1: ink.get_traces_data(sample2 + \".inkml\")})\n",
    "hi.index = ink_names[paths[0]][:2]\n",
    "hi"
   ]
  }
 ],
 "metadata": {
  "kernelspec": {
   "display_name": "Python 3",
   "language": "python",
   "name": "python3"
  },
  "language_info": {
   "codemirror_mode": {
    "name": "ipython",
    "version": 3
   },
   "file_extension": ".py",
   "mimetype": "text/x-python",
   "name": "python",
   "nbconvert_exporter": "python",
   "pygments_lexer": "ipython3",
   "version": "3.7.2"
  }
 },
 "nbformat": 4,
 "nbformat_minor": 4
}
