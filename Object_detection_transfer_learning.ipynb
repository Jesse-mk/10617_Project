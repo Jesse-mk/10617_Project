{
  "nbformat": 4,
  "nbformat_minor": 0,
  "metadata": {
    "colab": {
      "name": "Object_detection_transfer_learning.ipynb",
      "provenance": [],
      "collapsed_sections": [],
      "toc_visible": true
    },
    "kernelspec": {
      "name": "python3",
      "display_name": "Python 3"
    },
    "accelerator": "GPU"
  },
  "cells": [
    {
      "cell_type": "markdown",
      "metadata": {
        "id": "8klcDIcZukRD"
      },
      "source": [
        "Transfer Learning Using https://towardsdatascience.com/building-your-own-object-detector-pytorch-vs-tensorflow-and-how-to-even-get-started-1d314691d4ae tutorial"
      ]
    },
    {
      "cell_type": "code",
      "metadata": {
        "id": "otOs-Bqvv97F",
        "outputId": "6d0b7b81-e398-4189-8104-402b34934f42",
        "colab": {
          "base_uri": "https://localhost:8080/"
        }
      },
      "source": [
        "!git clone https://github.com/pytorch/vision.git\n",
        "!cd vision\n",
        "!git checkout v0.3.0"
      ],
      "execution_count": 198,
      "outputs": [
        {
          "output_type": "stream",
          "text": [
            "fatal: destination path 'vision' already exists and is not an empty directory.\n",
            "fatal: not a git repository (or any of the parent directories): .git\n"
          ],
          "name": "stdout"
        }
      ]
    },
    {
      "cell_type": "code",
      "metadata": {
        "id": "AXsPg6Qkrab4"
      },
      "source": [
        "import pycocotools\n",
        "import numpy as np\n",
        "import pandas as pd\n",
        "import matplotlib.pyplot as plt\n",
        "import torch\n",
        "import torch.utils.data\n",
        "from PIL import Image\n",
        "import utils as until\n",
        "from torchvision.models.detection.faster_rcnn import FastRCNNPredictor\n",
        "import math\n",
        "import cv2\n",
        "import torch\n",
        "import torch.nn as nn\n",
        "import torch.nn.functional as F\n",
        "import torch.optim as optim\n",
        "import torchvision\n",
        "from torch.utils.data import Dataset, DataLoader\n",
        "from torchvision import transforms, utils\n",
        "import pickle\n",
        "\n",
        "# from torch.vision import enginetrain\n",
        "from engine import train_one_epoch, evaluate"
      ],
      "execution_count": 200,
      "outputs": []
    },
    {
      "cell_type": "markdown",
      "metadata": {
        "id": "trLrbsJvAD77"
      },
      "source": [
        "### Data preprocessing"
      ]
    },
    {
      "cell_type": "code",
      "metadata": {
        "id": "ctiNc45Ku7xv"
      },
      "source": [
        "import re\n",
        "cv2.startWindowThread()\n",
        "\n",
        "class ExpressionImageDataset(Dataset):\n",
        "    \"\"\"\n",
        "    An expression-level dataset.\n",
        "    \"\"\"\n",
        "    def __init__(self, pickle_file, transform=None, colab=True):\n",
        "        \"\"\"\n",
        "        Args:\n",
        "            pickle_file (string): Path to dataset pickle file.\n",
        "            transform (callable, optional): Optional transform to be applied\n",
        "                    on a sample.\n",
        "        \"\"\"\n",
        "        with open(pickle_file, 'rb') as f:\n",
        "            self.df_data = pd.DataFrame(pickle.load(f))\n",
        "            if colab:\n",
        "                self.df_data[\"img_path\"] = self.df_data[\"img_path\"].apply(lambda x:\"\".join(x.split(\"all_years\")[1:]))\n",
        "                self.df_data[\"img_path\"] = self.df_data[\"img_path\"].apply(lambda x: \"/content/drive/My Drive\"  +  re.sub(r'\\\\', \"/\", x))#/10617 Data\n",
        "                \n",
        "        # print(self.df_data['img_path'].iloc[0])\n",
        "\n",
        "        self.transform = transform\n",
        "    \n",
        "    def __len__(self):\n",
        "        return len(self.df_data)\n",
        "    \n",
        "    def __getitem__(self, idx):\n",
        "        if torch.is_tensor(idx):\n",
        "            idx = idx.tolist()\n",
        "            \n",
        "        row = self.df_data.iloc[idx]\n",
        "                \n",
        "        traces_data = row['traces_data']\n",
        "        img_path = row['img_path']\n",
        "        tokens = row['tokens']\n",
        "        latex = row['latex']\n",
        "        \n",
        "        # CV2 will read the image with white being 255 and black being 0, but since\n",
        "        # our token-level training set uses binary arrays to represent images, we\n",
        "        # need to binarize our image here as well.\n",
        "        image_raw = cv2.imread(img_path, cv2.IMREAD_GRAYSCALE)\n",
        "        image_binarized = cv2.threshold(image_raw, 127, 255, cv2.THRESH_BINARY)[1]\n",
        "        image_bitmap = image_binarized / 255.0 #change to be 1's and 0's\n",
        "        \n",
        "        sample = {\n",
        "            'image': image_binarized,\n",
        "            'image_bitmap': image_bitmap,\n",
        "            'traces_data': traces_data,\n",
        "            'tokens': tokens,\n",
        "            'latex': latex\n",
        "        }\n",
        "        \n",
        "        if self.transform:\n",
        "            sample = self.transform(sample)\n",
        "\n",
        "        return sample"
      ],
      "execution_count": 201,
      "outputs": []
    },
    {
      "cell_type": "code",
      "metadata": {
        "id": "YefeMGO2yPWq"
      },
      "source": [
        "train_exp_path = \"/content/drive/My Drive/train/Copy of train.pickle\" #10617 Data\n",
        "test_exp_path = '/content/drive/My Drive/test/Copy of test.pickle' #10617 Data/\n",
        "\n",
        "# print('train')\n",
        "train_exp_set = ExpressionImageDataset(train_exp_path)\n",
        "# print('test')\n",
        "test_exp_set = ExpressionImageDataset(test_exp_path)"
      ],
      "execution_count": 202,
      "outputs": []
    },
    {
      "cell_type": "code",
      "metadata": {
        "id": "Ci59aTT7yhM6"
      },
      "source": [
        "sample = train_exp_set.__getitem__(0)"
      ],
      "execution_count": 5,
      "outputs": []
    },
    {
      "cell_type": "code",
      "metadata": {
        "id": "u5Ea0rTYw1Qn",
        "outputId": "f2d6c24f-14da-447e-d192-e6efae095a21",
        "colab": {
          "base_uri": "https://localhost:8080/"
        }
      },
      "source": [
        "test_traces_data = train_exp_set[2]['traces_data']\n",
        "\n",
        "def get_traces_data_stats(traces_data):\n",
        "    all_coords = []\n",
        "    for pattern in traces_data:\n",
        "        for trace in pattern['trace_group']:\n",
        "            all_coords.extend(trace)\n",
        "        \n",
        "    all_coords = np.array(all_coords)\n",
        "    \n",
        "    x_min, y_min = np.min(all_coords, axis=0)\n",
        "    width, height = np.max(all_coords, axis=0) - [x_min, y_min] + 1\n",
        "    \n",
        "    return x_min, y_min, width, height\n",
        "\n",
        "def get_trace_group_bounding_box(trace_group):\n",
        "    all_coords = []\n",
        "    for t in trace_group:\n",
        "        all_coords.extend(t)\n",
        "        \n",
        "    all_coords = np.array(all_coords)\n",
        "    \n",
        "    x_min, y_min = np.min(all_coords, axis=0)\n",
        "    width, height = np.max(all_coords, axis=0) - [x_min, y_min] + 1\n",
        "    \n",
        "    return x_min, y_min, width, height\n",
        "    \n",
        "\n",
        "def draw_traces_data(traces_data):\n",
        "    im_x_min, im_y_min, width, height = get_traces_data_stats(traces_data)\n",
        "    \n",
        "    # Scale the image down.\n",
        "    max_dim = 1000 # Maximum dimension pre-pad.\n",
        "    sf = 1000 / max(height, width)\n",
        "    scaled_height = int(height * sf)\n",
        "    scaled_width = int(width * sf)\n",
        "    \n",
        "    image = np.ones((scaled_height, scaled_width))\n",
        "    \n",
        "    # Draw the traces on the unscaled image.\n",
        "    for pattern in traces_data:\n",
        "        for trace in pattern['trace_group']:\n",
        "            trace = np.array(trace)\n",
        "            trace -= np.array([im_x_min, im_y_min])\n",
        "            trace = (trace.astype(np.float64) * sf).astype(int)\n",
        "            \n",
        "            for coord_idx in range(1, len(trace)):\n",
        "                cv2.line(image, tuple(trace[coord_idx - 1]), tuple(trace[coord_idx]), color=(0), thickness=5)\n",
        "            \n",
        "    # Pad the scaled image.\n",
        "    pad_factor = 0.05\n",
        "    pad_width = ((int(pad_factor * scaled_height), int(pad_factor * scaled_height)), \n",
        "                 (int(pad_factor * scaled_width), int(pad_factor * scaled_width)))\n",
        "    image = np.pad(image, \n",
        "                     pad_width=pad_width, \n",
        "                     mode='constant', \n",
        "                     constant_values=1)\n",
        "    \n",
        "    # Binarize.\n",
        "    image = (image > 0).astype(int) \n",
        "    \n",
        "    # Open CV wants images to be between 0 and 255.\n",
        "    image *= 255\n",
        "    image = image.astype(np.uint8)\n",
        "    \n",
        "    boxes = []\n",
        "    \n",
        "    # Get bounding boxes.\n",
        "    for pattern in traces_data:\n",
        "        trace_group = pattern['trace_group']\n",
        "        rect_x_min, rect_y_min, rect_width, rect_height = get_trace_group_bounding_box(trace_group)\n",
        "        \n",
        "        rect_x_min = (rect_x_min - im_x_min) * sf + pad_width[1][0]\n",
        "        rect_y_min = (rect_y_min - im_y_min) * sf + pad_width[0][0]\n",
        "        \n",
        "        rect_width *= sf\n",
        "        rect_height *= sf\n",
        "        \n",
        "        # Convert bounding box coords to integers.\n",
        "        rect_x_min = int(rect_x_min)\n",
        "        rect_y_min = int(rect_y_min)\n",
        "        rect_width = int(rect_width)\n",
        "        rect_height = int(rect_height)\n",
        "            \n",
        "        boxes.append((rect_x_min, rect_y_min, rect_x_min + rect_width, rect_y_min + rect_height))\n",
        "    \n",
        "    return image, boxes\n",
        "    \n",
        "image, boxes = draw_traces_data(test_traces_data)\n",
        "print(image.shape)\n",
        "print(boxes)"
      ],
      "execution_count": 6,
      "outputs": [
        {
          "output_type": "stream",
          "text": [
            "(126, 1100)\n",
            "[(50, 15, 56, 102), (75, 31, 132, 113), (192, 18, 201, 116), (465, 21, 476, 121), (514, 27, 558, 115), (590, 29, 638, 108), (877, 12, 926, 109), (967, 5, 1049, 89), (281, 15, 373, 118), (690, 19, 805, 116)]\n"
          ],
          "name": "stdout"
        }
      ]
    },
    {
      "cell_type": "code",
      "metadata": {
        "id": "DD0QxgmI8gTV"
      },
      "source": [
        "true_image = np.array(image, copy=True)\n",
        "for box in true_boxes:\n",
        "    rect_x_min, rect_y_min, rect_width, rect_height = box\n",
        "    true_image = cv2.rectangle(true_image, \n",
        "                  (int(rect_x_min), int(rect_y_min)), \n",
        "                  (int(rect_x_min + rect_width), int(rect_y_min + rect_height)), \n",
        "                  (0), \n",
        "                  5)\n",
        "\n",
        "print('Image with true boxes:')\n",
        "plt.imshow(true_image, cmap='gray')\n",
        "plt.show()\n"
      ],
      "execution_count": null,
      "outputs": []
    },
    {
      "cell_type": "markdown",
      "metadata": {
        "id": "Q1yFM97x8Yra"
      },
      "source": [
        "### Making mini Object Recognition Dataset:\n"
      ]
    },
    {
      "cell_type": "markdown",
      "metadata": {
        "id": "354TeLUD52Ka"
      },
      "source": [
        "Make a Pickle that for objet detection which contains the numpy images (normalized) as well as the predicted boxes.\n",
        "\n",
        "In this case, a smaller dataframe was made just to test the model to see if the flow works. ( ~1000 examples). Other other notebook is run for the entire train/test set to get the entire dataset pickle.\n",
        "\n"
      ]
    },
    {
      "cell_type": "code",
      "metadata": {
        "id": "jRaEGlzp85EX",
        "outputId": "e104daa9-7c9c-4ec9-c70b-728a0f925b8d",
        "colab": {
          "base_uri": "https://localhost:8080/"
        }
      },
      "source": [
        "%%time\n",
        "box_list = []\n",
        "numpy_list = []\n",
        "\n",
        "short_len = 700 #not entire dataset\n",
        "\n",
        "for i in range(len(train_exp_set.df_data[:short_len])):\n",
        "    #get the specific row:\n",
        "    curr_row = train_exp_set[i]\n",
        "    test_traces_data = curr_row['traces_data']\n",
        "    #get trace data for row:\n",
        "    image, boxes = draw_traces_data(test_traces_data)\n",
        "\n",
        "    #double check right row:\n",
        "    if str(test_traces_data[0].values()) == str(train_exp_set.df_data.iloc[i][\"traces_data\"][0].values()): #check to make srue traces same:\n",
        "      #append to lists in order to later append to train df\n",
        "      box_list.append(boxes)\n",
        "      numpy_list.append(image)\n",
        "    else: #any errors?\n",
        "      print(\"error at line {}\".format(i))\n",
        "\n",
        "print(len(train_exp_set.df_data), len(box_list)) #shapes ?\n",
        "\n",
        "short_df = train_exp_set.df_data[:short_len].copy() #create a df (short since not entire dataset)"
      ],
      "execution_count": 203,
      "outputs": [
        {
          "output_type": "stream",
          "text": [
            "CPU times: user 5.44 s, sys: 356 ms, total: 5.79 s\n",
            "Wall time: 6.77 s\n"
          ],
          "name": "stdout"
        }
      ]
    },
    {
      "cell_type": "code",
      "metadata": {
        "id": "8yIrOmTgrt9T"
      },
      "source": [
        "### OHE: IS THIS EVEN NEEDED? ###\n",
        "from sklearn.preprocessing import OneHotEncoder as OHE\n",
        "\n",
        "#want OHE labels\n",
        "tokens = train_exp_set.df_data[\"tokens\"].sum()\n",
        "ohe_categories = pd.Series(tokens).unique()\n",
        "ohe_categories, len(ohe_categories)\n",
        "\n",
        "handle = \"ignore\" #or error or ignore... maybe ignore is safer\n",
        "\n",
        "ohe = OHE(categories = [np.array(sorted(ohe_categories))],  handle_unknown=handle)\n",
        "\n",
        "ohe_input = train_exp_set.df_data[\"tokens\"].apply(lambda x: ohe.fit_transform(np.array(x).reshape(-1,1)))"
      ],
      "execution_count": 11,
      "outputs": []
    },
    {
      "cell_type": "code",
      "metadata": {
        "id": "BQZeuHceYSBM"
      },
      "source": [
        "#add images, boxes and OHE labels to df\n",
        "short_df[\"true_location\"] = box_list\n",
        "short_df[\"numpy_image\"] = numpy_list\n",
        "short_df[\"labels\"] = ohe_input[:short_len]"
      ],
      "execution_count": 12,
      "outputs": []
    },
    {
      "cell_type": "code",
      "metadata": {
        "id": "FUqT5m0DYzRQ"
      },
      "source": [
        "test_split = round(short_len * .8) #split at around 80%\n",
        "\n",
        "#since only using training data, split into two dataframes/pickles for model work.\n",
        "short_df[[\"true_location\", \"numpy_image\", \"img_path\",\"tokens\", \"labels\"]][:test_split].to_pickle(\"train_short_2000_test_df.pkl\")\n",
        "short_df[[\"true_location\", \"numpy_image\", \"img_path\",\"tokens\", \"labels\"]][test_split:].to_pickle(\"test_short_2000_test_df.pkl\")"
      ],
      "execution_count": 13,
      "outputs": []
    },
    {
      "cell_type": "markdown",
      "metadata": {
        "id": "Hj_JE3e479Fc"
      },
      "source": [
        "### Pytorch object detection tutorial\n"
      ]
    },
    {
      "cell_type": "code",
      "metadata": {
        "id": "i32ugqMS777l"
      },
      "source": [
        "class ImageDataset(torch.utils.data.Dataset):\n",
        "  def __init__(self, path, data):\n",
        "    self.path = path\n",
        "    self.data = data\n",
        "    pickle_file = os.path.join(self.path, self.data)\n",
        "\n",
        "    with open(pickle_file, 'rb') as f:\n",
        "        self.df_data = pd.DataFrame(pickle.load(f))\n",
        "  def __getitem__(self, index):\n",
        "    row = self.df_data.iloc[index]\n",
        "    images = row[\"numpy_image\"]/255 #normalize images\n",
        "    height = images.shape[0]\n",
        "    width = images.shape[1]\n",
        "    pil_image = Image.fromarray(np.uint8(images))\n",
        "    images = torch.tensor(row[\"numpy_image\"]/255).view(1,height,width).float() #need to reshape to (C, H, W) but 1 channel so 1. also turn to float\n",
        "    images = images.view(1, height, width)\n",
        "\n",
        "    box = np.array(row[\"true_location\"])\n",
        "    # area = (box[:,2] - box[:,0]) * (box[:,3] - box[:,1])\n",
        "    #add buffer of boxes (since some boxes are width or height 0)\n",
        "    box[:,0] -=1\n",
        "    box[:,1] -=1\n",
        "    box[:,2] +=1\n",
        "    box[:,3] +=1\n",
        "\n",
        "    #how many objects?\n",
        "    num_classes = len(box)\n",
        "\n",
        "    img_info = {}\n",
        "    img_info[\"num_classes\"] = torch.tensor(num_classes) #more like how many boxes are present\n",
        "    img_info[\"boxes\"] = torch.tensor(box, dtype=torch.int32) #make boxes integers\n",
        "    img_info[\"image_index\"] = torch.tensor(index) #image number\n",
        "    # img_info[\"box_area\"] =  #do we want this\n",
        "    # img_info[\"tokens\"] = torch.tensor(row[\"tokens\"])\n",
        "    img_info[\"labels\"] = torch.tensor(row[\"labels\"].toarray().sum(axis=0), dtype=torch.int64) #make labels ints\n",
        "\n",
        "    return images, img_info\n",
        "\n",
        "  def __len__(self):\n",
        "    return len(self.df_data)\n",
        "    \n",
        "\n",
        "\n",
        "\n",
        "\n",
        "    "
      ],
      "execution_count": 107,
      "outputs": []
    },
    {
      "cell_type": "code",
      "metadata": {
        "id": "cw1cSFSSQcOs"
      },
      "source": [
        "import os\n",
        "obj_train_pickle = \"train_short_2000_test_df.pkl\"\n",
        "obj_test_pickle = \"test_short_2000_test_df.pkl\"\n",
        "\n",
        "train_img_data = ImageDataset(\"/content\", \"train_short_2000_test_df.pkl\") \n",
        "test_img_data = ImageDataset(\"/content\", \"test_short_2000_test_df.pkl\") "
      ],
      "execution_count": 205,
      "outputs": []
    },
    {
      "cell_type": "markdown",
      "metadata": {
        "id": "oIczJEW3i_q1"
      },
      "source": [
        "### Modeling\n",
        "using pretrained resnet 50\n"
      ]
    },
    {
      "cell_type": "code",
      "metadata": {
        "id": "iT_lj5YpaetP"
      },
      "source": [
        "#pretrained model\n",
        "mod = torchvision.models.detection.fasterrcnn_resnet50_fpn(pretrained=True) #want pretrained\n",
        "model = mod.float() #keep float or double consistent"
      ],
      "execution_count": 110,
      "outputs": []
    },
    {
      "cell_type": "code",
      "metadata": {
        "id": "hiqrqFWXgftv"
      },
      "source": [
        "#changing the model:\n",
        "num_classes = 101 #is this the right thing to divide by?\n",
        "\n",
        "#number of input features:\n",
        "input_features = model.roi_heads.box_predictor.cls_score.in_features\n",
        "\n",
        "#change last layer\n",
        "model.roi_heads.box_predictor = FastRCNNPredictor(input_features, num_classes) #output number of classes based on number of tokens\n"
      ],
      "execution_count": 111,
      "outputs": []
    },
    {
      "cell_type": "code",
      "metadata": {
        "id": "LyIlEtXmlU71"
      },
      "source": [
        "#put data into dataloaders:\n",
        "batch_size = 4\n",
        "shuffle = False\n",
        "num_workers = 1\n",
        "\n",
        "#preparing data\n",
        "train_loader = torch.utils.data.DataLoader(\n",
        "    train_img_data, batch_size = batch_size, shuffle = shuffle, num_workers = num_workers, collate_fn=until.collate_fn #need this to have images of different size\n",
        ")\n",
        "test_loader = torch.utils.data.DataLoader(\n",
        "    test_img_data, batch_size = batch_size, shuffle = shuffle, num_workers = num_workers, collate_fn=until.collate_fn\n",
        ")"
      ],
      "execution_count": 134,
      "outputs": []
    },
    {
      "cell_type": "code",
      "metadata": {
        "id": "a21EV5D5mBSt",
        "outputId": "6801f144-f155-4ea7-b577-523af4e4a17e",
        "colab": {
          "base_uri": "https://localhost:8080/"
        }
      },
      "source": [
        "print(len(train_loader), len(test_loader))\n",
        "\n",
        "#also collect garbage and throw out!\n",
        "import gc\n",
        "gc.collect()"
      ],
      "execution_count": 127,
      "outputs": [
        {
          "output_type": "execute_result",
          "data": {
            "text/plain": [
              "(63, 25)"
            ]
          },
          "metadata": {
            "tags": []
          },
          "execution_count": 127
        }
      ]
    },
    {
      "cell_type": "markdown",
      "metadata": {
        "id": "1w0PxV6y9tpB"
      },
      "source": [
        "### Training the model"
      ]
    },
    {
      "cell_type": "code",
      "metadata": {
        "id": "Fe9eWUG7mHyw"
      },
      "source": [
        "#see if available device (GPU)\n",
        "torch.cuda.is_available()\n",
        "device = torch.device(\"cuda\")\n",
        "\n",
        "#move to device\n",
        "model.to(device)\n",
        "\n",
        "#optimizer:\n",
        "optimizer = torch.optim.Adam(model.parameters(), lr = 0.001)\n",
        "\n",
        "#they added in a lr scheduler, should we do that?"
      ],
      "execution_count": 128,
      "outputs": []
    },
    {
      "cell_type": "code",
      "metadata": {
        "id": "byho-ZWSw35I",
        "outputId": "00a3a803-2cb3-4ed0-bdc9-9e1daee67cf4",
        "colab": {
          "base_uri": "https://localhost:8080/"
        }
      },
      "source": [
        "#train for certain number of epochs (verbose)\n",
        "epochs = 5\n",
        "model = model.float()\n",
        "train_one_epoch(model, optimizer, train_loader, device=device, epoch=epochs, print_freq=100)"
      ],
      "execution_count": 138,
      "outputs": [
        {
          "output_type": "stream",
          "text": [
            "first one\n",
            "Epoch: [5]  [  0/125]  eta: 0:03:04  lr: 0.001000  loss: 7.4827 (7.4827)  loss_classifier: 4.6639 (4.6639)  loss_box_reg: 0.2808 (0.2808)  loss_objectness: 2.2009 (2.2009)  loss_rpn_box_reg: 0.3372 (0.3372)  time: 1.4747  data: 0.1449  max mem: 13886\n",
            "first one\n",
            "first one\n",
            "first one\n",
            "first one\n",
            "first one\n",
            "first one\n",
            "first one\n",
            "first one\n",
            "first one\n",
            "first one\n",
            "Epoch: [5]  [ 10/125]  eta: 0:01:57  lr: 0.001000  loss: 1.8763 (6.5987)  loss_classifier: 0.5337 (1.2473)  loss_box_reg: 0.2350 (0.3723)  loss_objectness: 0.5137 (4.3197)  loss_rpn_box_reg: 0.2839 (0.6595)  time: 1.0222  data: 0.0224  max mem: 13886\n",
            "first one\n",
            "first one\n",
            "first one\n",
            "first one\n",
            "first one\n",
            "first one\n",
            "first one\n",
            "first one\n",
            "first one\n",
            "first one\n",
            "Epoch: [5]  [ 20/125]  eta: 0:01:52  lr: 0.001000  loss: 1.2225 (3.9074)  loss_classifier: 0.3373 (0.7752)  loss_box_reg: 0.1407 (0.2661)  loss_objectness: 0.3354 (2.4004)  loss_rpn_box_reg: 0.2402 (0.4657)  time: 1.0463  data: 0.0103  max mem: 13886\n",
            "first one\n",
            "first one\n",
            "first one\n",
            "first one\n",
            "first one\n",
            "first one\n",
            "first one\n",
            "first one\n",
            "first one\n",
            "first one\n",
            "Epoch: [5]  [ 30/125]  eta: 0:01:43  lr: 0.001000  loss: 0.8029 (2.9165)  loss_classifier: 0.1339 (0.5605)  loss_box_reg: 0.0850 (0.2061)  loss_objectness: 0.2508 (1.7189)  loss_rpn_box_reg: 0.2678 (0.4310)  time: 1.1226  data: 0.0107  max mem: 13886\n",
            "first one\n",
            "first one\n",
            "first one\n",
            "first one\n",
            "first one\n",
            "first one\n",
            "first one\n",
            "first one\n",
            "first one\n",
            "first one\n",
            "Epoch: [5]  [ 40/125]  eta: 0:01:27  lr: 0.001000  loss: 0.6813 (2.3764)  loss_classifier: 0.1496 (0.4704)  loss_box_reg: 0.0981 (0.1859)  loss_objectness: 0.2317 (1.3474)  loss_rpn_box_reg: 0.2319 (0.3727)  time: 0.9924  data: 0.0104  max mem: 13886\n",
            "first one\n",
            "first one\n",
            "first one\n",
            "first one\n",
            "first one\n",
            "first one\n",
            "first one\n",
            "first one\n",
            "first one\n",
            "first one\n",
            "Epoch: [5]  [ 50/125]  eta: 0:01:14  lr: 0.001000  loss: 0.7734 (2.0710)  loss_classifier: 0.1847 (0.4135)  loss_box_reg: 0.1175 (0.1723)  loss_objectness: 0.2053 (1.1392)  loss_rpn_box_reg: 0.1871 (0.3459)  time: 0.8489  data: 0.0100  max mem: 13886\n",
            "first one\n",
            "first one\n",
            "first one\n",
            "first one\n",
            "first one\n",
            "first one\n",
            "first one\n",
            "first one\n",
            "first one\n",
            "first one\n",
            "Epoch: [5]  [ 60/125]  eta: 0:01:02  lr: 0.001000  loss: 0.9104 (1.8886)  loss_classifier: 0.1538 (0.3680)  loss_box_reg: 0.0848 (0.1565)  loss_objectness: 0.2744 (0.9994)  loss_rpn_box_reg: 0.3284 (0.3646)  time: 0.8255  data: 0.0104  max mem: 13886\n",
            "first one\n",
            "first one\n",
            "first one\n",
            "first one\n",
            "first one\n",
            "first one\n",
            "first one\n",
            "first one\n",
            "first one\n",
            "first one\n",
            "Epoch: [5]  [ 70/125]  eta: 0:00:52  lr: 0.001000  loss: 0.9155 (1.7272)  loss_classifier: 0.1300 (0.3335)  loss_box_reg: 0.0699 (0.1438)  loss_objectness: 0.2441 (0.8920)  loss_rpn_box_reg: 0.3839 (0.3579)  time: 0.8671  data: 0.0104  max mem: 13886\n",
            "first one\n",
            "first one\n",
            "first one\n",
            "first one\n",
            "first one\n",
            "first one\n",
            "first one\n",
            "first one\n",
            "first one\n",
            "first one\n",
            "Epoch: [5]  [ 80/125]  eta: 0:00:42  lr: 0.001000  loss: 0.7466 (1.6128)  loss_classifier: 0.1313 (0.3103)  loss_box_reg: 0.0694 (0.1350)  loss_objectness: 0.2098 (0.8074)  loss_rpn_box_reg: 0.3036 (0.3602)  time: 0.8876  data: 0.0101  max mem: 13886\n",
            "first one\n",
            "first one\n",
            "first one\n",
            "first one\n",
            "first one\n",
            "first one\n",
            "first one\n",
            "first one\n",
            "first one\n",
            "first one\n",
            "Epoch: [5]  [ 90/125]  eta: 0:00:32  lr: 0.001000  loss: 0.8512 (1.5251)  loss_classifier: 0.1685 (0.2962)  loss_box_reg: 0.0871 (0.1314)  loss_objectness: 0.1888 (0.7386)  loss_rpn_box_reg: 0.3855 (0.3589)  time: 0.8826  data: 0.0103  max mem: 13886\n",
            "first one\n",
            "first one\n",
            "first one\n",
            "first one\n",
            "first one\n",
            "first one\n",
            "first one\n",
            "first one\n",
            "first one\n",
            "first one\n",
            "Epoch: [5]  [100/125]  eta: 0:00:23  lr: 0.001000  loss: 0.8395 (1.4576)  loss_classifier: 0.1890 (0.2871)  loss_box_reg: 0.1148 (0.1314)  loss_objectness: 0.1637 (0.6812)  loss_rpn_box_reg: 0.3563 (0.3580)  time: 0.8936  data: 0.0102  max mem: 13886\n",
            "first one\n",
            "first one\n",
            "first one\n",
            "first one\n",
            "first one\n",
            "first one\n",
            "first one\n",
            "first one\n",
            "first one\n",
            "first one\n",
            "Epoch: [5]  [110/125]  eta: 0:00:14  lr: 0.001000  loss: 0.8428 (1.4015)  loss_classifier: 0.2106 (0.2808)  loss_box_reg: 0.1472 (0.1334)  loss_objectness: 0.1442 (0.6357)  loss_rpn_box_reg: 0.3010 (0.3516)  time: 0.8967  data: 0.0102  max mem: 13886\n",
            "first one\n",
            "first one\n",
            "first one\n",
            "first one\n",
            "first one\n",
            "first one\n",
            "first one\n",
            "first one\n",
            "first one\n",
            "first one\n",
            "Epoch: [5]  [120/125]  eta: 0:00:04  lr: 0.001000  loss: 0.8439 (1.3559)  loss_classifier: 0.1960 (0.2750)  loss_box_reg: 0.1408 (0.1347)  loss_objectness: 0.1334 (0.5939)  loss_rpn_box_reg: 0.3018 (0.3524)  time: 0.9937  data: 0.0104  max mem: 13886\n",
            "first one\n",
            "first one\n",
            "first one\n",
            "first one\n",
            "Epoch: [5]  [124/125]  eta: 0:00:00  lr: 0.001000  loss: 0.8438 (1.3384)  loss_classifier: 0.1940 (0.2733)  loss_box_reg: 0.1399 (0.1349)  loss_objectness: 0.1334 (0.5789)  loss_rpn_box_reg: 0.2764 (0.3513)  time: 0.9844  data: 0.0103  max mem: 13886\n",
            "Epoch: [5] Total time: 0:01:57 (0.9422 s / it)\n"
          ],
          "name": "stdout"
        },
        {
          "output_type": "execute_result",
          "data": {
            "text/plain": [
              "<utils.MetricLogger at 0x7f253534c080>"
            ]
          },
          "metadata": {
            "tags": []
          },
          "execution_count": 138
        }
      ]
    },
    {
      "cell_type": "markdown",
      "metadata": {
        "id": "Zv53pXVC_vik"
      },
      "source": [
        "### Predictions"
      ]
    },
    {
      "cell_type": "code",
      "metadata": {
        "id": "7-BWGJvOoX1Y"
      },
      "source": [
        "#set model to eval mode:\n",
        "model.eval()\n",
        "\n",
        "#sample to get prediction of\n",
        "index = 3\n",
        "test_img = train_img_data[index][0].to(\"cuda\")\n",
        "test_img\n",
        "\n",
        "#get model predictions\n",
        "with torch.no_grad():\n",
        "  prediction = model([test_img])"
      ],
      "execution_count": 192,
      "outputs": []
    },
    {
      "cell_type": "code",
      "metadata": {
        "id": "KH4kj2HvpRFl",
        "outputId": "d198468e-8655-41db-cedb-aeca0797694d",
        "colab": {
          "base_uri": "https://localhost:8080/",
          "height": 100
        }
      },
      "source": [
        "#plot prediction over image:\n",
        "test_img = train_img_data[index][0].to(\"cpu\")\n",
        "\n",
        "true_image = test_img.numpy().squeeze(0)\n",
        "\n",
        "# true_image = np.array(image, copy=True)\n",
        "for testbox in prediction[0][\"boxes\"]:\n",
        "\n",
        "    #maybe image off so multiply by scaling factor??\n",
        "    sf = 1 #normal\n",
        "\n",
        "    xmin = testbox[0] * sf\n",
        "    ymin = testbox[1] * sf\n",
        "    xmax = testbox[2] * sf\n",
        "    xmax = testbox[3] * sf\n",
        "\n",
        "    rect_x_min, rect_y_min, rect_width, rect_height = box\n",
        "    true_image = cv2.rectangle(true_image, \n",
        "                  (int(xmin), int(ymin)), \n",
        "                  (int(xmax), int(ymax)), \n",
        "                  (0), \n",
        "                  2)\n",
        "\n",
        "print('Image with true boxes:')\n",
        "plt.figure()\n",
        "plt.imshow(true_image, cmap='gray')\n",
        "plt.show()\n"
      ],
      "execution_count": 209,
      "outputs": [
        {
          "output_type": "stream",
          "text": [
            "Image with true boxes:\n"
          ],
          "name": "stdout"
        },
        {
          "output_type": "display_data",
          "data": {
            "image/png": "[encoded data removed]",
            "text/plain": [
              "<Figure size 432x288 with 1 Axes>"
            ]
          },
          "metadata": {
            "tags": [],
            "needs_background": "light"
          }
        }
      ]
    },
    {
      "cell_type": "markdown",
      "metadata": {
        "id": "pL2qFOG1-fQB"
      },
      "source": [
        "### TODO:\n",
        "* i think the model converts to pil image which may be why bounding boxes are so off... Because boxes are based on numpy not pil image...\n",
        "* drop OHE for labels... How do we also denote there's >1 of a certain symbol??\n",
        "* train for longer on a validation set (didn't use test data at all)."
      ]
    },
    {
      "cell_type": "markdown",
      "metadata": {
        "id": "kokUGu7m-EdQ"
      },
      "source": [
        "### Scratch:"
      ]
    },
    {
      "cell_type": "code",
      "metadata": {
        "id": "lcBllI6E-BjY"
      },
      "source": [
        "#testing specific inputs with the model\n",
        "targets = [ train_img_data[2][1], train_img_data[1][1] ]\n",
        "images = [ train_img_data[1][0].view(1,70, 1097).float().to(device), new_img.view(1,715, 1100).float().to(device)]\n",
        "images = list(image.to(device) for image in images)\n",
        "targets = [{k: v.to(device) for k, v in t.items()} for t in targets]\n",
        "\n",
        "m = model.float()\n",
        "m(images, targets)"
      ],
      "execution_count": null,
      "outputs": []
    },
    {
      "cell_type": "code",
      "metadata": {
        "id": "PyKafRzjZ17J",
        "outputId": "5f9e3eea-8780-45ce-8b03-40a3fd88d141",
        "colab": {
          "base_uri": "https://localhost:8080/",
          "height": 154
        }
      },
      "source": [
        "#check to see if pil image will keep the bounding boxes the same... I don't think so.\n",
        "\n",
        "from PIL import ImageDraw\n",
        "# [597.8450317382812, 47.35714340209961, 609.9963989257812, 49.35714340209961] \n",
        "xmin = 596.8450317382812\n",
        "ymin =  46.35714340209961\n",
        "xmax =  610.9963989257812\n",
        "ymax = 48.35714340209961\n",
        "tester = Image.fromarray(image)\n",
        "draw = ImageDraw.Draw(tester)\n",
        "draw.rectangle([(xmin, ymin), (xmax, ymax)], outline ='red')\n",
        "tester"
      ],
      "execution_count": 206,
      "outputs": [
        {
          "output_type": "execute_result",
          "data": {
            "image/png": "[encoded data removed]",
            "text/plain": [
              "<PIL.Image.Image image mode=L size=1100x138 at 0x7F25C67382E8>"
            ]
          },
          "metadata": {
            "tags": []
          },
          "execution_count": 206
        }
      ]
    },
    {
      "cell_type": "code",
      "metadata": {
        "id": "-cRcfX6v_-Ql"
      },
      "source": [
        "def train_one_epoch(model, optimizer, data_loader, device, epoch, print_freq):\n",
        "    \"\"\"Training loop copied from https://github.com/pytorch/vision/blob/master/references/detection/engine.py \"\"\"\n",
        "    model.train()\n",
        "    metric_logger = until.MetricLogger(delimiter=\"  \")\n",
        "    metric_logger.add_meter('lr', until.SmoothedValue(window_size=1, fmt='{value:.6f}'))\n",
        "    header = 'Epoch: [{}]'.format(epoch)\n",
        "\n",
        "    lr_scheduler = None\n",
        "    if epoch == 0:\n",
        "        warmup_factor = 1. / 1000\n",
        "        warmup_iters = min(1000, len(data_loader) - 1)\n",
        "\n",
        "        lr_scheduler = until.warmup_lr_scheduler(optimizer, warmup_iters, warmup_factor)\n",
        "\n",
        "    for images, targets in metric_logger.log_every(data_loader, print_freq, header):\n",
        "\n",
        "        images = list(image.to(device) for image in images)\n",
        "        targets = [{k: v.to(device) for k, v in t.items()} for t in targets]\n",
        "\n",
        "        loss_dict = model(images, targets)\n",
        "\n",
        "        losses = sum(loss for loss in loss_dict.values())\n",
        "\n",
        "        # reduce losses over all GPUs for logging purposes\n",
        "        loss_dict_reduced = until.reduce_dict(loss_dict)\n",
        "        losses_reduced = sum(loss for loss in loss_dict_reduced.values())\n",
        "\n",
        "        loss_value = losses_reduced.item()\n",
        "\n",
        "        if not math.isfinite(loss_value):\n",
        "            print(\"Loss is {}, stopping training\".format(loss_value))\n",
        "            print(loss_dict_reduced)\n",
        "            sys.exit(1)\n",
        "\n",
        "        optimizer.zero_grad()\n",
        "        losses.backward()\n",
        "        optimizer.step()\n",
        "\n",
        "        if lr_scheduler is not None:\n",
        "            lr_scheduler.step()\n",
        "\n",
        "        metric_logger.update(loss=losses_reduced, **loss_dict_reduced)\n",
        "        metric_logger.update(lr=optimizer.param_groups[0][\"lr\"])\n",
        "\n",
        "    return metric_logger\n"
      ],
      "execution_count": null,
      "outputs": []
    }
  ]
}