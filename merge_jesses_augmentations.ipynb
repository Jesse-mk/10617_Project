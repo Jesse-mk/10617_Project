{
 "cells": [
  {
   "cell_type": "markdown",
   "metadata": {},
   "source": [
    "Notebook to merge Jesse's augmentations (shear and rotate)."
   ]
  },
  {
   "cell_type": "code",
   "execution_count": 1,
   "metadata": {},
   "outputs": [],
   "source": [
    "import os\n",
    "import pickle"
   ]
  },
  {
   "cell_type": "code",
   "execution_count": 2,
   "metadata": {},
   "outputs": [],
   "source": [
    "tokens_dir = os.path.join(os.getcwd(), 'data', 'tokens')"
   ]
  },
  {
   "cell_type": "code",
   "execution_count": 3,
   "metadata": {},
   "outputs": [],
   "source": [
    "def merge_aug_train_pickles(folder):\n",
    "    merged_records = []\n",
    "    \n",
    "    for file in ['train.pickle', 'transformed_train.pickle']:\n",
    "        with open(os.path.join(folder, file), 'rb') as f:\n",
    "            data = pickle.load(f)\n",
    "            merged_records.extend(data)\n",
    "            \n",
    "    with open(os.path.join(folder, 'train.pickle'), 'wb') as f:\n",
    "        pickle.dump(merged_records, f)\n",
    "        \n",
    "    print(f'{len(merged_records)} examples total.')"
   ]
  },
  {
   "cell_type": "code",
   "execution_count": 4,
   "metadata": {},
   "outputs": [
    {
     "name": "stdout",
     "output_type": "stream",
     "text": [
      "185952 examples total.\n",
      "Wall time: 12.5 s\n"
     ]
    }
   ],
   "source": [
    "%%time\n",
    "merge_aug_train_pickles(os.path.join(tokens_dir, 'b=96_train=2011,2013_test=2012_c=all_t=5_rotate'))"
   ]
  },
  {
   "cell_type": "code",
   "execution_count": 5,
   "metadata": {},
   "outputs": [
    {
     "name": "stdout",
     "output_type": "stream",
     "text": [
      "185952 examples total.\n",
      "Wall time: 12.9 s\n"
     ]
    }
   ],
   "source": [
    "%%time\n",
    "merge_aug_train_pickles(os.path.join(tokens_dir, 'b=96_train=2011,2013_test=2012_c=all_t=5_shear'))"
   ]
  },
  {
   "cell_type": "code",
   "execution_count": 4,
   "metadata": {},
   "outputs": [
    {
     "name": "stdout",
     "output_type": "stream",
     "text": [
      "557856 examples total.\n",
      "Wall time: 1min 8s\n"
     ]
    }
   ],
   "source": [
    "%%time\n",
    "merge_aug_train_pickles(os.path.join(tokens_dir, 'b=96_train=2011,2013_test=2012_c=all_t=3,5,7_rotate'))"
   ]
  },
  {
   "cell_type": "code",
   "execution_count": 5,
   "metadata": {},
   "outputs": [
    {
     "name": "stdout",
     "output_type": "stream",
     "text": [
      "557856 examples total.\n",
      "Wall time: 1min 39s\n"
     ]
    }
   ],
   "source": [
    "%%time\n",
    "merge_aug_train_pickles(os.path.join(tokens_dir, 'b=96_train=2011,2013_test=2012_c=all_t=3,5,7_shear'))"
   ]
  },
  {
   "cell_type": "code",
   "execution_count": null,
   "metadata": {},
   "outputs": [],
   "source": [
    "%%time\n",
    "merge_aug_train_pickles(os.path.join(tokens_dir, 'b=96_train=2011,2013_test=2012_c=all_t=1,3,5,7,9_rotate'))"
   ]
  },
  {
   "cell_type": "code",
   "execution_count": 9,
   "metadata": {},
   "outputs": [
    {
     "name": "stdout",
     "output_type": "stream",
     "text": [
      "619656 examples total.\n",
      "Wall time: 2min 43s\n"
     ]
    }
   ],
   "source": [
    "%%time\n",
    "merge_aug_train_pickles(os.path.join(tokens_dir, 'b=96_train=2011,2013_test=2012_c=all_t=1,3,5,7,9_shear'))"
   ]
  },
  {
   "cell_type": "code",
   "execution_count": null,
   "metadata": {},
   "outputs": [],
   "source": []
  }
 ],
 "metadata": {
  "kernelspec": {
   "display_name": "Python 3",
   "language": "python",
   "name": "python3"
  },
  "language_info": {
   "codemirror_mode": {
    "name": "ipython",
    "version": 3
   },
   "file_extension": ".py",
   "mimetype": "text/x-python",
   "name": "python",
   "nbconvert_exporter": "python",
   "pygments_lexer": "ipython3",
   "version": "3.7.2"
  }
 },
 "nbformat": 4,
 "nbformat_minor": 4
}
