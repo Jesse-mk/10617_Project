{
 "cells": [
  {
   "cell_type": "code",
   "execution_count": 42,
   "metadata": {},
   "outputs": [],
   "source": [
    "import numpy as np\n",
    "import os\n",
    "import pickle\n",
    "from pathlib import Path\n",
    "from tqdm.notebook import tqdm"
   ]
  },
  {
   "cell_type": "code",
   "execution_count": 6,
   "metadata": {},
   "outputs": [],
   "source": [
    "crohme_output_dir = os.path.join(os.getcwd(), 'data', 'crohme_extractor_outputs')"
   ]
  },
  {
   "cell_type": "code",
   "execution_count": 43,
   "metadata": {},
   "outputs": [],
   "source": [
    "def merge(train_dirs, test_dirs):    \n",
    "    all_class_files = []\n",
    "    all_class_files.extend([os.path.join(d, 'classes.txt') for d in train_dirs])\n",
    "    all_class_files.extend([os.path.join(d, 'classes.txt') for d in test_dirs])\n",
    "    \n",
    "    # Merge all the tokens from the different classes.txt into a single mapping.\n",
    "    # This is to account for the fact that crohme extractor ignores some traces\n",
    "    # if they're too small, so different stroke widths may have different classes.\n",
    "    all_tokens = set()\n",
    "    for p in all_class_files:\n",
    "        curr_classes = classes = np.array(open(p, 'r').read().split())\n",
    "        all_tokens.update(curr_classes)\n",
    "        \n",
    "    # Unified token-to-int mapping across all datasets.\n",
    "    token_to_int = {t:i for i, t in enumerate(sorted(list(all_tokens)))}\n",
    "    \n",
    "    \n",
    "    # Merge training datasets.\n",
    "    merged_train_data = []\n",
    "    for d in tqdm(train_dirs, desc='Merge train'):\n",
    "        classes_path = os.path.join(d, 'classes.txt')\n",
    "        data_path = os.path.join(d, 'train', 'train.pickle')\n",
    "        \n",
    "        curr_classes = classes = np.array(open(classes_path, 'r').read().split())\n",
    "        \n",
    "        with open(data_path, 'rb') as f:\n",
    "            data = pickle.load(f)\n",
    "        \n",
    "        # Convert labels from one-hot vectors -> the actual token string.\n",
    "        for row in data:\n",
    "            class_idx = np.argmax(row['label'])\n",
    "            class_token = classes[class_idx]\n",
    "            row['label'] = token_to_int[class_token]\n",
    "            \n",
    "            merged_train_data.append(row)\n",
    "            \n",
    "    \n",
    "    # Merge test datasets.\n",
    "    merged_test_data = []\n",
    "    for d in tqdm(test_dirs, desc='Merge test'):\n",
    "        classes_path = os.path.join(d, 'classes.txt')\n",
    "        data_path = os.path.join(d, 'train', 'train.pickle')\n",
    "        \n",
    "        curr_classes = classes = np.array(open(classes_path, 'r').read().split())\n",
    "        \n",
    "        with open(data_path, 'rb') as f:\n",
    "            data = pickle.load(f)\n",
    "        \n",
    "        # Convert labels from one-hot vectors -> the actual token string.\n",
    "        for row in data:\n",
    "            class_idx = np.argmax(row['label'])\n",
    "            class_token = classes[class_idx]\n",
    "            row['label'] = token_to_int[class_token]\n",
    "            \n",
    "            merged_test_data.append(row)\n",
    "            \n",
    "            \n",
    "    int_to_token = {i:t for t, i in token_to_int.items()}\n",
    "            \n",
    "    return merged_train_data, merged_test_data, int_to_token\n",
    "\n",
    "def create_token_dataset(t_vals):\n",
    "    t_val_str = \",\".join(str(t) for t in t_vals)\n",
    "    save_dir = os.path.join(os.getcwd(), 'data', 'tokens', f'b=96_train=2011,2013_test=2012_c=all_t={t_val_str}')\n",
    "    Path(save_dir).mkdir(parents=True, exist_ok=True)\n",
    "    \n",
    "    train_dirs = [os.path.join(crohme_output_dir, f'b=96_d=2011,2013_t={t}') for t in t_vals]\n",
    "    test_dirs = [os.path.join(crohme_output_dir, f'b=96_d=2012_t={t}') for t in t_vals]\n",
    "    \n",
    "    merged_train_data, merged_test_data, int_to_token = merge(train_dirs=train_dirs, test_dirs=test_dirs)\n",
    "    \n",
    "    print(f'{len(merged_train_data)} training examples.')\n",
    "    print(f'{len(merged_test_data)} training examples.')\n",
    "    print(f'{len(int_to_token)} total classes.')\n",
    "    \n",
    "    train_write_path = os.path.join(save_dir, 'train.pickle')\n",
    "    test_write_path = os.path.join(save_dir, 'test.pickle')\n",
    "    int_to_token_write_path = os.path.join(save_dir, 'int_to_token.pickle')\n",
    "    \n",
    "    with open(train_write_path, 'wb') as f:\n",
    "        pickle.dump(merged_train_data, f)\n",
    "        \n",
    "    with open(test_write_path, 'wb') as f:\n",
    "        pickle.dump(merged_test_data, f)\n",
    "        \n",
    "    with open(int_to_token_write_path, 'wb') as f:\n",
    "        pickle.dump(int_to_token, f)\n",
    "              \n",
    "    print(f'Wrote train set to {train_write_path}.')\n",
    "    print(f'Wrote test set to {test_write_path}.')\n",
    "    print(f'Wrote int-to-token dict to {int_to_token_write_path}.')"
   ]
  },
  {
   "cell_type": "code",
   "execution_count": 44,
   "metadata": {},
   "outputs": [
    {
     "data": {
      "application/vnd.jupyter.widget-view+json": {
       "model_id": "62ad88e8a31041748833e74eeead8495",
       "version_major": 2,
       "version_minor": 0
      },
      "text/plain": [
       "HBox(children=(HTML(value='Merge train'), FloatProgress(value=0.0, max=1.0), HTML(value='')))"
      ]
     },
     "metadata": {},
     "output_type": "display_data"
    },
    {
     "name": "stdout",
     "output_type": "stream",
     "text": [
      "\n"
     ]
    },
    {
     "data": {
      "application/vnd.jupyter.widget-view+json": {
       "model_id": "2946e4fa700d44a5a3e7d057755f09c2",
       "version_major": 2,
       "version_minor": 0
      },
      "text/plain": [
       "HBox(children=(HTML(value='Merge test'), FloatProgress(value=0.0, max=1.0), HTML(value='')))"
      ]
     },
     "metadata": {},
     "output_type": "display_data"
    },
    {
     "name": "stdout",
     "output_type": "stream",
     "text": [
      "\n",
      "61984 training examples.\n",
      "16707 training examples.\n",
      "101 total classes.\n",
      "Wrote train set to C:\\Users\\Jamin Chen\\Development\\10617_Project\\data\\tokens\\b=96_train=2011,2013_test=2012_c=all_t=5\\train.pickle.\n",
      "Wrote test set to C:\\Users\\Jamin Chen\\Development\\10617_Project\\data\\tokens\\b=96_train=2011,2013_test=2012_c=all_t=5\\test.pickle.\n",
      "Wrote int-to-token dict to C:\\Users\\Jamin Chen\\Development\\10617_Project\\data\\tokens\\b=96_train=2011,2013_test=2012_c=all_t=5\\int_to_token.pickle.\n",
      "Wall time: 6.7 s\n"
     ]
    }
   ],
   "source": [
    "%%time\n",
    "\n",
    "create_token_dataset(t_vals=[5])"
   ]
  },
  {
   "cell_type": "code",
   "execution_count": 45,
   "metadata": {},
   "outputs": [
    {
     "data": {
      "application/vnd.jupyter.widget-view+json": {
       "model_id": "1b5321751c5f4fe991f1d8edabaf449c",
       "version_major": 2,
       "version_minor": 0
      },
      "text/plain": [
       "HBox(children=(HTML(value='Merge train'), FloatProgress(value=0.0, max=3.0), HTML(value='')))"
      ]
     },
     "metadata": {},
     "output_type": "display_data"
    },
    {
     "name": "stdout",
     "output_type": "stream",
     "text": [
      "\n"
     ]
    },
    {
     "data": {
      "application/vnd.jupyter.widget-view+json": {
       "model_id": "4d75d316a40446d8a641201a0a96c0ee",
       "version_major": 2,
       "version_minor": 0
      },
      "text/plain": [
       "HBox(children=(HTML(value='Merge test'), FloatProgress(value=0.0, max=3.0), HTML(value='')))"
      ]
     },
     "metadata": {},
     "output_type": "display_data"
    },
    {
     "name": "stdout",
     "output_type": "stream",
     "text": [
      "\n",
      "185952 training examples.\n",
      "50121 training examples.\n",
      "101 total classes.\n",
      "Wrote train set to C:\\Users\\Jamin Chen\\Development\\10617_Project\\data\\tokens\\b=96_train=2011,2013_test=2012_c=all_t=3,5,7\\train.pickle.\n",
      "Wrote test set to C:\\Users\\Jamin Chen\\Development\\10617_Project\\data\\tokens\\b=96_train=2011,2013_test=2012_c=all_t=3,5,7\\test.pickle.\n",
      "Wrote int-to-token dict to C:\\Users\\Jamin Chen\\Development\\10617_Project\\data\\tokens\\b=96_train=2011,2013_test=2012_c=all_t=3,5,7\\int_to_token.pickle.\n",
      "Wall time: 17 s\n"
     ]
    }
   ],
   "source": [
    "%%time\n",
    "\n",
    "create_token_dataset(t_vals=[3, 5, 7])"
   ]
  },
  {
   "cell_type": "code",
   "execution_count": 46,
   "metadata": {},
   "outputs": [
    {
     "data": {
      "application/vnd.jupyter.widget-view+json": {
       "model_id": "76b2d3f40f694efda58f38ca2353b2c5",
       "version_major": 2,
       "version_minor": 0
      },
      "text/plain": [
       "HBox(children=(HTML(value='Merge train'), FloatProgress(value=0.0, max=5.0), HTML(value='')))"
      ]
     },
     "metadata": {},
     "output_type": "display_data"
    },
    {
     "name": "stdout",
     "output_type": "stream",
     "text": [
      "\n"
     ]
    },
    {
     "data": {
      "application/vnd.jupyter.widget-view+json": {
       "model_id": "0154ce12a1fc4959b50acda4a78f8579",
       "version_major": 2,
       "version_minor": 0
      },
      "text/plain": [
       "HBox(children=(HTML(value='Merge test'), FloatProgress(value=0.0, max=5.0), HTML(value='')))"
      ]
     },
     "metadata": {},
     "output_type": "display_data"
    },
    {
     "name": "stdout",
     "output_type": "stream",
     "text": [
      "\n",
      "309828 training examples.\n",
      "83526 training examples.\n",
      "101 total classes.\n",
      "Wrote train set to C:\\Users\\Jamin Chen\\Development\\10617_Project\\data\\tokens\\b=96_train=2011,2013_test=2012_c=all_t=1,3,5,7,9\\train.pickle.\n",
      "Wrote test set to C:\\Users\\Jamin Chen\\Development\\10617_Project\\data\\tokens\\b=96_train=2011,2013_test=2012_c=all_t=1,3,5,7,9\\test.pickle.\n",
      "Wrote int-to-token dict to C:\\Users\\Jamin Chen\\Development\\10617_Project\\data\\tokens\\b=96_train=2011,2013_test=2012_c=all_t=1,3,5,7,9\\int_to_token.pickle.\n",
      "Wall time: 30.2 s\n"
     ]
    }
   ],
   "source": [
    "%%time\n",
    "\n",
    "create_token_dataset(t_vals=[1, 3, 5, 7, 9])"
   ]
  },
  {
   "cell_type": "code",
   "execution_count": null,
   "metadata": {},
   "outputs": [],
   "source": []
  }
 ],
 "metadata": {
  "kernelspec": {
   "display_name": "Python 3",
   "language": "python",
   "name": "python3"
  },
  "language_info": {
   "codemirror_mode": {
    "name": "ipython",
    "version": 3
   },
   "file_extension": ".py",
   "mimetype": "text/x-python",
   "name": "python",
   "nbconvert_exporter": "python",
   "pygments_lexer": "ipython3",
   "version": "3.7.2"
  }
 },
 "nbformat": 4,
 "nbformat_minor": 4
}
