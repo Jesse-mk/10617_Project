{
 "cells": [
  {
   "cell_type": "markdown",
   "metadata": {
    "id": "krsDgNBUFPjC"
   },
   "source": [
    "* https://pytorch.org/tutorials/beginner/data_loading_tutorial.html\n",
    "* https://pytorch.org/tutorials/beginner/blitz/cifar10_tutorial.html\n",
    "* https://pytorch.org/tutorials/beginner/saving_loading_models.html"
   ]
  },
  {
   "cell_type": "code",
   "execution_count": null,
   "metadata": {
    "id": "yL4jDgawFPjF"
   },
   "outputs": [],
   "source": [
    "%matplotlib inline"
   ]
  },
  {
   "cell_type": "code",
   "execution_count": 2,
   "metadata": {
    "id": "Q5-_D4V_FPjR"
   },
   "outputs": [],
   "source": [
    "import matplotlib.pyplot as plt\n",
    "import imgaug\n",
    "import numpy as np\n",
    "import os\n",
    "import pandas as pd\n",
    "import time\n",
    "import pickle\n",
    "import torch\n",
    "import torch.nn as nn\n",
    "import torch.nn.functional as F\n",
    "import torch.optim as optim\n",
    "import torchvision\n",
    "from torch.utils.data import Dataset, DataLoader\n",
    "from torchvision import transforms, utils\n",
    "import cv2\n",
    "from tqdm.notebook import tqdm\n",
    "from IPython.display import display, HTML\n",
    "\n",
    "\n",
    "\n",
    "#image augmentation:\n",
    "import PIL\n",
    "from PIL import Image\n",
    "from imgaug import augmenters as iaa\n",
    "import imgaug.augmenters as augs"
   ]
  },
  {
   "cell_type": "code",
   "execution_count": 3,
   "metadata": {
    "id": "OHSPEpnkFPjf"
   },
   "outputs": [],
   "source": [
    "### JAMIN'S SYSTEM ###\n",
    "\n",
    "# These paths are hardcoded for my system, change as needed.\n",
    "\n",
    "image_size = 96\n",
    "tokens_dataset_folder = f'b=96_train=2011,2013_test=2012_c=all_t=5'\n",
    "\n",
    "prefix = os.path.join(os.getcwd(), 'data', 'tokens', tokens_dataset_folder)\n",
    "\n",
    "train_path = os.path.join(prefix, 'train.pickle')\n",
    "test_path = os.path.join(prefix, 'test.pickle')\n",
    "int_to_token_path = os.path.join(prefix, 'int_to_token.pickle')"
   ]
  },
  {
   "cell_type": "code",
   "execution_count": null,
   "metadata": {
    "id": "tPqv4JW2FPjq"
   },
   "outputs": [],
   "source": [
    "### JESSE'S SYSTEM ###\n",
    "image_size = 96\n",
    "tokens_dataset_folder = f'b={image_size}_d=2011,2012,2013_c=all_t=5'\n",
    "\n",
    "prefix = os.path.join(os.getcwd().strip(\"10617_Project'\"), \"CROHME_extractor\", \"outputs\", tokens_dataset_folder)\n",
    "\n",
    "train_path = os.path.join(prefix, 'train', 'train.pickle')\n",
    "test_path = os.path.join(prefix, 'test', 'test.pickle')\n",
    "classes_path = os.path.join(prefix, 'classes.txt')"
   ]
  },
  {
   "cell_type": "code",
   "execution_count": null,
   "metadata": {
    "colab": {
     "base_uri": "https://localhost:8080/",
     "height": 34
    },
    "id": "5ZSRHi61Fppi",
    "outputId": "47268fb7-9c73-4022-870d-14dc57a44ce3"
   },
   "outputs": [],
   "source": [
    "### GOOGLE COLAB IMPLEMENTATION ###\n",
    "### Upload folder called \"outputs\" which contains the data into the Colab Notebooks folder in Drive. ###\n",
    "from google.colab import drive\n",
    "drive.mount('/content/drive')"
   ]
  },
  {
   "cell_type": "code",
   "execution_count": null,
   "metadata": {
    "colab": {
     "base_uri": "https://localhost:8080/",
     "height": 34
    },
    "id": "5ix_uD0oF9Gj",
    "outputId": "7ae49487-d97a-498b-9062-13926ebeb7d9"
   },
   "outputs": [],
   "source": [
    "image_size = 96\n",
    "tokens_dataset_folder = f'b={image_size}_d=2011,2012,2013_c=all_t=5'\n",
    "\n",
    "#path to where data folder is located in drive:\n",
    "\n",
    "prefix = \"/content/drive/My Drive/Colab Notebooks/outputs/\" +  tokens_dataset_folder\n",
    "\n",
    "train_path = prefix + '/train/train.pickle'\n",
    "test_path = prefix + '/test/test.pickle'\n",
    "classes_path = prefix + '/classes.txt'\n",
    "print(train_path)"
   ]
  },
  {
   "cell_type": "code",
   "execution_count": null,
   "metadata": {
    "id": "2nGL5uT4FPjz"
   },
   "outputs": [],
   "source": [
    "def encode_ohe(class_name, classes):\n",
    "    one_hot = np.zeros(shape=(len(classes)), dtype=np.int8)\n",
    "    class_index = classes.index(class_name)\n",
    "    one_hot[class_index] = 1\n",
    "\n",
    "    return one_hot\n",
    "\n",
    "def decode_ohe(one_hot, classes):\n",
    "    index = one_hot.argmax()\n",
    "    return classes[index]"
   ]
  },
  {
   "cell_type": "markdown",
   "metadata": {
    "id": "K9KTEasvFPj7"
   },
   "source": [
    "After unpickling, `train_set` and `test_set` will be lists, where each element is a dictionary that has keys `features` and `labels`. `features` will be a 1D numpy array of 1's and 0's, with size `box_size * box_size` where `box_size` is the size of the image. `label` will be a one-hot-encoded array."
   ]
  },
  {
   "cell_type": "markdown",
   "metadata": {
    "id": "Y-2lN3Kjc4ow"
   },
   "source": [
    "### Data Augmentation\n",
    "(source: https://colab.research.google.com/drive/109vu3F1LTzD1gdVV6cho9fKGx7lzbFll)"
   ]
  },
  {
   "cell_type": "markdown",
   "metadata": {
    "id": "QMrqa-xjMRHz"
   },
   "source": [
    "#### Pytorch built in library in torchvision:\n",
    "\n",
    "* pros: relatively easy to use (have to convert to Pil image first but can just use np.array to convert back)\n",
    "* cons: most are \"random\" so cannot know if image is same or different (do we want to feed in same image twice?)\n"
   ]
  },
  {
   "cell_type": "code",
   "execution_count": null,
   "metadata": {
    "id": "tVU_YnJ_c3x9"
   },
   "outputs": [],
   "source": [
    "#contains the transforms we want to do:\n",
    "\n",
    "#trans 1: rotate\n",
    "rotate  = torchvision.transforms.Compose([   \n",
    "                                             torchvision.transforms.ToPILImage(),\n",
    "                                             torchvision.transforms.RandomRotation(15, resample=PIL.Image.BILINEAR, fill = 1),\n",
    "])\n",
    "\n",
    "#trans 2: pad image\n",
    "pad  = torchvision.transforms.Compose([\n",
    "                                             torchvision.transforms.ToPILImage(),\n",
    "                                             torchvision.transforms.Pad(5, fill = 1)\n",
    "                                       \n",
    "])\n",
    "\n",
    "transforms_list = [rotate, pad]\n",
    "\n",
    "\n",
    "#  torchvision.transforms.RandomHorizontalFlip(),\n",
    "#  torchvision.transforms.functional.affine(angle = 10)"
   ]
  },
  {
   "cell_type": "code",
   "execution_count": null,
   "metadata": {
    "colab": {
     "base_uri": "https://localhost:8080/",
     "height": 717
    },
    "id": "r1me47BxACVc",
    "outputId": "d2067f85-5452-430a-e163-db7cb925f88d"
   },
   "outputs": [],
   "source": [
    "#for one example, check the output (jsut used first image as sample)\n",
    "\n",
    "sample = train_set[1][\"features\"].reshape(96,96) #need to reshape to 2D \n",
    "\n",
    "print(sample.sum()) #see how many pixels originally \n",
    "\n",
    "for i, trans in enumerate(transforms_list):\n",
    "    pic = trans(sample)\n",
    "    print(np.array(pic).sum())\n",
    "    print(np.array(pic).shape)\n",
    "    plt.figure(figsize = (5,5))\n",
    "    plt.imshow(pic, cmap='gray')\n",
    "    plt.show()\n",
    "\n",
    "\n"
   ]
  },
  {
   "cell_type": "markdown",
   "metadata": {
    "id": "hJdpKLIUMolM"
   },
   "source": [
    "#### ImageAug library \n",
    "* pros: more customizable while already having common functions pre-written, can also specify probability (which pytorch you cannot). Also can use numpy and not convert to Pil images\n",
    "* cons: does not work with tensors I believe (so would have to come before image batching... not really a con). More work to implement (bc more customizable)\n",
    "\n",
    "Note:\n",
    "decided that flipping doesn't make sense (we shouldn't see upside down or backwards equations). Also, cannot crop too much for individual tokens else can lose part of symbol since already tokenized into smaller square (if sequence might be OK). Blur doesn't really work since 0s and 1s only."
   ]
  },
  {
   "cell_type": "code",
   "execution_count": null,
   "metadata": {
    "colab": {
     "base_uri": "https://localhost:8080/",
     "height": 52
    },
    "id": "zNd53BQo2Zb_",
    "outputId": "12e447b6-ee65-4b63-9aa9-8817b55bfb18"
   },
   "outputs": [],
   "source": [
    "%%time\n",
    "\n",
    "#there's a better way to do this... just get all features and reshape.\n",
    "train_arrays = []\n",
    "train_labels = []\n",
    "for i in range(len(train_set)):\n",
    "    #to keep the order!\n",
    "    train_arrays.append(train_set[i][\"features\"])\n",
    "    train_labels.append(train_set[i][\"label\"])\n",
    "\n",
    "# train_set[1][\"features\"].shape"
   ]
  },
  {
   "cell_type": "code",
   "execution_count": null,
   "metadata": {
    "colab": {
     "base_uri": "https://localhost:8080/",
     "height": 304
    },
    "id": "0cuExJzQOOUE",
    "outputId": "b13a39fe-391b-46e0-e428-00f0939c4c4e"
   },
   "outputs": [],
   "source": [
    "### TRANSFORMATIONS ###\n",
    "#crop\n",
    "crop_0_16 = iaa.Crop(px=(0,5))\n",
    "crop_16_0 = iaa.Crop(px=(5,0))\n",
    "\n",
    "# #flipping:\n",
    "# flip_lr = iaa.flip.Fliplr(1.0) #LEFT RIGHT\n",
    "# flip_ud = iaa.flip.Flipud(1.0) #up and down\n",
    "\n",
    "#convolutional matrices:\n",
    "\n",
    "#blur\n",
    "# matrix1 = np.array([[1,1,1], [0,1,0], [0,1,0]])\n",
    "# filter_1 = imgaug.augmenters.convolutional.Convolve(matrix = matrix1)\n",
    "\n",
    "#dropout sampling\n",
    "sampler = iaa.Dropout(p=0.02)\n",
    "\n",
    "#rotate forward and back\n",
    "rotate_forward = iaa.Affine(rotate=10, mode = \"constant\", cval=0)\n",
    "rotate_back = iaa.Affine(rotate=-10, mode = \"constant\", cval=0)\n",
    "rotate_forward_extreme = iaa.Affine(rotate=20, mode = \"constant\", cval=0)\n",
    "rotate_back_extreme = iaa.Affine(rotate=-20, mode = \"constant\", cval=0)\n",
    "\n",
    "#move image:\n",
    "translate_0 = iaa.Affine(translate_px={\"x\" : (-5), \"y\": (-5)},  cval=0)\n",
    "translate_1 = iaa.Affine(translate_px={\"x\" : (5), \"y\": (5)},  cval=0)\n",
    "translate_2 = iaa.Affine(translate_px={\"x\" : (0), \"y\": (5)},  cval=0)\n",
    "translate_3 = iaa.Affine(translate_px={\"x\" : (5), \"y\": (0)},  cval=0)\n",
    "\n",
    "#scale:\n",
    "scale_small = iaa.Affine(scale={\"x\": (0.75), \"y\": (0.75)})\n",
    "scale_squish = iaa.Affine(scale={\"x\": (1), \"y\": (0.75)})\n",
    "scale_squeeze = iaa.Affine(scale={\"x\": (0.75), \"y\": (1)})\n",
    "\n",
    "#shear:\n",
    "shear_right = iaa.Affine(shear=(10))\n",
    "shear_left = iaa.Affine(shear=(-10))\n",
    "\n",
    "# scale_big = iaa.Affine(scale={\"x\": (1.), \"y\": (1.15)})\n",
    "\n",
    "\n",
    "transformations = [crop_0_16, crop_16_0, sampler, rotate_forward, rotate_back,  rotate_forward_extreme, rotate_back_extreme, translate_0, translate_1,translate_2, translate_3, scale_small, scale_squish, scale_squeeze, shear_right, shear_left] #, scale_big, flip_lr, flip_ud,  \n",
    "transformations_names = \"crop_0_16, crop_16_0, sampler, rotate_forward, rotate_back, rotate_forward_extreme, rotate_back_extreme, translate_0, translate_1, translate_2, translate_3, scale_small, scale_squish, scale_squeeze, shear_right, shear_left\".split(\", \")\n",
    "\n",
    "transformations_names\n",
    "### EXAMPLE ###\n",
    "#one sample:\n",
    "# samples = 1 -  train_set[0][\"features\"]\n",
    "\n",
    "#visualize:\n",
    "# plt.figure(figsize = (5,5))\n",
    "# plt.imshow(pic.reshape(96,96), cmap='gray')\n",
    "\n",
    "#turn back into black and white:\n",
    "# plt.figure(figsize = (5,5))\n",
    "# plt.imshow(1 - pic.reshape(96,96), cmap='gray')\n",
    "\n",
    "\n",
    "\n"
   ]
  },
  {
   "cell_type": "code",
   "execution_count": null,
   "metadata": {
    "id": "Se5Y6lBSD0BA"
   },
   "outputs": [],
   "source": [
    "#create transformed pickle files\n",
    "\n",
    "train_tensor = np.array(train_arrays).reshape(-1, 96,96)\n",
    "samples = 1 - train_tensor\n",
    "\n",
    "for trans, name in zip(transformations, transformations_names):\n",
    "  #apply transformations:\n",
    "  pic = trans(images=samples)\n",
    "  #turn back into white and black images\n",
    "  reverted = 1 - pic\n",
    "  #change shape\n",
    "  tensored_transforms = reverted.reshape(-1, 96 * 96)\n",
    "\n",
    "  #turn into series of transformed values\n",
    "  trans_series = pd.Series(list(tensored_transforms))\n",
    "  #turn into dataframe\n",
    "  trans_df = pd.DataFrame({\"features\": trans_series, \"numerical_label\": train_labels})\n",
    "  #OHE labels again\n",
    "  ohes = np.zeros((len(trans_df[\"numerical_label\"]), len(classes)))\n",
    "  ohes[np.arange(len(ohes)), trans_df[\"numerical_label\"]] = 1\n",
    "  #add to dictionary\n",
    "  trans_df[\"label\"] = list(ohes)\n",
    "  #add in extra note about transformation:\n",
    "  trans_df[\"transformation\"] = name\n",
    "\n",
    "  #dump to pickle:\n",
    "  with open('train_transformed_' + name + '.pkl', 'wb') as handle:\n",
    "    pickle.dump(trans_df, handle, protocol=pickle.HIGHEST_PROTOCOL)\n"
   ]
  },
  {
   "cell_type": "code",
   "execution_count": null,
   "metadata": {
    "id": "2Nus3n-PSiB9"
   },
   "outputs": [],
   "source": [
    "#save pickles to drive\n",
    "!cp /content/train_transformed_shear_right.pkl \"/content/drive/My Drive/Colab Notebooks/Models\"\n",
    "\n",
    "!cp /content/train_transformed_translate_0.pkl \"/content/drive/My Drive/Colab Notebooks/Models\"\n",
    "\n",
    "!cp /content/train_transformed_translate_1.pkl \"/content/drive/My Drive/Colab Notebooks/Models\"\n",
    "!cp /content/train_transformed_translate_2.pkl \"/content/drive/My Drive/Colab Notebooks/Models\"\n",
    "!cp /content/train_transformed_translate_3.pkl \"/content/drive/My Drive/Colab Notebooks/Models\"\n"
   ]
  },
  {
   "cell_type": "markdown",
   "metadata": {
    "id": "9VJ1PajwQmjv"
   },
   "source": [
    "### testing to ensure pickled outputs are like train pickles"
   ]
  },
  {
   "cell_type": "code",
   "execution_count": null,
   "metadata": {
    "id": "n5mCTWxo_7-P"
   },
   "outputs": [],
   "source": [
    "pickle_file = train_path\n",
    "with open(pickle_file, 'rb') as f:\n",
    "    df_data = pd.DataFrame(pickle.load(f))\n",
    "\n",
    "pf = 'train_transformed_' + transformations_names[0] + '.pkl'\n",
    "with open(pf, 'rb') as f:\n",
    "    trans_data = pd.DataFrame(pickle.load(f))"
   ]
  },
  {
   "cell_type": "code",
   "execution_count": null,
   "metadata": {
    "colab": {
     "base_uri": "https://localhost:8080/",
     "height": 645
    },
    "id": "9EeBJp4RFbDc",
    "outputId": "bbb3ddf5-d67d-4290-8115-fbf8812e5ba5"
   },
   "outputs": [],
   "source": [
    "n = 100\n",
    "(np.equal(trans_data[\"label\"].iloc[n], df_data[\"label\"].iloc[n]) == False).sum()\n",
    "pic1 = trans_data[\"features\"].iloc[n]\n",
    "pic2 = df_data[\"features\"].iloc[n]\n",
    "plt.figure(figsize = (5,5))\n",
    "plt.imshow(pic1.reshape(96,96), cmap='gray')\n",
    "plt.figure(figsize = (5,5))\n",
    "plt.imshow(pic2.reshape(96,96), cmap='gray')"
   ]
  },
  {
   "cell_type": "markdown",
   "metadata": {
    "id": "VzaZKlw9_TOh"
   },
   "source": [
    "### Generating Dataset \n"
   ]
  },
  {
   "cell_type": "code",
   "execution_count": 4,
   "metadata": {
    "id": "GpVXOGA0FPj-"
   },
   "outputs": [],
   "source": [
    "class MathTokensDataset(Dataset):\n",
    "    \"\"\"\n",
    "    Dataset containing math tokens extracted from the CROHME 2011, 2012, and 2013 datasets.\n",
    "    \"\"\"\n",
    "    \n",
    "    def __init__(self, pickle_file, image_size, transform=None):\n",
    "        \"\"\"\n",
    "        Args:\n",
    "            pickle_file (string): Path to dataset pickle file.\n",
    "            transform (callable, optional): Optional transform to be applied\n",
    "                    on a sample.\n",
    "        \"\"\"\n",
    "        with open(pickle_file, 'rb') as f:\n",
    "            self.df_data = pd.DataFrame(pickle.load(f))\n",
    "        \n",
    "        # Reshape features to 3D tensor.\n",
    "        self.df_data['features'] = self.df_data['features'].apply(lambda vec: vec.reshape(1, image_size, image_size))\n",
    "        \n",
    "#         # Convert one-hot labels to numbers (PyTorch expects this).\n",
    "#         self.df_data['label'] = self.df_data['label'].apply(lambda ohe_vec: np.argmax(ohe_vec))\n",
    "\n",
    "        self.transform = transform\n",
    "    \n",
    "    def __len__(self):\n",
    "        return len(self.df_data)\n",
    "    \n",
    "    def __getitem__(self, idx):\n",
    "        if torch.is_tensor(idx):\n",
    "            idx = idx.tolist()\n",
    "            \n",
    "        sample = {\n",
    "            'features': self.df_data.iloc[idx]['features'],\n",
    "            'label': self.df_data.iloc[idx]['label']\n",
    "        }\n",
    "        \n",
    "        if self.transform:\n",
    "            sample = self.transform(sample)\n",
    "\n",
    "        return sample"
   ]
  },
  {
   "cell_type": "code",
   "execution_count": 11,
   "metadata": {
    "id": "q1uEirOcFPkH"
   },
   "outputs": [],
   "source": [
    "class BaselineTokenCNN(nn.Module):\n",
    "    def __init__(self, num_classes):\n",
    "        super(BaselineTokenCNN, self).__init__()\n",
    "        self.conv1 = nn.Conv2d(in_channels=1, out_channels=4, kernel_size=7)\n",
    "        self.pool1 = nn.MaxPool2d(kernel_size=2, stride=2)\n",
    "        self.conv2 = nn.Conv2d(in_channels=4, out_channels=8, kernel_size=5)\n",
    "        self.pool2 = nn.MaxPool2d(kernel_size=2, stride=2)\n",
    "        self.conv3 = nn.Conv2d(in_channels=8, out_channels=16, kernel_size=3)\n",
    "        self.pool3 = nn.MaxPool2d(kernel_size=2, stride=2)\n",
    "        self.fc1 = nn.Linear(16 * 9 * 9, 600)\n",
    "        self.fc2 = nn.Linear(600, 200)\n",
    "        self.fc3 = nn.Linear(200, num_classes)\n",
    "        \n",
    "    def forward(self, x):\n",
    "        x = x.float()\n",
    "        x = self.pool1(F.relu(self.conv1(x)))\n",
    "        x = self.pool2(F.relu(self.conv2(x)))\n",
    "        x = self.pool3(F.relu(self.conv3(x)))\n",
    "        x = x.view(-1, 16 * 9 * 9)\n",
    "        x = F.relu(self.fc1(x))\n",
    "        x = F.relu(self.fc2(x))\n",
    "        x = self.fc3(x)\n",
    "        return x"
   ]
  },
  {
   "cell_type": "code",
   "execution_count": 5,
   "metadata": {
    "colab": {
     "base_uri": "https://localhost:8080/",
     "height": 52
    },
    "id": "Bd8AEAO7FPkS",
    "outputId": "31fca88f-8a42-4d79-cb8a-6c7a0a75b3e7"
   },
   "outputs": [
    {
     "name": "stdout",
     "output_type": "stream",
     "text": [
      "Wall time: 2.04 s\n"
     ]
    }
   ],
   "source": [
    "%%time\n",
    "train_set = MathTokensDataset(train_path, image_size)\n",
    "test_set = MathTokensDataset(test_path, image_size)\n",
    "\n",
    "train_loader = DataLoader(train_set, batch_size=256, shuffle=True, num_workers=0)\n",
    "test_loader = DataLoader(test_set, batch_size=256, shuffle=False, num_workers=0)\n",
    "\n",
    "with open(int_to_token_path, 'rb') as f:\n",
    "    int_to_token = pickle.load(f)"
   ]
  },
  {
   "cell_type": "code",
   "execution_count": 6,
   "metadata": {
    "colab": {
     "base_uri": "https://localhost:8080/",
     "height": 70
    },
    "id": "j8GwbUtgFPkc",
    "outputId": "e4765353-ec9e-4b45-e883-a5078872e12c"
   },
   "outputs": [
    {
     "name": "stdout",
     "output_type": "stream",
     "text": [
      "61984 training examples.\n",
      "16707 test examples.\n",
      "101 classes.\n"
     ]
    }
   ],
   "source": [
    "print(f'{len(train_set)} training examples.')\n",
    "print(f'{len(test_set)} test examples.')\n",
    "print(f'{len(int_to_token)} classes.')"
   ]
  },
  {
   "cell_type": "code",
   "execution_count": 7,
   "metadata": {
    "colab": {
     "base_uri": "https://localhost:8080/",
     "height": 34
    },
    "id": "UKf0O-N2FPko",
    "outputId": "a377b9f7-d161-4c0c-cdd1-c1a7f0e4d400"
   },
   "outputs": [
    {
     "data": {
      "text/plain": [
       "device(type='cuda', index=0)"
      ]
     },
     "execution_count": 7,
     "metadata": {},
     "output_type": "execute_result"
    }
   ],
   "source": [
    "# Set device to GPU if available.\n",
    "device = torch.device(\"cuda:0\" if torch.cuda.is_available() else \"cpu\")\n",
    "device"
   ]
  },
  {
   "cell_type": "markdown",
   "metadata": {
    "id": "YjWY89Y5Q_sG"
   },
   "source": [
    "##### Mods:\n",
    "1. Changing Optimizers\n",
    "2. Changing NN structure\n",
    "3. ???\n"
   ]
  },
  {
   "cell_type": "code",
   "execution_count": 8,
   "metadata": {
    "id": "ZoBSXkdJPb3z"
   },
   "outputs": [],
   "source": [
    "#### 1. Optimizers to try: ###\n",
    "#we can add more but just wanted to see\n",
    "\n",
    "optimizer_dict = {\"adam\": optim.Adam,\n",
    "                  \"sgd\": optim.SGD,\n",
    "                  \"adamW\": optim.AdamW}\n",
    "\n",
    "optimizer_params_dict = {\"adam\": {\"lr\": 0.001,\n",
    "                             \"weight_decay\": 0},\n",
    "                    \"sgd\": {\"lr\": 0.001, \n",
    "                            \"momentum\": 0.9},\n",
    "                    \"adamW\": {\"lr\": 0.001,\n",
    "                    \"weight_decay\": 0.01 }}\n"
   ]
  },
  {
   "cell_type": "code",
   "execution_count": 9,
   "metadata": {
    "id": "rh59_UwbOCuY"
   },
   "outputs": [],
   "source": [
    "class Experiment():\n",
    "    def __init__(self, experiment_name, optimizer_class):\n",
    "        #get runtime:\n",
    "        self.device = torch.device(\"cuda:0\" if torch.cuda.is_available() else \"cpu\")\n",
    "\n",
    "        #get name for save files:\n",
    "        self.experiment_name = experiment_name\n",
    "\n",
    "        #make CNN\n",
    "        self.net = BaselineTokenCNN(num_classes=len(classes))\n",
    "        self.net.to(device)  # Send to GPU.\n",
    "\n",
    "        #make loss\n",
    "        self.criterion = nn.CrossEntropyLoss()\n",
    "\n",
    "        #get optimizer and params:\n",
    "        optimizer = optimizer_dict[optimizer_class]\n",
    "        optimizer_params = optimizer_params_dict[optimizer_class]\n",
    "        #add in the parameters:\n",
    "        optimizer_params[\"params\"] = self.net.parameters()\n",
    "        # print(optimizer_params)\n",
    "\n",
    "        #add in parameters to optimizer:\n",
    "        self.optimizer = optimizer([optimizer_params])\n",
    "\n",
    "        #keep track of train_history\n",
    "        self.train_loss_history = []\n",
    "        print(\"Model created with optimizer {}\".format(optimizer_class))\n",
    "\n",
    "    def train_network(self, n_epochs, train_loader, ):\n",
    "        self.num_epochs = n_epochs\n",
    "\n",
    "        for epoch in tqdm(range(self.num_epochs), desc='Epoch'):\n",
    "            \n",
    "            for i, data in tqdm(enumerate(train_loader), total=len(train_loader), desc='Batch', leave=False):\n",
    "                # Get the inputs and send to GPU if available.\n",
    "                features = data['features'].to(self.device)\n",
    "                labels = data['label'].to(self.device)\n",
    "\n",
    "                # zero the parameter gradients\n",
    "                self.optimizer.zero_grad()\n",
    "\n",
    "                # forward + backward + optimize\n",
    "                outputs = self.net(features)\n",
    "                loss = self.criterion(outputs, labels)\n",
    "                loss.backward()\n",
    "                self.optimizer.step()\n",
    "\n",
    "                # save statistics\n",
    "                self.train_loss_history.append(loss.item())\n",
    "                \n",
    "        print('Finished Training')\n",
    "\n",
    "    def train_loss(self):\n",
    "        # TODO: Is this correct? Should we really be averaging the train loss over all epochs?\n",
    "        loss = np.mean(self.train_loss_history)\n",
    "        print(f\"Loss of the network on train set: {loss}\")\n",
    "        return loss\n",
    "        \n",
    "        \n",
    "    def test_accuracy(self, classes, dataloader):\n",
    "        self.num_classes = len(classes)\n",
    "\n",
    "        self.total_counts = np.zeros(self.num_classes)\n",
    "        self.correct_counts = np.zeros(self.num_classes)\n",
    "        self.predictions = []\n",
    "\n",
    "        self.num_correct = 0\n",
    "        self.num_total_examples = 0\n",
    "\n",
    "        with torch.no_grad():\n",
    "            for data in tqdm(dataloader):\n",
    "                test_features = test_data['features'].to(self.device)\n",
    "                labels = test_data['label'].to(self.device)\n",
    "                \n",
    "                outputs = self.net(test_features)\n",
    "                \n",
    "                _, predicted = torch.max(outputs.data, dim=1)\n",
    "                self.predictions.append(predicted)\n",
    "                \n",
    "                for p, l in zip(labels, predicted):\n",
    "                    self.total_counts[l] += 1\n",
    "                    if p == l:\n",
    "                        self.correct_counts[p] += 1\n",
    "                \n",
    "                self.num_total_examples += labels.size(0)\n",
    "                self.num_correct += (predicted == labels).sum().item()\n",
    "            self.test_accuracy = self.num_correct / self.num_total_examples * 100\n",
    "        print(f'Accuracy of the network on test set: {self.test_accuracy}%')\n",
    "\n",
    "\n",
    "    def save_checkpoint(self, path):\n",
    "        #save the model at a certain checkpoint\n",
    "        values_to_save = {\n",
    "            'epoch': self.num_epochs,\n",
    "            'model_state_dict': self.net.state_dict(),\n",
    "            'optimizer_state_dict': self.optimizer.state_dict(),\n",
    "            'train_loss': np.mean(self.train_loss_history),\n",
    "            }\n",
    "\n",
    "        #if test data, also save, else keep same:\n",
    "        try: \n",
    "            values_to_save[\"test_accuracy\"] = self.test_accuracy\n",
    "        except:\n",
    "            pass\n",
    "\n",
    "        torch.save(values_to_save, path + self.experiment_name)\n",
    "        print(\"Checkpoint successfully saved!\")\n",
    "        \n",
    "    def save_model(self,path):\n",
    "        torch.save(self.net.save_model, path + self.experiment_name)\n",
    "        print(\"Model successfully saved!\")\n"
   ]
  },
  {
   "cell_type": "code",
   "execution_count": 13,
   "metadata": {
    "colab": {
     "base_uri": "https://localhost:8080/",
     "height": 706,
     "referenced_widgets": [
      "98e7884813124fe884012c3b73898d33",
      "e13c318c3a3e4f799f0d77b3c7dddf03",
      "36b7bcbaa54340e182e9ce9df744e4c0",
      "d2aa4705f233452fa6df2a4340d7f67c",
      "2df9d7e18f2d42838336b7ea1ba64f86",
      "a5287a72550b4bb593d2cfc9db92f3b7",
      "38a2d39a987147e9b9186d37f4685d4e",
      "f6395e592bdd412ba9646b50a0667d4b",
      "53177719f32343ceb6422357a27e104b",
      "34ea845904c64fe1bd1dd1baa54f249e",
      "c3fff35b526e437eb6d9b875b45a51e7",
      "e99cf2aba2ac475985d66cdf23263f95",
      "0884011fb50d47a18014d7bf7781eb56",
      "334c45598ce54545a3824d3f92fbe1ae",
      "7850b742dcfb42ba823ef2233df90d0c",
      "ff3fd248ee80403a9bc1903e16ab01ad",
      "e68896e319c7420a986dcdb087ab683b",
      "7e0daf3066fd40d48dad5592f8355d50",
      "a4a872b5f4a04a7491f48cb32b6f33af",
      "bd245c4f759843d9b80ca70b5380fa0d",
      "589a9d3f73de457cbe27440e8bd5965a",
      "609f27e0ad4f4556b6ff9a6f66610632",
      "47cbc11400e04ead9427095f820c39f8",
      "b595565aeef444cbb4441698041c2c95",
      "404165998c8e4d6fb92df1fe67b4486f",
      "a4dca41007d74f5c87012da3a92e7719",
      "5df194ffd6d64d05adc309c5ac05ce19",
      "b69aa499dfe44844a92717e402bda9b9",
      "ac5824e3241244cc9aed4147c55b124b",
      "8d6cbba3c28c40f18ee999a38b7e1e70",
      "7f1848c8ec8f4305a2037a7d72382d4b",
      "2832395f846941f59ef1b48b750dfa2d",
      "f496a29dcc6940108aa1b7335f6de899",
      "f56e135c5ab942e6ad327b1d9b402257",
      "8c2f6555119d461793d06353b241f009",
      "834f2060d9384a7e9fe4c96d332edf40",
      "5ed16a6341cb4c53a4a9497a31fd26ee",
      "752c290b9d7b43d6a2013d1b6e44e8ad",
      "34bf6ef87cbe4d1eb6940a871db41c96",
      "26170b08603a4f27834271abf9c7a782",
      "cc08acf3a6b74a98819c66df4d275b28",
      "bbfa8e472b6d46638b4563b2987fdaf9",
      "88af1ac91bbb4e97a6b702965f1de0d3",
      "f26d553ac3c8498ebf5078c7148db1b6",
      "bdad7c7195bb467db14b64f66179f910",
      "d7de9e0779bb4fd7985466e1672ea2bd",
      "4fec38f617814ee08d80e5ebc71375e9",
      "db07cdecec7542b3a0d1958e55e2a081",
      "7295029e8de34288ba3801e5800a2ac6",
      "3b7e784e442d456f99e6dfda21467974",
      "f8fc949483e2446f9a3771498b8407a1",
      "c7b766e9078648d08a17ed604bb48242",
      "2d26944debab47cb8084e2e606dbee1c",
      "3d762013f7b448fdba8b903ea4578956",
      "186659d2582d47a8a7bfc2d0db92a861",
      "87fc61ed452a45f18bfc3ba7633f7f53",
      "194a716ad2e84895aeb4751337e54466",
      "c472a08d14aa42328f8823e9c7bdc2c9",
      "382b69ab37c749b98b2ec662919a6930",
      "176fcfe8839d4eb5b159aa375a762af9",
      "c16e831cb19d4dfc925f1027d2084c31",
      "49b5c9c3f9b348a9b1f829122f6535a1",
      "5cbe86645f934183a28da352097760fa",
      "b6eb0fc605d04edc948ed8cf7190efaa",
      "714e7865afab4e0295b59b653c5b4962",
      "365e4cf1e00a443bb0eccb47ae834090",
      "79d6dd6b83e146b0b4a02e1b78cd386e",
      "77abd374ed524f2db2275b341eeae05b",
      "56b68a6f066b402cbddeede50ad516cd",
      "30edcc002cc64385aa28e08e48343413",
      "460a4dbb0d0546d98ea4efa69c1df215",
      "0834f80cd63843b7a8b6b915d8d36247",
      "93b7f839d6ec4c02a5cb3115e47aae4b",
      "cdee09db36d04d5daa57ebf45b86c2b5",
      "f2ccfa7556df47158ffde791c862a244",
      "b70e76d1899b43e0be5170283b700c44",
      "adc95c71ab6148fdb0ef4165259ce264",
      "edbaf1fafb7243d89a3e6d9ca371c71b",
      "cdab5c3db7a8474bba28b550bc3d64b3",
      "224dc67176e44697906636b5c30cd1f4",
      "d3ca0f44cbd24a4e944c9081e2cea4af",
      "7aa7346e46bd4fb385a91999b56c967d",
      "b88bec3afd214becaf8ce18b41ec93f1",
      "837d68461f4c47488c6f35a4b07d1c2e",
      "976a8802527f453997815f61fb6e9971",
      "d5524bc15e794034b1236641f388ea23",
      "b6e634366db849f9be4717cbfd893fad",
      "de87c6dc06fb4707b66e0da3cd9a24d4",
      "bd0dc9b3ead0430491de1a0376224760",
      "ff3d01da439a459b875a83d4024cb39e",
      "bb569d738ce747ea860427d54f8f4b06",
      "e13a0821522f4674878988bd5bc81e14",
      "952040e49a8f444b89234ff273e41b9b",
      "f2fbccfcc0c541869f3bbd3c45d9f12b",
      "7c6df110c8ce48118f4b41b0a0be6904",
      "16ba687f9c6447958826ed6181224f64"
     ]
    },
    "id": "WjinJYghYU_H",
    "outputId": "045946b2-2180-44ba-9b67-84ee4dd3337a"
   },
   "outputs": [
    {
     "name": "stdout",
     "output_type": "stream",
     "text": [
      "Model created with optimizer adamW\n"
     ]
    },
    {
     "data": {
      "application/vnd.jupyter.widget-view+json": {
       "model_id": "fe8878ede8144548ab98dc900c31fb48",
       "version_major": 2,
       "version_minor": 0
      },
      "text/plain": [
       "HBox(children=(HTML(value='Epoch'), FloatProgress(value=0.0, max=15.0), HTML(value='')))"
      ]
     },
     "metadata": {},
     "output_type": "display_data"
    },
    {
     "data": {
      "application/vnd.jupyter.widget-view+json": {
       "model_id": "",
       "version_major": 2,
       "version_minor": 0
      },
      "text/plain": [
       "HBox(children=(HTML(value='Batch'), FloatProgress(value=0.0, max=243.0), HTML(value='')))"
      ]
     },
     "metadata": {},
     "output_type": "display_data"
    },
    {
     "data": {
      "application/vnd.jupyter.widget-view+json": {
       "model_id": "",
       "version_major": 2,
       "version_minor": 0
      },
      "text/plain": [
       "HBox(children=(HTML(value='Batch'), FloatProgress(value=0.0, max=243.0), HTML(value='')))"
      ]
     },
     "metadata": {},
     "output_type": "display_data"
    },
    {
     "data": {
      "application/vnd.jupyter.widget-view+json": {
       "model_id": "",
       "version_major": 2,
       "version_minor": 0
      },
      "text/plain": [
       "HBox(children=(HTML(value='Batch'), FloatProgress(value=0.0, max=243.0), HTML(value='')))"
      ]
     },
     "metadata": {},
     "output_type": "display_data"
    },
    {
     "data": {
      "application/vnd.jupyter.widget-view+json": {
       "model_id": "",
       "version_major": 2,
       "version_minor": 0
      },
      "text/plain": [
       "HBox(children=(HTML(value='Batch'), FloatProgress(value=0.0, max=243.0), HTML(value='')))"
      ]
     },
     "metadata": {},
     "output_type": "display_data"
    },
    {
     "data": {
      "application/vnd.jupyter.widget-view+json": {
       "model_id": "",
       "version_major": 2,
       "version_minor": 0
      },
      "text/plain": [
       "HBox(children=(HTML(value='Batch'), FloatProgress(value=0.0, max=243.0), HTML(value='')))"
      ]
     },
     "metadata": {},
     "output_type": "display_data"
    },
    {
     "data": {
      "application/vnd.jupyter.widget-view+json": {
       "model_id": "",
       "version_major": 2,
       "version_minor": 0
      },
      "text/plain": [
       "HBox(children=(HTML(value='Batch'), FloatProgress(value=0.0, max=243.0), HTML(value='')))"
      ]
     },
     "metadata": {},
     "output_type": "display_data"
    },
    {
     "data": {
      "application/vnd.jupyter.widget-view+json": {
       "model_id": "",
       "version_major": 2,
       "version_minor": 0
      },
      "text/plain": [
       "HBox(children=(HTML(value='Batch'), FloatProgress(value=0.0, max=243.0), HTML(value='')))"
      ]
     },
     "metadata": {},
     "output_type": "display_data"
    },
    {
     "data": {
      "application/vnd.jupyter.widget-view+json": {
       "model_id": "",
       "version_major": 2,
       "version_minor": 0
      },
      "text/plain": [
       "HBox(children=(HTML(value='Batch'), FloatProgress(value=0.0, max=243.0), HTML(value='')))"
      ]
     },
     "metadata": {},
     "output_type": "display_data"
    },
    {
     "data": {
      "application/vnd.jupyter.widget-view+json": {
       "model_id": "",
       "version_major": 2,
       "version_minor": 0
      },
      "text/plain": [
       "HBox(children=(HTML(value='Batch'), FloatProgress(value=0.0, max=243.0), HTML(value='')))"
      ]
     },
     "metadata": {},
     "output_type": "display_data"
    },
    {
     "data": {
      "application/vnd.jupyter.widget-view+json": {
       "model_id": "",
       "version_major": 2,
       "version_minor": 0
      },
      "text/plain": [
       "HBox(children=(HTML(value='Batch'), FloatProgress(value=0.0, max=243.0), HTML(value='')))"
      ]
     },
     "metadata": {},
     "output_type": "display_data"
    },
    {
     "data": {
      "application/vnd.jupyter.widget-view+json": {
       "model_id": "",
       "version_major": 2,
       "version_minor": 0
      },
      "text/plain": [
       "HBox(children=(HTML(value='Batch'), FloatProgress(value=0.0, max=243.0), HTML(value='')))"
      ]
     },
     "metadata": {},
     "output_type": "display_data"
    },
    {
     "data": {
      "application/vnd.jupyter.widget-view+json": {
       "model_id": "",
       "version_major": 2,
       "version_minor": 0
      },
      "text/plain": [
       "HBox(children=(HTML(value='Batch'), FloatProgress(value=0.0, max=243.0), HTML(value='')))"
      ]
     },
     "metadata": {},
     "output_type": "display_data"
    },
    {
     "data": {
      "application/vnd.jupyter.widget-view+json": {
       "model_id": "",
       "version_major": 2,
       "version_minor": 0
      },
      "text/plain": [
       "HBox(children=(HTML(value='Batch'), FloatProgress(value=0.0, max=243.0), HTML(value='')))"
      ]
     },
     "metadata": {},
     "output_type": "display_data"
    },
    {
     "data": {
      "application/vnd.jupyter.widget-view+json": {
       "model_id": "",
       "version_major": 2,
       "version_minor": 0
      },
      "text/plain": [
       "HBox(children=(HTML(value='Batch'), FloatProgress(value=0.0, max=243.0), HTML(value='')))"
      ]
     },
     "metadata": {},
     "output_type": "display_data"
    },
    {
     "data": {
      "application/vnd.jupyter.widget-view+json": {
       "model_id": "",
       "version_major": 2,
       "version_minor": 0
      },
      "text/plain": [
       "HBox(children=(HTML(value='Batch'), FloatProgress(value=0.0, max=243.0), HTML(value='')))"
      ]
     },
     "metadata": {},
     "output_type": "display_data"
    },
    {
     "name": "stdout",
     "output_type": "stream",
     "text": [
      "\n",
      "Finished Training\n"
     ]
    },
    {
     "data": {
      "application/vnd.jupyter.widget-view+json": {
       "model_id": "69c6d994dd5b4e959a779fa041db0143",
       "version_major": 2,
       "version_minor": 0
      },
      "text/plain": [
       "HBox(children=(HTML(value=''), FloatProgress(value=0.0, max=66.0), HTML(value='')))"
      ]
     },
     "metadata": {},
     "output_type": "display_data"
    },
    {
     "name": "stdout",
     "output_type": "stream",
     "text": [
      "\n",
      "Accuracy of the network on test set: 96.725923265697%\n",
      "Loss of the network on train set: 0.36865197338358036\n",
      "Checkpoint successfully saved!\n"
     ]
    }
   ],
   "source": [
    "### EXPERIMENT 1:\n",
    "classes = list(int_to_token.values())\n",
    "\n",
    "exp1 = Experiment(\"Jamin_CNN_adamW\", \"adamW\")\n",
    "exp1.train_network(n_epochs=15, train_loader=train_loader)\n",
    "exp1.test_accuracy(classes=classes, test_loader=test_loader)\n",
    "exp1.train_loss()\n",
    "\n",
    "save_path_jesse = \"/content/drive/My Drive/Colab Notebooks/Models/\"\n",
    "save_path_jamin = os.path.join(os.getcwd(), 'checkpoints')\n",
    "\n",
    "save_path = save_path_jamin\n",
    "\n",
    "exp1.save_checkpoint(save_path)"
   ]
  },
  {
   "cell_type": "code",
   "execution_count": 14,
   "metadata": {},
   "outputs": [
    {
     "data": {
      "text/plain": [
       "[<matplotlib.lines.Line2D at 0x2215fd9a9b0>]"
      ]
     },
     "execution_count": 14,
     "metadata": {},
     "output_type": "execute_result"
    },
    {
     "data": {
      "image/png": "[encoded data removed]",
      "text/plain": [
       "<Figure size 432x288 with 1 Axes>"
      ]
     },
     "metadata": {
      "needs_background": "light"
     },
     "output_type": "display_data"
    }
   ],
   "source": [
    "plt.plot(exp1.train_loss_history)"
   ]
  },
  {
   "cell_type": "markdown",
   "metadata": {
    "id": "ogLUkcssaFmc"
   },
   "source": [
    "### Reviewing Results"
   ]
  },
  {
   "cell_type": "code",
   "execution_count": null,
   "metadata": {
    "colab": {
     "base_uri": "https://localhost:8080/",
     "height": 160
    },
    "id": "JWdHbyhyFPlE",
    "outputId": "1b3cfa9d-a12c-466e-d40a-5e0bcda3c205",
    "scrolled": false
   },
   "outputs": [],
   "source": [
    "test_data_iter = iter(test_loader)\n",
    "data = test_data_iter.next()\n",
    "\n",
    "test_features = data['features'].to(device)\n",
    "labels = data['label'].to(device)\n",
    "\n",
    "outputs = exp1.net(test_features)\n",
    "\n",
    "# Tbh I'm not sure why it's max here and not argmax.\n",
    "_, predicted = torch.max(outputs.data, dim=1)\n",
    "\n",
    "for f, l, p, in zip(test_features, labels, predicted):\n",
    "    f = np.squeeze(f.cpu().numpy())\n",
    "    # plt.figure()\n",
    "    # plt.imshow(f, cmap='gray')\n",
    "    # plt.show()\n",
    "    print(f'Predicted = {classes[p]}, Actual = {classes[l]}')"
   ]
  },
  {
   "cell_type": "code",
   "execution_count": null,
   "metadata": {
    "id": "EfSJ8drKRbhq"
   },
   "outputs": [],
   "source": [
    "#get test data:\n",
    "with open(test_path, 'rb') as f:\n",
    "    test_df = pd.DataFrame(pickle.load(f))\n",
    "\n",
    "#convert over to labels and predictions to use in confusion matrix\n",
    "test_df['class_label'] = test_df['label'].apply(lambda ohe_vec: np.argmax(ohe_vec))\n",
    "test_df[\"prediction\"] = torch.cat(exp1.predictions).cpu().numpy()\n",
    "\n",
    "test_df[\"class_symbol\"] = test_df[\"class_label\"].apply(lambda x: classes[x])\n",
    "test_df[\"prediction_symbol\"] = test_df[\"prediction\"].apply(lambda x: classes[x])"
   ]
  },
  {
   "cell_type": "code",
   "execution_count": null,
   "metadata": {
    "colab": {
     "base_uri": "https://localhost:8080/",
     "height": 232
    },
    "id": "iFo0_AzzTxTW",
    "outputId": "2bddd37e-669f-4e41-e5b3-7c2ee19e0791"
   },
   "outputs": [],
   "source": [
    "#matches where pred == actual value\n",
    "test_df[\"match\"] = test_df[\"prediction\"] == test_df[\"class_label\"]\n",
    "#get matches per class\n",
    "matches_per_class = test_df[test_df[\"match\"] == True][\"class_symbol\"].value_counts()\n",
    "#get percent accuracy:\n",
    "class_accuracy = matches_per_class / test_df[\"class_symbol\"].value_counts()\n",
    "class_accuracy"
   ]
  },
  {
   "cell_type": "code",
   "execution_count": null,
   "metadata": {
    "id": "HHP4qRF3MtyZ"
   },
   "outputs": [],
   "source": [
    "from sklearn.metrics import confusion_matrix\n",
    "import seaborn as sns\n",
    "\n",
    "#make confusion matrix to see where messing up:\n",
    "cm = confusion_matrix(test_df[\"class_symbol\"], test_df[\"prediction_symbol\"], labels = classes, normalize=\"true\")\n",
    "#note, should probably make sure the order is correct, but put classes as labels... so should be.\n",
    "confusion_df = pd.DataFrame(cm, index = classes, columns = classes)"
   ]
  },
  {
   "cell_type": "code",
   "execution_count": null,
   "metadata": {
    "colab": {
     "base_uri": "https://localhost:8080/",
     "height": 1000
    },
    "id": "NzG0Ri9BK2Ck",
    "outputId": "57e6dea1-5f53-4a50-dc7c-301f1afd2f8d"
   },
   "outputs": [],
   "source": [
    "import matplotlib as mpl\n",
    "mpl.rcParams['figure.dpi']= 150\n",
    "plt.figure(figsize = (15,12))\n",
    "sns.heatmap(confusion_df, cmap=\"hot\")"
   ]
  },
  {
   "cell_type": "code",
   "execution_count": null,
   "metadata": {
    "colab": {
     "base_uri": "https://localhost:8080/",
     "height": 1000
    },
    "id": "7DMdsa1wFPlX",
    "outputId": "9763a905-d976-46f5-9fba-fbc3dea420dd",
    "scrolled": true
   },
   "outputs": [],
   "source": [
    "total_counts_idx = np.argsort(exp1.total_counts)\n",
    "total_counts_idx = total_counts_idx.astype(int)\n",
    "\n",
    "plt.figure(figsize=(6,18), dpi=600)\n",
    "plt.barh(classes[total_counts_idx], exp1.total_counts[total_counts_idx])\n",
    "plt.title('Token Counts')\n",
    "plt.xticks(rotation=90)\n",
    "plt.margins(y=0.005)\n",
    "plt.show()"
   ]
  },
  {
   "cell_type": "code",
   "execution_count": null,
   "metadata": {
    "colab": {
     "base_uri": "https://localhost:8080/",
     "height": 1000
    },
    "id": "BmGm00qdFPlh",
    "outputId": "7589c4e1-d8c4-4fc7-a191-961473008889",
    "scrolled": true
   },
   "outputs": [],
   "source": [
    "total_acc = correct_counts / total_counts\n",
    "\n",
    "total_acc_idx = np.argsort(total_acc)\n",
    "# total_acc_idx = total_acc_idx.astype(int)\n",
    "\n",
    "plt.figure(figsize=(6,18), dpi=600)\n",
    "plt.barh(classes[total_acc_idx], total_acc[total_acc_idx])\n",
    "plt.title('Token Accuracies')\n",
    "plt.xticks(rotation=90)\n",
    "plt.margins(y=0.005)\n",
    "plt.show()"
   ]
  },
  {
   "cell_type": "markdown",
   "metadata": {
    "id": "7v80WZkqFPlo"
   },
   "source": [
    "# Identifying Expressions"
   ]
  },
  {
   "cell_type": "code",
   "execution_count": 4,
   "metadata": {
    "id": "8YFiiwzwFPlq"
   },
   "outputs": [],
   "source": [
    "import cv2\n",
    "\n",
    "cv2.startWindowThread()\n",
    "\n",
    "class ExpressionImageDataset(Dataset):\n",
    "    \"\"\"\n",
    "    An expression-level dataset.\n",
    "    \"\"\"\n",
    "    def __init__(self, pickle_file, transform=None):\n",
    "        \"\"\"\n",
    "        Args:\n",
    "            pickle_file (string): Path to dataset pickle file.\n",
    "            transform (callable, optional): Optional transform to be applied\n",
    "                    on a sample.\n",
    "        \"\"\"\n",
    "        with open(pickle_file, 'rb') as f:\n",
    "            self.df_data = pd.DataFrame(pickle.load(f))\n",
    "            \n",
    "#         print(self.df_data)\n",
    "\n",
    "        self.transform = transform\n",
    "    \n",
    "    def __len__(self):\n",
    "        return len(self.df_data)\n",
    "    \n",
    "    def __getitem__(self, idx):\n",
    "        if torch.is_tensor(idx):\n",
    "            idx = idx.tolist()\n",
    "            \n",
    "        row = self.df_data.iloc[idx]\n",
    "                \n",
    "        traces_data = row['traces_data']\n",
    "        img_path = row['img_path']\n",
    "        tokens = row['tokens']\n",
    "        latex = row['latex']\n",
    "        \n",
    "        # CV2 will read the image with white being 255 and black being 0, but since\n",
    "        # our token-level training set uses binary arrays to represent images, we\n",
    "        # need to binarize our image here as well.\n",
    "        image_raw = cv2.imread(img_path, cv2.IMREAD_GRAYSCALE)\n",
    "        image_binarized = cv2.threshold(image_raw, 127, 255, cv2.THRESH_BINARY)[1]\n",
    "        image_bitmap = image_binarized / 255.0\n",
    "        \n",
    "        sample = {\n",
    "            'image': image_binarized,\n",
    "            'image_bitmap': image_bitmap,\n",
    "            'traces_data': traces_data,\n",
    "            'tokens': tokens,\n",
    "            'latex': latex\n",
    "        }\n",
    "        \n",
    "        if self.transform:\n",
    "            sample = self.transform(sample)\n",
    "\n",
    "        return sample"
   ]
  },
  {
   "cell_type": "code",
   "execution_count": 5,
   "metadata": {
    "id": "wFyDl84OFPly"
   },
   "outputs": [],
   "source": [
    "train_exp_path = os.path.join(os.getcwd(), 'data', 'train=2011,2013_test=2012', 'train', 'train.pickle')\n",
    "test_exp_path = os.path.join(os.getcwd(), 'data', 'train=2011,2013_test=2012', 'test', 'test.pickle')\n",
    "\n",
    "# print('train')\n",
    "train_exp_set = ExpressionImageDataset(train_exp_path)\n",
    "# print('test')\n",
    "test_exp_set = ExpressionImageDataset(test_exp_path)"
   ]
  },
  {
   "cell_type": "code",
   "execution_count": 6,
   "metadata": {
    "id": "BUUn6dTXFPl8",
    "scrolled": false
   },
   "outputs": [],
   "source": [
    "def image_to_components(img):\n",
    "    \"\"\"\n",
    "    Identifies the connected components (groups of black pixels) within an image.\n",
    "    Returns a list of tuples. The first element of each tuple is the component\n",
    "    image, and the second element is a tuple representing the bounding box of the\n",
    "    component (relative to the original image dimensions).\n",
    "    \"\"\"\n",
    "    \n",
    "    # Invert the image because for CV2, foreground objects should be white, and the background black.\n",
    "    img_flipped = cv2.bitwise_not(img)\n",
    "\n",
    "    # cv2.connectedComponents returns a mask of the input where each element is a number from 0\n",
    "    # to num_labels. All the 0's are considered the same component, 1's together, so on and\n",
    "    # so forth.\n",
    "    num_labels, labeled_img = cv2.connectedComponents(img_flipped)\n",
    "\n",
    "    components = []\n",
    "\n",
    "    # Skip the first component because it will be the background.\n",
    "    for l in range(1, num_labels):\n",
    "        mask = np.zeros(labeled_img.shape, dtype=np.uint8)\n",
    "        mask[labeled_img == l] = 255\n",
    "\n",
    "        rect = cv2.boundingRect(mask)\n",
    "\n",
    "    #     # Draw bounding box to make sure it's correct.\n",
    "    #     cv2.rectangle(mask, (x, y), (x + w, y + h), (36,255,12), 2)\n",
    "\n",
    "        mask = cv2.bitwise_not(mask)\n",
    "\n",
    "        components.append((mask, rect))\n",
    "\n",
    "    components.sort(key=lambda c: (c[1][0], c[1][1]))\n",
    "\n",
    "#     for mask, rect in components:    \n",
    "#         plt.imshow(mask, cmap='gray')\n",
    "#         plt.show()\n",
    "        \n",
    "    return components"
   ]
  },
  {
   "cell_type": "code",
   "execution_count": 7,
   "metadata": {
    "id": "-f0h-Ud4FPmJ"
   },
   "outputs": [],
   "source": [
    "def process_component(image, bounding_rect):\n",
    "    \"\"\"\n",
    "    Processes a component image so it can be fed into the CNN for as input.\n",
    "    It crops the component, pads the cropped image so that it's square, and\n",
    "    then resizes it to the shape the CNN expects.\n",
    "    \n",
    "    Args:\n",
    "        image - Image containing a single component.\n",
    "        bounding_rect - Tuple defining the bounding box of the component.\n",
    "    \"\"\"\n",
    "    \n",
    "    x, y, w, h = bounding_rect\n",
    "    \n",
    "    # Crop the image to just the bounding box.\n",
    "    image = image[y: y + h, x: x + w]\n",
    "    \n",
    "    # Pad the image so it's square.\n",
    "    if w > h:\n",
    "        pad = int((w - h) / 2)        \n",
    "        image = cv2.copyMakeBorder(image, \n",
    "                                   top=pad, \n",
    "                                   bottom=pad, \n",
    "                                   left=0, \n",
    "                                   right=0, \n",
    "                                   borderType=cv2.BORDER_CONSTANT, \n",
    "                                   value=255)\n",
    "    else:\n",
    "        pad = int((h - w) / 2)\n",
    "        image = cv2.copyMakeBorder(image, \n",
    "                                   top=0, \n",
    "                                   bottom=0, \n",
    "                                   left=pad, \n",
    "                                   right=pad, \n",
    "                                   borderType=cv2.BORDER_CONSTANT, \n",
    "                                   value=255)\n",
    "    \n",
    "    # Scale down to the correct size. Seems like cv2.INTER_AREA is the best\n",
    "    # interpolation method for maintaining stroke wdith.\n",
    "    image = cv2.resize(image, (image_size, image_size), interpolation=cv2.INTER_AREA)\n",
    "    \n",
    "    # During the resize some pixels will get scaled to be between 0 (black) and 255 (white).\n",
    "    # In order to maintain stroke width, we set all non-white pixels to full black.\n",
    "    # If we don't do this the resulting image ends up looking rather sparse.\n",
    "    # We also convert the image to binary so that it's ready for the model.\n",
    "    image = (image == 255).astype(int)\n",
    "    \n",
    "    return image"
   ]
  },
  {
   "cell_type": "code",
   "execution_count": 8,
   "metadata": {
    "colab": {
     "base_uri": "https://localhost:8080/",
     "height": 591
    },
    "id": "_llurYHxFPmR",
    "outputId": "969e4ba4-75f6-40da-8843-d1862b022226",
    "scrolled": false
   },
   "outputs": [
    {
     "name": "stdout",
     "output_type": "stream",
     "text": [
      "(322, 483)\n"
     ]
    },
    {
     "data": {
      "image/png": "[encoded data removed]",
      "text/plain": [
       "<Figure size 432x288 with 1 Axes>"
      ]
     },
     "metadata": {
      "needs_background": "light"
     },
     "output_type": "display_data"
    },
    {
     "name": "stdout",
     "output_type": "stream",
     "text": [
      "(30, 22, 131, 278)\n"
     ]
    },
    {
     "data": {
      "image/png": "[encoded data removed]",
      "text/plain": [
       "<Figure size 432x288 with 1 Axes>"
      ]
     },
     "metadata": {
      "needs_background": "light"
     },
     "output_type": "display_data"
    },
    {
     "name": "stdout",
     "output_type": "stream",
     "text": [
      "(191, 50, 68, 197)\n"
     ]
    },
    {
     "data": {
      "image/png": "[encoded data removed]",
      "text/plain": [
       "<Figure size 432x288 with 1 Axes>"
      ]
     },
     "metadata": {
      "needs_background": "light"
     },
     "output_type": "display_data"
    },
    {
     "name": "stdout",
     "output_type": "stream",
     "text": [
      "(265, 158, 125, 65)\n"
     ]
    },
    {
     "data": {
      "image/png": "[encoded data removed]",
      "text/plain": [
       "<Figure size 432x288 with 1 Axes>"
      ]
     },
     "metadata": {
      "needs_background": "light"
     },
     "output_type": "display_data"
    },
    {
     "name": "stdout",
     "output_type": "stream",
     "text": [
      "(405, 41, 49, 250)\n"
     ]
    },
    {
     "data": {
      "image/png": "[encoded data removed]",
      "text/plain": [
       "<Figure size 432x288 with 1 Axes>"
      ]
     },
     "metadata": {
      "needs_background": "light"
     },
     "output_type": "display_data"
    }
   ],
   "source": [
    "# Example code.\n",
    "test_img = train_exp_set[0]['image']\n",
    "\n",
    "print(test_img.shape)\n",
    "plt.imshow(test_img, cmap='gray')\n",
    "plt.show()\n",
    "\n",
    "components = image_to_components(test_img)\n",
    "\n",
    "for img, rect in components:\n",
    "    print(rect)\n",
    "    \n",
    "    out = process_component(img, rect)\n",
    "    plt.imshow(out, cmap='gray')\n",
    "    plt.show()"
   ]
  },
  {
   "cell_type": "markdown",
   "metadata": {},
   "source": [
    "# Testing Expression-Level Detection"
   ]
  },
  {
   "cell_type": "code",
   "execution_count": 9,
   "metadata": {},
   "outputs": [
    {
     "name": "stdout",
     "output_type": "stream",
     "text": [
      "(216, 1100)\n",
      "[(50, 60, 6, 87), (75, 76, 57, 82), (192, 63, 9, 98), (465, 66, 11, 100), (514, 72, 44, 88), (590, 74, 48, 79), (877, 57, 49, 97), (967, 50, 82, 84), (281, 60, 92, 103), (690, 64, 115, 97)]\n"
     ]
    },
    {
     "data": {
      "image/png": "[encoded data removed]",
      "text/plain": [
       "<Figure size 432x288 with 1 Axes>"
      ]
     },
     "metadata": {
      "needs_background": "light"
     },
     "output_type": "display_data"
    }
   ],
   "source": [
    "test_traces_data = train_exp_set[2]['traces_data']\n",
    "\n",
    "def get_traces_data_stats(traces_data):\n",
    "    all_coords = []\n",
    "    for pattern in traces_data:\n",
    "        for trace in pattern['trace_group']:\n",
    "            all_coords.extend(trace)\n",
    "        \n",
    "    all_coords = np.array(all_coords)\n",
    "    \n",
    "    x_min, y_min = np.min(all_coords, axis=0)\n",
    "    width, height = np.max(all_coords, axis=0) - [x_min, y_min] + 1\n",
    "    \n",
    "    return x_min, y_min, width, height\n",
    "\n",
    "def get_trace_group_bounding_box(trace_group):\n",
    "    all_coords = []\n",
    "    for t in trace_group:\n",
    "        all_coords.extend(t)\n",
    "        \n",
    "    all_coords = np.array(all_coords)\n",
    "    \n",
    "    x_min, y_min = np.min(all_coords, axis=0)\n",
    "    width, height = np.max(all_coords, axis=0) - [x_min, y_min] + 1\n",
    "    \n",
    "    return x_min, y_min, width, height\n",
    "    \n",
    "\n",
    "def draw_traces_data(traces_data):\n",
    "    im_x_min, im_y_min, width, height = get_traces_data_stats(traces_data)\n",
    "    \n",
    "    # Scale the image down.\n",
    "    max_dim = 1000 # Maximum dimension pre-pad.\n",
    "    sf = 1000 / max(height, width)\n",
    "    scaled_height = int(height * sf)\n",
    "    scaled_width = int(width * sf)\n",
    "    \n",
    "    image = np.ones((scaled_height, scaled_width))\n",
    "    \n",
    "    # Pad the scaled image. We pad the image first before we draw the traces, because it's possible that\n",
    "    # for certain stroke widths, part of the expression would be cut off. Adding (enough) padding before \n",
    "    # drawing prevents this issue.\n",
    "    pad_factor = 0.05\n",
    "    pad_amount = int(max(pad_factor * scaled_width, pad_factor * scaled_height))\n",
    "    pad_width = ((pad_amount, pad_amount), (pad_amount, pad_amount))\n",
    "    image = np.pad(image, \n",
    "                     pad_width=pad_amount, \n",
    "                     mode='constant', \n",
    "                     constant_values=1)\n",
    "        \n",
    "    # Draw the traces on the scaled/padded image.\n",
    "    for pattern in traces_data:\n",
    "        for trace in pattern['trace_group']:\n",
    "            trace = np.array(trace)\n",
    "            trace -= np.array([im_x_min, im_y_min])\n",
    "            trace = (trace.astype(np.float64) * sf).astype(int)\n",
    "            trace += int(pad_factor * scaled_width)  # Remove.\n",
    "            \n",
    "            for coord_idx in range(1, len(trace)):\n",
    "                cv2.line(image, tuple(trace[coord_idx - 1]), tuple(trace[coord_idx]), color=(0), thickness=5)\n",
    "    \n",
    "    # Binarize.\n",
    "    image = (image > 0).astype(int) \n",
    "    \n",
    "    # Open CV wants images to be between 0 and 255.\n",
    "    image *= 255\n",
    "    image = image.astype(np.uint8)\n",
    "    \n",
    "    boxes = []\n",
    "    \n",
    "    # Get bounding boxes.\n",
    "    for pattern in traces_data:\n",
    "        trace_group = pattern['trace_group']\n",
    "        rect_x_min, rect_y_min, rect_width, rect_height = get_trace_group_bounding_box(trace_group)\n",
    "        \n",
    "        rect_x_min = (rect_x_min - im_x_min) * sf + pad_width[1][0]\n",
    "        rect_y_min = (rect_y_min - im_y_min) * sf + pad_width[0][0]\n",
    "        \n",
    "        rect_width *= sf\n",
    "        rect_height *= sf\n",
    "        \n",
    "        # Convert bounding box coords to integers.\n",
    "        rect_x_min = int(rect_x_min)\n",
    "        rect_y_min = int(rect_y_min)\n",
    "        rect_width = int(rect_width)\n",
    "        rect_height = int(rect_height)\n",
    "              \n",
    "        # Draw the rectangle.\n",
    "#         image = cv2.rectangle(image, \n",
    "#                               (int(rect_x_min), int(rect_y_min)), \n",
    "#                               (int(rect_x_min + rect_width), int(rect_y_min + rect_height)), \n",
    "#                               (0), \n",
    "#                               5)\n",
    "        \n",
    "        boxes.append((rect_x_min, rect_y_min, rect_width, rect_height))\n",
    "    \n",
    "#     plt.imshow(image, cmap='gray')\n",
    "#     plt.show()\n",
    "    \n",
    "    return image, boxes\n",
    "    \n",
    "image, boxes = draw_traces_data(test_traces_data)\n",
    "plt.imshow(image, cmap='gray')\n",
    "print(image.shape)\n",
    "print(boxes)"
   ]
  },
  {
   "cell_type": "code",
   "execution_count": 10,
   "metadata": {},
   "outputs": [],
   "source": [
    "def intersect_area(rect1, rect2):\n",
    "    \"\"\"\n",
    "    rect1 and rect2 are tuples of the form (x, y, width, height).\n",
    "    \"\"\"\n",
    "    r1_x_min, r1_y_min, r1_width, r1_height = rect1\n",
    "    r2_x_min, r2_y_min, r2_width, r2_height = rect2\n",
    "    \n",
    "    dx = min(r1_x_min + r1_width, r2_x_min + r2_width) - max(r1_x_min, r2_x_min)\n",
    "    dy = min(r1_y_min + r1_height, r2_y_min + r2_height) - max(r1_y_min, r2_y_min)\n",
    "    if (dx>=0) and (dy>=0):\n",
    "        return dx*dy\n",
    "    \n",
    "    return 0\n",
    "    \n",
    "def get_iou(rect1, rect2):\n",
    "    rect1_area = rect1[2] * rect1[3]\n",
    "    rect2_area = rect2[2] * rect2[3]\n",
    "    \n",
    "    intersect = intersect_area(rect1, rect2)\n",
    "    union = rect1_area + rect2_area - intersect\n",
    "    \n",
    "    return intersect / union"
   ]
  },
  {
   "cell_type": "code",
   "execution_count": 11,
   "metadata": {},
   "outputs": [],
   "source": [
    "def invert(img):\n",
    "    return ~img\n",
    "\n",
    "def segmentation_erosion(img, k=5):\n",
    "    kernel = np.ones((k,k),np.uint8)\n",
    "    \n",
    "    img = invert(img)\n",
    "    img = cv2.erode(img, kernel, iterations = 1)\n",
    "    img = invert(img)\n",
    "    \n",
    "    return img\n",
    "\n",
    "def segmentation_dilation(img, k=5):\n",
    "    kernel = np.ones((k,k),np.uint8)\n",
    "    \n",
    "    img = invert(img)\n",
    "    img = cv2.dilate(img, kernel, iterations = 1)\n",
    "    img = invert(img)\n",
    "    \n",
    "    return img\n",
    "\n",
    "def segmentation_opening(img, k=5):\n",
    "    kernel = np.ones((k,k),np.uint8)\n",
    "    \n",
    "    img = invert(img)\n",
    "    opening = cv2.morphologyEx(img, cv2.MORPH_OPEN, kernel)\n",
    "    img = invert(img)\n",
    "    \n",
    "    return img"
   ]
  },
  {
   "cell_type": "code",
   "execution_count": 29,
   "metadata": {
    "scrolled": false
   },
   "outputs": [
    {
     "data": {
      "image/png": "[encoded data removed]",
      "text/plain": [
       "<Figure size 1800x1200 with 1 Axes>"
      ]
     },
     "metadata": {
      "needs_background": "light"
     },
     "output_type": "display_data"
    },
    {
     "data": {
      "image/png": "[encoded data removed]",
      "text/plain": [
       "<Figure size 1800x1200 with 1 Axes>"
      ]
     },
     "metadata": {
      "needs_background": "light"
     },
     "output_type": "display_data"
    },
    {
     "data": {
      "image/png": "[encoded data removed]",
      "text/plain": [
       "<Figure size 1800x1200 with 1 Axes>"
      ]
     },
     "metadata": {
      "needs_background": "light"
     },
     "output_type": "display_data"
    }
   ],
   "source": [
    "img, _ = draw_traces_data(test_exp_set[7]['traces_data'])\n",
    "\n",
    "k = 7\n",
    "\n",
    "plt.imshow(img, cmap='gray')\n",
    "plt.title('Original')\n",
    "plt.show()\n",
    "\n",
    "plt.imshow(segmentation_erosion(img, k=k), cmap='gray')\n",
    "plt.title(f'Erosion(k={k})')\n",
    "plt.show()\n",
    "\n",
    "plt.imshow(segmentation_dilation(img, k=k), cmap='gray')\n",
    "plt.title(f'Dilation(k={k})')\n",
    "plt.show()\n",
    "\n",
    "# plt.imshow(segmentation_opening(img, k=k), cmap='gray')\n",
    "# plt.title(f'Opening(k={k})')\n",
    "# plt.show()"
   ]
  },
  {
   "cell_type": "code",
   "execution_count": null,
   "metadata": {
    "colab": {
     "referenced_widgets": [
      "ba358a119274444fbd817d6c4e356b76"
     ]
    },
    "id": "kUfZzG3HFPmd",
    "outputId": "12fa1037-335c-4e96-db69-7ea12f59081c",
    "scrolled": false
   },
   "outputs": [],
   "source": [
    "from collections import defaultdict\n",
    "\n",
    "def evaluate(morph_transform=None):\n",
    "    num_exp_correct = 0\n",
    "    num_tokens_wrong_dict = {}\n",
    "\n",
    "    all_precision = defaultdict(list)\n",
    "    all_recall = defaultdict(list)\n",
    "\n",
    "    # We evaluate on test_exp_set, which is generated only using data from 2012. This is to avoid data leakage\n",
    "    # with the token-level training set, which is generated on data from 2011 and 2013.\n",
    "    for data in tqdm(test_exp_set):\n",
    "        image, true_boxes = draw_traces_data(data['traces_data'])\n",
    "\n",
    "        # Apply a morphological transform to help with segmentation, e.g. erosion/dilation.\n",
    "        if morph_transform:\n",
    "            image = segmentation_dilation(image)\n",
    "\n",
    "        # Get the components present in the image.\n",
    "        components = image_to_components(image)\n",
    "\n",
    "        # Generate 96x96 input images for each component.\n",
    "        component_images_processed = [process_component(comp_img, comp_rect) for comp_img, comp_rect in components]\n",
    "\n",
    "        # Construct CNN input tensor.\n",
    "        features_numpy = np.array(component_images_processed)\n",
    "        features_numpy = np.expand_dims(features_numpy, 1)\n",
    "        features_tensor = torch.from_numpy(features_numpy).to(device)\n",
    "\n",
    "        outputs = exp1.net(features_tensor)\n",
    "\n",
    "        _, predicted = torch.max(outputs.data, dim=1)\n",
    "\n",
    "        # For classification.\n",
    "        predicted_tokens = classes[predicted.cpu()]\n",
    "        actual_tokens = data['tokens']\n",
    "\n",
    "    #     print('actual_tokens:', actual_tokens)\n",
    "\n",
    "        # For bounding box quality.\n",
    "        predicted_boxes = [comp_rect for comp_img, comp_rect in components]\n",
    "\n",
    "        # Calculate average precision at different iou thresholds.\n",
    "        iou_thresholds = [0.05, 0.5, 0.80]\n",
    "\n",
    "        for thresh in iou_thresholds:\n",
    "            true_pos = 0\n",
    "            false_pos = 0\n",
    "            true_neg = 0\n",
    "            false_neg = 0\n",
    "\n",
    "            for true_box, true_token in zip(true_boxes, actual_tokens):\n",
    "                for pred_box, pred_token in zip(predicted_boxes, predicted_tokens):\n",
    "                    iou = get_iou(true_box, pred_box)\n",
    "\n",
    "                    if iou >= thresh:\n",
    "                        if pred_token == true_token:\n",
    "                            true_pos += 1\n",
    "                        else:\n",
    "                            false_pos += 1\n",
    "\n",
    "            curr_precision = true_pos / (true_pos + false_pos) if true_pos + false_pos > 0 else 0\n",
    "            curr_recall = true_pos / len(actual_tokens)\n",
    "\n",
    "            all_precision[thresh].append(curr_precision)\n",
    "            all_recall[thresh].append(curr_recall)\n",
    "\n",
    "        # Calculate number of tokens predicted correctly.\n",
    "        num_tokens_correct = 0\n",
    "        for p, a in zip(predicted_tokens, actual_tokens):\n",
    "            p = p.replace('\\\\', '')\n",
    "            a = a.replace('\\\\', '')\n",
    "            if p == a:\n",
    "                num_tokens_correct += 1\n",
    "\n",
    "        num_tokens_correct += np.max(len(actual_tokens) - len(predicted_tokens), 0)\n",
    "\n",
    "        num_tokens_wrong = len(actual_tokens) - num_tokens_correct\n",
    "\n",
    "        if num_tokens_wrong == 0:\n",
    "            num_exp_correct += 1\n",
    "\n",
    "        num_tokens_wrong_dict[num_tokens_wrong] = num_tokens_wrong_dict.get(num_tokens_wrong, 0) + 1\n",
    "        \n",
    "        results = []\n",
    "        \n",
    "    for thresh in iou_thresholds:\n",
    "        results.append({\n",
    "            'IoU Thresh.': thresh,\n",
    "            'Precision': np.mean(all_precision[thresh]),\n",
    "            'Recall': np.mean(all_recall[thresh])\n",
    "        })\n",
    "\n",
    "#             print(f'Average precision at {thresh}: {np.mean(all_precision[thresh])}')\n",
    "#             print(f'Average recall at {thresh}: {np.mean(all_recall[thresh])}')\n",
    "#             print()\n",
    "\n",
    "    df_results = pd.DataFrame(results)\n",
    "\n",
    "    display(df_results)\n",
    "\n",
    "    #     true_image = np.array(image, copy=True)\n",
    "    #     for box in true_boxes:\n",
    "    #         rect_x_min, rect_y_min, rect_width, rect_height = box\n",
    "    #         true_image = cv2.rectangle(true_image, \n",
    "    #                       (int(rect_x_min), int(rect_y_min)), \n",
    "    #                       (int(rect_x_min + rect_width), int(rect_y_min + rect_height)), \n",
    "    #                       (0), \n",
    "    #                       5)\n",
    "\n",
    "    #     pred_image = np.array(image, copy=True)\n",
    "    #     for box in predicted_boxes:\n",
    "    #         rect_x_min, rect_y_min, rect_width, rect_height = box\n",
    "    #         pred_image = cv2.rectangle(pred_image, \n",
    "    #                       (int(rect_x_min), int(rect_y_min)), \n",
    "    #                       (int(rect_x_min + rect_width), int(rect_y_min + rect_height)), \n",
    "    #                       (0), \n",
    "    #                       5)\n",
    "\n",
    "    #     print('Image with true boxes:')\n",
    "    #     plt.imshow(true_image, cmap='gray')\n",
    "    #     plt.show()\n",
    "\n",
    "    #     print('Image with predicted boxes:')\n",
    "    #     plt.imshow(pred_image, cmap='gray')\n",
    "    #     plt.show()\n",
    "\n",
    "    #     for thresh in iou_thresholds:\n",
    "    #         print(f'Precision at {thresh}: {all_precision[thresh]}')\n",
    "    #         print(f'Recall at {thresh}: {all_recall[thresh]}')"
   ]
  },
  {
   "cell_type": "code",
   "execution_count": null,
   "metadata": {},
   "outputs": [],
   "source": [
    "evaluate(morph_transform=None)"
   ]
  },
  {
   "cell_type": "code",
   "execution_count": null,
   "metadata": {},
   "outputs": [],
   "source": [
    "evaluate(morph_transform=lambda img: segmentation_dilation(img, k=5))"
   ]
  },
  {
   "cell_type": "code",
   "execution_count": null,
   "metadata": {},
   "outputs": [],
   "source": [
    "evaluate(morph_transform=lambda img: segmentation_dilation(img, k=7))"
   ]
  },
  {
   "cell_type": "markdown",
   "metadata": {
    "id": "x8BPsoTrFPm_"
   },
   "source": [
    "# Scratch"
   ]
  },
  {
   "cell_type": "markdown",
   "metadata": {
    "id": "JviIFC4QFPnB"
   },
   "source": [
    "Below is some code I wrote to play around with drawing the traces from scratch."
   ]
  },
  {
   "cell_type": "code",
   "execution_count": null,
   "metadata": {
    "id": "_EM-4U21FPnC"
   },
   "outputs": [],
   "source": [
    "import cv2\n",
    "from skimage.transform import resize"
   ]
  },
  {
   "cell_type": "code",
   "execution_count": null,
   "metadata": {
    "id": "n6HqKA7LFPnK",
    "scrolled": true
   },
   "outputs": [],
   "source": [
    "train_exp_set[0]"
   ]
  },
  {
   "cell_type": "code",
   "execution_count": null,
   "metadata": {
    "id": "_zP5kyzxFPnS"
   },
   "outputs": [],
   "source": [
    "trace = train_exp_set[0]['traces_data'][0]\n",
    "\n",
    "\n",
    "def get_trace_group_stats(trace_group):\n",
    "    all_coords = []\n",
    "    for t in trace_group:\n",
    "        all_coords.extend(t)\n",
    "        \n",
    "    all_coords = np.array(all_coords)\n",
    "    \n",
    "    x_min, y_min = np.min(all_coords, axis=0)\n",
    "    width, height = np.max(all_coords, axis=0) - [x_min, y_min] + 1\n",
    "    \n",
    "    return x_min, y_min, width, height\n",
    "\n",
    "\n",
    "def scale_trace_group(trace_group, image_size, width, height):\n",
    "    scaling_factor = image_size / max(width, height)\n",
    "    \n",
    "    trace_group_scaled = [(trace * scaling_factor).astype(int) for trace in trace_group]\n",
    "        \n",
    "    return trace_group_scaled\n",
    "\n",
    "\n",
    "def shift_trace_group(trace_group, x_min, y_min):\n",
    "    trace_group_shifted = [trace - [x_min, y_min] for trace in trace_group]\n",
    "    return trace_group_shifted\n",
    "\n",
    "\n",
    "def draw_trace_group(trace_group, height, width, thickness):\n",
    "    placeholder = np.ones((height, width))\n",
    "        \n",
    "    for trace in trace_group:\n",
    "        for coord_idx in range(1, len(trace)):\n",
    "            cv2.line(placeholder, tuple(trace[coord_idx - 1]), tuple(trace[coord_idx]), color=(0), thickness=thickness)\n",
    "        \n",
    "    return placeholder\n",
    "\n",
    "    \n",
    "def process_trace_group(trace_group, thickness=2):\n",
    "    trace_group = [np.array(trace) for trace in trace_group]\n",
    "    \n",
    "    x_min, y_min, width, height = get_trace_group_stats(trace_group)\n",
    "    \n",
    "    trace_group = shift_trace_group(trace_group, x_min, y_min)\n",
    "    trace_group = scale_trace_group(trace_group, image_size, width, height)\n",
    "    \n",
    "    im = draw_trace_group(trace_group, height=image_size, width=image_size, thickness=thickness)\n",
    "    \n",
    "#     new_im = cv2.copyMakeBorder(im, top, bottom, left, right, borderType=cv2.BORDER_CONSTANT, value=1)\n",
    "    \n",
    "#     im = cv2.resize(im, (image_size, image_size))\n",
    "    \n",
    "    \n",
    "    \n",
    "    plt.imshow(im, cmap='gray')\n",
    "    \n",
    "        \n",
    "process_trace_group(trace['trace_group'])"
   ]
  },
  {
   "cell_type": "code",
   "execution_count": null,
   "metadata": {},
   "outputs": [],
   "source": []
  }
 ],
 "metadata": {
  "colab": {
   "collapsed_sections": [],
   "name": "baseline_token_level.ipynb",
   "provenance": [],
   "toc_visible": true
  },
  "kernelspec": {
   "display_name": "Python 3",
   "language": "python",
   "name": "python3"
  },
  "language_info": {
   "codemirror_mode": {
    "name": "ipython",
    "version": 3
   },
   "file_extension": ".py",
   "mimetype": "text/x-python",
   "name": "python",
   "nbconvert_exporter": "python",
   "pygments_lexer": "ipython3",
   "version": "3.7.2"
  },
  "widgets": {
   "application/vnd.jupyter.widget-state+json": {
    "0834f80cd63843b7a8b6b915d8d36247": {
     "model_module": "@jupyter-widgets/base",
     "model_name": "LayoutModel",
     "state": {
      "_model_module": "@jupyter-widgets/base",
      "_model_module_version": "1.2.0",
      "_model_name": "LayoutModel",
      "_view_count": null,
      "_view_module": "@jupyter-widgets/base",
      "_view_module_version": "1.2.0",
      "_view_name": "LayoutView",
      "align_content": null,
      "align_items": null,
      "align_self": null,
      "border": null,
      "bottom": null,
      "display": null,
      "flex": null,
      "flex_flow": null,
      "grid_area": null,
      "grid_auto_columns": null,
      "grid_auto_flow": null,
      "grid_auto_rows": null,
      "grid_column": null,
      "grid_gap": null,
      "grid_row": null,
      "grid_template_areas": null,
      "grid_template_columns": null,
      "grid_template_rows": null,
      "height": null,
      "justify_content": null,
      "justify_items": null,
      "left": null,
      "margin": null,
      "max_height": null,
      "max_width": null,
      "min_height": null,
      "min_width": null,
      "object_fit": null,
      "object_position": null,
      "order": null,
      "overflow": null,
      "overflow_x": null,
      "overflow_y": null,
      "padding": null,
      "right": null,
      "top": null,
      "visibility": null,
      "width": null
     }
    },
    "0884011fb50d47a18014d7bf7781eb56": {
     "model_module": "@jupyter-widgets/controls",
     "model_name": "ProgressStyleModel",
     "state": {
      "_model_module": "@jupyter-widgets/controls",
      "_model_module_version": "1.5.0",
      "_model_name": "ProgressStyleModel",
      "_view_count": null,
      "_view_module": "@jupyter-widgets/base",
      "_view_module_version": "1.2.0",
      "_view_name": "StyleView",
      "bar_color": null,
      "description_width": "initial"
     }
    },
    "16ba687f9c6447958826ed6181224f64": {
     "model_module": "@jupyter-widgets/base",
     "model_name": "LayoutModel",
     "state": {
      "_model_module": "@jupyter-widgets/base",
      "_model_module_version": "1.2.0",
      "_model_name": "LayoutModel",
      "_view_count": null,
      "_view_module": "@jupyter-widgets/base",
      "_view_module_version": "1.2.0",
      "_view_name": "LayoutView",
      "align_content": null,
      "align_items": null,
      "align_self": null,
      "border": null,
      "bottom": null,
      "display": null,
      "flex": null,
      "flex_flow": null,
      "grid_area": null,
      "grid_auto_columns": null,
      "grid_auto_flow": null,
      "grid_auto_rows": null,
      "grid_column": null,
      "grid_gap": null,
      "grid_row": null,
      "grid_template_areas": null,
      "grid_template_columns": null,
      "grid_template_rows": null,
      "height": null,
      "justify_content": null,
      "justify_items": null,
      "left": null,
      "margin": null,
      "max_height": null,
      "max_width": null,
      "min_height": null,
      "min_width": null,
      "object_fit": null,
      "object_position": null,
      "order": null,
      "overflow": null,
      "overflow_x": null,
      "overflow_y": null,
      "padding": null,
      "right": null,
      "top": null,
      "visibility": null,
      "width": null
     }
    },
    "176fcfe8839d4eb5b159aa375a762af9": {
     "model_module": "@jupyter-widgets/controls",
     "model_name": "HTMLModel",
     "state": {
      "_dom_classes": [],
      "_model_module": "@jupyter-widgets/controls",
      "_model_module_version": "1.5.0",
      "_model_name": "HTMLModel",
      "_view_count": null,
      "_view_module": "@jupyter-widgets/controls",
      "_view_module_version": "1.5.0",
      "_view_name": "HTMLView",
      "description": "",
      "description_tooltip": null,
      "layout": "IPY_MODEL_b6eb0fc605d04edc948ed8cf7190efaa",
      "placeholder": "​",
      "style": "IPY_MODEL_5cbe86645f934183a28da352097760fa",
      "value": " 1230/1230 [00:58&lt;00:00, 20.88it/s]"
     }
    },
    "186659d2582d47a8a7bfc2d0db92a861": {
     "model_module": "@jupyter-widgets/controls",
     "model_name": "DescriptionStyleModel",
     "state": {
      "_model_module": "@jupyter-widgets/controls",
      "_model_module_version": "1.5.0",
      "_model_name": "DescriptionStyleModel",
      "_view_count": null,
      "_view_module": "@jupyter-widgets/base",
      "_view_module_version": "1.2.0",
      "_view_name": "StyleView",
      "description_width": ""
     }
    },
    "194a716ad2e84895aeb4751337e54466": {
     "model_module": "@jupyter-widgets/controls",
     "model_name": "HBoxModel",
     "state": {
      "_dom_classes": [],
      "_model_module": "@jupyter-widgets/controls",
      "_model_module_version": "1.5.0",
      "_model_name": "HBoxModel",
      "_view_count": null,
      "_view_module": "@jupyter-widgets/controls",
      "_view_module_version": "1.5.0",
      "_view_name": "HBoxView",
      "box_style": "",
      "children": [
       "IPY_MODEL_382b69ab37c749b98b2ec662919a6930",
       "IPY_MODEL_176fcfe8839d4eb5b159aa375a762af9"
      ],
      "layout": "IPY_MODEL_c472a08d14aa42328f8823e9c7bdc2c9"
     }
    },
    "224dc67176e44697906636b5c30cd1f4": {
     "model_module": "@jupyter-widgets/base",
     "model_name": "LayoutModel",
     "state": {
      "_model_module": "@jupyter-widgets/base",
      "_model_module_version": "1.2.0",
      "_model_name": "LayoutModel",
      "_view_count": null,
      "_view_module": "@jupyter-widgets/base",
      "_view_module_version": "1.2.0",
      "_view_name": "LayoutView",
      "align_content": null,
      "align_items": null,
      "align_self": null,
      "border": null,
      "bottom": null,
      "display": null,
      "flex": null,
      "flex_flow": null,
      "grid_area": null,
      "grid_auto_columns": null,
      "grid_auto_flow": null,
      "grid_auto_rows": null,
      "grid_column": null,
      "grid_gap": null,
      "grid_row": null,
      "grid_template_areas": null,
      "grid_template_columns": null,
      "grid_template_rows": null,
      "height": null,
      "justify_content": null,
      "justify_items": null,
      "left": null,
      "margin": null,
      "max_height": null,
      "max_width": null,
      "min_height": null,
      "min_width": null,
      "object_fit": null,
      "object_position": null,
      "order": null,
      "overflow": null,
      "overflow_x": null,
      "overflow_y": null,
      "padding": null,
      "right": null,
      "top": null,
      "visibility": null,
      "width": null
     }
    },
    "26170b08603a4f27834271abf9c7a782": {
     "model_module": "@jupyter-widgets/base",
     "model_name": "LayoutModel",
     "state": {
      "_model_module": "@jupyter-widgets/base",
      "_model_module_version": "1.2.0",
      "_model_name": "LayoutModel",
      "_view_count": null,
      "_view_module": "@jupyter-widgets/base",
      "_view_module_version": "1.2.0",
      "_view_name": "LayoutView",
      "align_content": null,
      "align_items": null,
      "align_self": null,
      "border": null,
      "bottom": null,
      "display": null,
      "flex": null,
      "flex_flow": null,
      "grid_area": null,
      "grid_auto_columns": null,
      "grid_auto_flow": null,
      "grid_auto_rows": null,
      "grid_column": null,
      "grid_gap": null,
      "grid_row": null,
      "grid_template_areas": null,
      "grid_template_columns": null,
      "grid_template_rows": null,
      "height": null,
      "justify_content": null,
      "justify_items": null,
      "left": null,
      "margin": null,
      "max_height": null,
      "max_width": null,
      "min_height": null,
      "min_width": null,
      "object_fit": null,
      "object_position": null,
      "order": null,
      "overflow": null,
      "overflow_x": null,
      "overflow_y": null,
      "padding": null,
      "right": null,
      "top": null,
      "visibility": null,
      "width": null
     }
    },
    "2832395f846941f59ef1b48b750dfa2d": {
     "model_module": "@jupyter-widgets/base",
     "model_name": "LayoutModel",
     "state": {
      "_model_module": "@jupyter-widgets/base",
      "_model_module_version": "1.2.0",
      "_model_name": "LayoutModel",
      "_view_count": null,
      "_view_module": "@jupyter-widgets/base",
      "_view_module_version": "1.2.0",
      "_view_name": "LayoutView",
      "align_content": null,
      "align_items": null,
      "align_self": null,
      "border": null,
      "bottom": null,
      "display": null,
      "flex": null,
      "flex_flow": null,
      "grid_area": null,
      "grid_auto_columns": null,
      "grid_auto_flow": null,
      "grid_auto_rows": null,
      "grid_column": null,
      "grid_gap": null,
      "grid_row": null,
      "grid_template_areas": null,
      "grid_template_columns": null,
      "grid_template_rows": null,
      "height": null,
      "justify_content": null,
      "justify_items": null,
      "left": null,
      "margin": null,
      "max_height": null,
      "max_width": null,
      "min_height": null,
      "min_width": null,
      "object_fit": null,
      "object_position": null,
      "order": null,
      "overflow": null,
      "overflow_x": null,
      "overflow_y": null,
      "padding": null,
      "right": null,
      "top": null,
      "visibility": null,
      "width": null
     }
    },
    "2d26944debab47cb8084e2e606dbee1c": {
     "model_module": "@jupyter-widgets/controls",
     "model_name": "ProgressStyleModel",
     "state": {
      "_model_module": "@jupyter-widgets/controls",
      "_model_module_version": "1.5.0",
      "_model_name": "ProgressStyleModel",
      "_view_count": null,
      "_view_module": "@jupyter-widgets/base",
      "_view_module_version": "1.2.0",
      "_view_name": "StyleView",
      "bar_color": null,
      "description_width": "initial"
     }
    },
    "2df9d7e18f2d42838336b7ea1ba64f86": {
     "model_module": "@jupyter-widgets/controls",
     "model_name": "ProgressStyleModel",
     "state": {
      "_model_module": "@jupyter-widgets/controls",
      "_model_module_version": "1.5.0",
      "_model_name": "ProgressStyleModel",
      "_view_count": null,
      "_view_module": "@jupyter-widgets/base",
      "_view_module_version": "1.2.0",
      "_view_name": "StyleView",
      "bar_color": null,
      "description_width": "initial"
     }
    },
    "30edcc002cc64385aa28e08e48343413": {
     "model_module": "@jupyter-widgets/base",
     "model_name": "LayoutModel",
     "state": {
      "_model_module": "@jupyter-widgets/base",
      "_model_module_version": "1.2.0",
      "_model_name": "LayoutModel",
      "_view_count": null,
      "_view_module": "@jupyter-widgets/base",
      "_view_module_version": "1.2.0",
      "_view_name": "LayoutView",
      "align_content": null,
      "align_items": null,
      "align_self": null,
      "border": null,
      "bottom": null,
      "display": null,
      "flex": null,
      "flex_flow": null,
      "grid_area": null,
      "grid_auto_columns": null,
      "grid_auto_flow": null,
      "grid_auto_rows": null,
      "grid_column": null,
      "grid_gap": null,
      "grid_row": null,
      "grid_template_areas": null,
      "grid_template_columns": null,
      "grid_template_rows": null,
      "height": null,
      "justify_content": null,
      "justify_items": null,
      "left": null,
      "margin": null,
      "max_height": null,
      "max_width": null,
      "min_height": null,
      "min_width": null,
      "object_fit": null,
      "object_position": null,
      "order": null,
      "overflow": null,
      "overflow_x": null,
      "overflow_y": null,
      "padding": null,
      "right": null,
      "top": null,
      "visibility": null,
      "width": null
     }
    },
    "334c45598ce54545a3824d3f92fbe1ae": {
     "model_module": "@jupyter-widgets/base",
     "model_name": "LayoutModel",
     "state": {
      "_model_module": "@jupyter-widgets/base",
      "_model_module_version": "1.2.0",
      "_model_name": "LayoutModel",
      "_view_count": null,
      "_view_module": "@jupyter-widgets/base",
      "_view_module_version": "1.2.0",
      "_view_name": "LayoutView",
      "align_content": null,
      "align_items": null,
      "align_self": null,
      "border": null,
      "bottom": null,
      "display": null,
      "flex": null,
      "flex_flow": null,
      "grid_area": null,
      "grid_auto_columns": null,
      "grid_auto_flow": null,
      "grid_auto_rows": null,
      "grid_column": null,
      "grid_gap": null,
      "grid_row": null,
      "grid_template_areas": null,
      "grid_template_columns": null,
      "grid_template_rows": null,
      "height": null,
      "justify_content": null,
      "justify_items": null,
      "left": null,
      "margin": null,
      "max_height": null,
      "max_width": null,
      "min_height": null,
      "min_width": null,
      "object_fit": null,
      "object_position": null,
      "order": null,
      "overflow": null,
      "overflow_x": null,
      "overflow_y": null,
      "padding": null,
      "right": null,
      "top": null,
      "visibility": null,
      "width": null
     }
    },
    "34bf6ef87cbe4d1eb6940a871db41c96": {
     "model_module": "@jupyter-widgets/controls",
     "model_name": "DescriptionStyleModel",
     "state": {
      "_model_module": "@jupyter-widgets/controls",
      "_model_module_version": "1.5.0",
      "_model_name": "DescriptionStyleModel",
      "_view_count": null,
      "_view_module": "@jupyter-widgets/base",
      "_view_module_version": "1.2.0",
      "_view_name": "StyleView",
      "description_width": ""
     }
    },
    "34ea845904c64fe1bd1dd1baa54f249e": {
     "model_module": "@jupyter-widgets/base",
     "model_name": "LayoutModel",
     "state": {
      "_model_module": "@jupyter-widgets/base",
      "_model_module_version": "1.2.0",
      "_model_name": "LayoutModel",
      "_view_count": null,
      "_view_module": "@jupyter-widgets/base",
      "_view_module_version": "1.2.0",
      "_view_name": "LayoutView",
      "align_content": null,
      "align_items": null,
      "align_self": null,
      "border": null,
      "bottom": null,
      "display": null,
      "flex": null,
      "flex_flow": null,
      "grid_area": null,
      "grid_auto_columns": null,
      "grid_auto_flow": null,
      "grid_auto_rows": null,
      "grid_column": null,
      "grid_gap": null,
      "grid_row": null,
      "grid_template_areas": null,
      "grid_template_columns": null,
      "grid_template_rows": null,
      "height": null,
      "justify_content": null,
      "justify_items": null,
      "left": null,
      "margin": null,
      "max_height": null,
      "max_width": null,
      "min_height": null,
      "min_width": null,
      "object_fit": null,
      "object_position": null,
      "order": null,
      "overflow": null,
      "overflow_x": null,
      "overflow_y": null,
      "padding": null,
      "right": null,
      "top": null,
      "visibility": null,
      "width": null
     }
    },
    "365e4cf1e00a443bb0eccb47ae834090": {
     "model_module": "@jupyter-widgets/base",
     "model_name": "LayoutModel",
     "state": {
      "_model_module": "@jupyter-widgets/base",
      "_model_module_version": "1.2.0",
      "_model_name": "LayoutModel",
      "_view_count": null,
      "_view_module": "@jupyter-widgets/base",
      "_view_module_version": "1.2.0",
      "_view_name": "LayoutView",
      "align_content": null,
      "align_items": null,
      "align_self": null,
      "border": null,
      "bottom": null,
      "display": null,
      "flex": null,
      "flex_flow": null,
      "grid_area": null,
      "grid_auto_columns": null,
      "grid_auto_flow": null,
      "grid_auto_rows": null,
      "grid_column": null,
      "grid_gap": null,
      "grid_row": null,
      "grid_template_areas": null,
      "grid_template_columns": null,
      "grid_template_rows": null,
      "height": null,
      "justify_content": null,
      "justify_items": null,
      "left": null,
      "margin": null,
      "max_height": null,
      "max_width": null,
      "min_height": null,
      "min_width": null,
      "object_fit": null,
      "object_position": null,
      "order": null,
      "overflow": null,
      "overflow_x": null,
      "overflow_y": null,
      "padding": null,
      "right": null,
      "top": null,
      "visibility": null,
      "width": null
     }
    },
    "36b7bcbaa54340e182e9ce9df744e4c0": {
     "model_module": "@jupyter-widgets/controls",
     "model_name": "FloatProgressModel",
     "state": {
      "_dom_classes": [],
      "_model_module": "@jupyter-widgets/controls",
      "_model_module_version": "1.5.0",
      "_model_name": "FloatProgressModel",
      "_view_count": null,
      "_view_module": "@jupyter-widgets/controls",
      "_view_module_version": "1.5.0",
      "_view_name": "ProgressView",
      "bar_style": "success",
      "description": "100%",
      "description_tooltip": null,
      "layout": "IPY_MODEL_a5287a72550b4bb593d2cfc9db92f3b7",
      "max": 10,
      "min": 0,
      "orientation": "horizontal",
      "style": "IPY_MODEL_2df9d7e18f2d42838336b7ea1ba64f86",
      "value": 10
     }
    },
    "382b69ab37c749b98b2ec662919a6930": {
     "model_module": "@jupyter-widgets/controls",
     "model_name": "FloatProgressModel",
     "state": {
      "_dom_classes": [],
      "_model_module": "@jupyter-widgets/controls",
      "_model_module_version": "1.5.0",
      "_model_name": "FloatProgressModel",
      "_view_count": null,
      "_view_module": "@jupyter-widgets/controls",
      "_view_module_version": "1.5.0",
      "_view_name": "ProgressView",
      "bar_style": "success",
      "description": "100%",
      "description_tooltip": null,
      "layout": "IPY_MODEL_49b5c9c3f9b348a9b1f829122f6535a1",
      "max": 1230,
      "min": 0,
      "orientation": "horizontal",
      "style": "IPY_MODEL_c16e831cb19d4dfc925f1027d2084c31",
      "value": 1230
     }
    },
    "38a2d39a987147e9b9186d37f4685d4e": {
     "model_module": "@jupyter-widgets/controls",
     "model_name": "DescriptionStyleModel",
     "state": {
      "_model_module": "@jupyter-widgets/controls",
      "_model_module_version": "1.5.0",
      "_model_name": "DescriptionStyleModel",
      "_view_count": null,
      "_view_module": "@jupyter-widgets/base",
      "_view_module_version": "1.2.0",
      "_view_name": "StyleView",
      "description_width": ""
     }
    },
    "3b7e784e442d456f99e6dfda21467974": {
     "model_module": "@jupyter-widgets/base",
     "model_name": "LayoutModel",
     "state": {
      "_model_module": "@jupyter-widgets/base",
      "_model_module_version": "1.2.0",
      "_model_name": "LayoutModel",
      "_view_count": null,
      "_view_module": "@jupyter-widgets/base",
      "_view_module_version": "1.2.0",
      "_view_name": "LayoutView",
      "align_content": null,
      "align_items": null,
      "align_self": null,
      "border": null,
      "bottom": null,
      "display": null,
      "flex": null,
      "flex_flow": null,
      "grid_area": null,
      "grid_auto_columns": null,
      "grid_auto_flow": null,
      "grid_auto_rows": null,
      "grid_column": null,
      "grid_gap": null,
      "grid_row": null,
      "grid_template_areas": null,
      "grid_template_columns": null,
      "grid_template_rows": null,
      "height": null,
      "justify_content": null,
      "justify_items": null,
      "left": null,
      "margin": null,
      "max_height": null,
      "max_width": null,
      "min_height": null,
      "min_width": null,
      "object_fit": null,
      "object_position": null,
      "order": null,
      "overflow": null,
      "overflow_x": null,
      "overflow_y": null,
      "padding": null,
      "right": null,
      "top": null,
      "visibility": null,
      "width": null
     }
    },
    "3d762013f7b448fdba8b903ea4578956": {
     "model_module": "@jupyter-widgets/base",
     "model_name": "LayoutModel",
     "state": {
      "_model_module": "@jupyter-widgets/base",
      "_model_module_version": "1.2.0",
      "_model_name": "LayoutModel",
      "_view_count": null,
      "_view_module": "@jupyter-widgets/base",
      "_view_module_version": "1.2.0",
      "_view_name": "LayoutView",
      "align_content": null,
      "align_items": null,
      "align_self": null,
      "border": null,
      "bottom": null,
      "display": null,
      "flex": null,
      "flex_flow": null,
      "grid_area": null,
      "grid_auto_columns": null,
      "grid_auto_flow": null,
      "grid_auto_rows": null,
      "grid_column": null,
      "grid_gap": null,
      "grid_row": null,
      "grid_template_areas": null,
      "grid_template_columns": null,
      "grid_template_rows": null,
      "height": null,
      "justify_content": null,
      "justify_items": null,
      "left": null,
      "margin": null,
      "max_height": null,
      "max_width": null,
      "min_height": null,
      "min_width": null,
      "object_fit": null,
      "object_position": null,
      "order": null,
      "overflow": null,
      "overflow_x": null,
      "overflow_y": null,
      "padding": null,
      "right": null,
      "top": null,
      "visibility": null,
      "width": null
     }
    },
    "404165998c8e4d6fb92df1fe67b4486f": {
     "model_module": "@jupyter-widgets/controls",
     "model_name": "HBoxModel",
     "state": {
      "_dom_classes": [],
      "_model_module": "@jupyter-widgets/controls",
      "_model_module_version": "1.5.0",
      "_model_name": "HBoxModel",
      "_view_count": null,
      "_view_module": "@jupyter-widgets/controls",
      "_view_module_version": "1.5.0",
      "_view_name": "HBoxView",
      "box_style": "",
      "children": [
       "IPY_MODEL_5df194ffd6d64d05adc309c5ac05ce19",
       "IPY_MODEL_b69aa499dfe44844a92717e402bda9b9"
      ],
      "layout": "IPY_MODEL_a4dca41007d74f5c87012da3a92e7719"
     }
    },
    "460a4dbb0d0546d98ea4efa69c1df215": {
     "model_module": "@jupyter-widgets/controls",
     "model_name": "DescriptionStyleModel",
     "state": {
      "_model_module": "@jupyter-widgets/controls",
      "_model_module_version": "1.5.0",
      "_model_name": "DescriptionStyleModel",
      "_view_count": null,
      "_view_module": "@jupyter-widgets/base",
      "_view_module_version": "1.2.0",
      "_view_name": "StyleView",
      "description_width": ""
     }
    },
    "47cbc11400e04ead9427095f820c39f8": {
     "model_module": "@jupyter-widgets/controls",
     "model_name": "DescriptionStyleModel",
     "state": {
      "_model_module": "@jupyter-widgets/controls",
      "_model_module_version": "1.5.0",
      "_model_name": "DescriptionStyleModel",
      "_view_count": null,
      "_view_module": "@jupyter-widgets/base",
      "_view_module_version": "1.2.0",
      "_view_name": "StyleView",
      "description_width": ""
     }
    },
    "49b5c9c3f9b348a9b1f829122f6535a1": {
     "model_module": "@jupyter-widgets/base",
     "model_name": "LayoutModel",
     "state": {
      "_model_module": "@jupyter-widgets/base",
      "_model_module_version": "1.2.0",
      "_model_name": "LayoutModel",
      "_view_count": null,
      "_view_module": "@jupyter-widgets/base",
      "_view_module_version": "1.2.0",
      "_view_name": "LayoutView",
      "align_content": null,
      "align_items": null,
      "align_self": null,
      "border": null,
      "bottom": null,
      "display": null,
      "flex": null,
      "flex_flow": null,
      "grid_area": null,
      "grid_auto_columns": null,
      "grid_auto_flow": null,
      "grid_auto_rows": null,
      "grid_column": null,
      "grid_gap": null,
      "grid_row": null,
      "grid_template_areas": null,
      "grid_template_columns": null,
      "grid_template_rows": null,
      "height": null,
      "justify_content": null,
      "justify_items": null,
      "left": null,
      "margin": null,
      "max_height": null,
      "max_width": null,
      "min_height": null,
      "min_width": null,
      "object_fit": null,
      "object_position": null,
      "order": null,
      "overflow": null,
      "overflow_x": null,
      "overflow_y": null,
      "padding": null,
      "right": null,
      "top": null,
      "visibility": null,
      "width": null
     }
    },
    "4fec38f617814ee08d80e5ebc71375e9": {
     "model_module": "@jupyter-widgets/controls",
     "model_name": "DescriptionStyleModel",
     "state": {
      "_model_module": "@jupyter-widgets/controls",
      "_model_module_version": "1.5.0",
      "_model_name": "DescriptionStyleModel",
      "_view_count": null,
      "_view_module": "@jupyter-widgets/base",
      "_view_module_version": "1.2.0",
      "_view_name": "StyleView",
      "description_width": ""
     }
    },
    "53177719f32343ceb6422357a27e104b": {
     "model_module": "@jupyter-widgets/controls",
     "model_name": "HBoxModel",
     "state": {
      "_dom_classes": [],
      "_model_module": "@jupyter-widgets/controls",
      "_model_module_version": "1.5.0",
      "_model_name": "HBoxModel",
      "_view_count": null,
      "_view_module": "@jupyter-widgets/controls",
      "_view_module_version": "1.5.0",
      "_view_name": "HBoxView",
      "box_style": "",
      "children": [
       "IPY_MODEL_c3fff35b526e437eb6d9b875b45a51e7",
       "IPY_MODEL_e99cf2aba2ac475985d66cdf23263f95"
      ],
      "layout": "IPY_MODEL_34ea845904c64fe1bd1dd1baa54f249e"
     }
    },
    "56b68a6f066b402cbddeede50ad516cd": {
     "model_module": "@jupyter-widgets/controls",
     "model_name": "ProgressStyleModel",
     "state": {
      "_model_module": "@jupyter-widgets/controls",
      "_model_module_version": "1.5.0",
      "_model_name": "ProgressStyleModel",
      "_view_count": null,
      "_view_module": "@jupyter-widgets/base",
      "_view_module_version": "1.2.0",
      "_view_name": "StyleView",
      "bar_color": null,
      "description_width": "initial"
     }
    },
    "589a9d3f73de457cbe27440e8bd5965a": {
     "model_module": "@jupyter-widgets/controls",
     "model_name": "ProgressStyleModel",
     "state": {
      "_model_module": "@jupyter-widgets/controls",
      "_model_module_version": "1.5.0",
      "_model_name": "ProgressStyleModel",
      "_view_count": null,
      "_view_module": "@jupyter-widgets/base",
      "_view_module_version": "1.2.0",
      "_view_name": "StyleView",
      "bar_color": null,
      "description_width": "initial"
     }
    },
    "5cbe86645f934183a28da352097760fa": {
     "model_module": "@jupyter-widgets/controls",
     "model_name": "DescriptionStyleModel",
     "state": {
      "_model_module": "@jupyter-widgets/controls",
      "_model_module_version": "1.5.0",
      "_model_name": "DescriptionStyleModel",
      "_view_count": null,
      "_view_module": "@jupyter-widgets/base",
      "_view_module_version": "1.2.0",
      "_view_name": "StyleView",
      "description_width": ""
     }
    },
    "5df194ffd6d64d05adc309c5ac05ce19": {
     "model_module": "@jupyter-widgets/controls",
     "model_name": "FloatProgressModel",
     "state": {
      "_dom_classes": [],
      "_model_module": "@jupyter-widgets/controls",
      "_model_module_version": "1.5.0",
      "_model_name": "FloatProgressModel",
      "_view_count": null,
      "_view_module": "@jupyter-widgets/controls",
      "_view_module_version": "1.5.0",
      "_view_name": "ProgressView",
      "bar_style": "success",
      "description": "100%",
      "description_tooltip": null,
      "layout": "IPY_MODEL_8d6cbba3c28c40f18ee999a38b7e1e70",
      "max": 1230,
      "min": 0,
      "orientation": "horizontal",
      "style": "IPY_MODEL_ac5824e3241244cc9aed4147c55b124b",
      "value": 1230
     }
    },
    "5ed16a6341cb4c53a4a9497a31fd26ee": {
     "model_module": "@jupyter-widgets/controls",
     "model_name": "ProgressStyleModel",
     "state": {
      "_model_module": "@jupyter-widgets/controls",
      "_model_module_version": "1.5.0",
      "_model_name": "ProgressStyleModel",
      "_view_count": null,
      "_view_module": "@jupyter-widgets/base",
      "_view_module_version": "1.2.0",
      "_view_name": "StyleView",
      "bar_color": null,
      "description_width": "initial"
     }
    },
    "609f27e0ad4f4556b6ff9a6f66610632": {
     "model_module": "@jupyter-widgets/base",
     "model_name": "LayoutModel",
     "state": {
      "_model_module": "@jupyter-widgets/base",
      "_model_module_version": "1.2.0",
      "_model_name": "LayoutModel",
      "_view_count": null,
      "_view_module": "@jupyter-widgets/base",
      "_view_module_version": "1.2.0",
      "_view_name": "LayoutView",
      "align_content": null,
      "align_items": null,
      "align_self": null,
      "border": null,
      "bottom": null,
      "display": null,
      "flex": null,
      "flex_flow": null,
      "grid_area": null,
      "grid_auto_columns": null,
      "grid_auto_flow": null,
      "grid_auto_rows": null,
      "grid_column": null,
      "grid_gap": null,
      "grid_row": null,
      "grid_template_areas": null,
      "grid_template_columns": null,
      "grid_template_rows": null,
      "height": null,
      "justify_content": null,
      "justify_items": null,
      "left": null,
      "margin": null,
      "max_height": null,
      "max_width": null,
      "min_height": null,
      "min_width": null,
      "object_fit": null,
      "object_position": null,
      "order": null,
      "overflow": null,
      "overflow_x": null,
      "overflow_y": null,
      "padding": null,
      "right": null,
      "top": null,
      "visibility": null,
      "width": null
     }
    },
    "714e7865afab4e0295b59b653c5b4962": {
     "model_module": "@jupyter-widgets/controls",
     "model_name": "HBoxModel",
     "state": {
      "_dom_classes": [],
      "_model_module": "@jupyter-widgets/controls",
      "_model_module_version": "1.5.0",
      "_model_name": "HBoxModel",
      "_view_count": null,
      "_view_module": "@jupyter-widgets/controls",
      "_view_module_version": "1.5.0",
      "_view_name": "HBoxView",
      "box_style": "",
      "children": [
       "IPY_MODEL_79d6dd6b83e146b0b4a02e1b78cd386e",
       "IPY_MODEL_77abd374ed524f2db2275b341eeae05b"
      ],
      "layout": "IPY_MODEL_365e4cf1e00a443bb0eccb47ae834090"
     }
    },
    "7295029e8de34288ba3801e5800a2ac6": {
     "model_module": "@jupyter-widgets/controls",
     "model_name": "HBoxModel",
     "state": {
      "_dom_classes": [],
      "_model_module": "@jupyter-widgets/controls",
      "_model_module_version": "1.5.0",
      "_model_name": "HBoxModel",
      "_view_count": null,
      "_view_module": "@jupyter-widgets/controls",
      "_view_module_version": "1.5.0",
      "_view_name": "HBoxView",
      "box_style": "",
      "children": [
       "IPY_MODEL_f8fc949483e2446f9a3771498b8407a1",
       "IPY_MODEL_c7b766e9078648d08a17ed604bb48242"
      ],
      "layout": "IPY_MODEL_3b7e784e442d456f99e6dfda21467974"
     }
    },
    "752c290b9d7b43d6a2013d1b6e44e8ad": {
     "model_module": "@jupyter-widgets/base",
     "model_name": "LayoutModel",
     "state": {
      "_model_module": "@jupyter-widgets/base",
      "_model_module_version": "1.2.0",
      "_model_name": "LayoutModel",
      "_view_count": null,
      "_view_module": "@jupyter-widgets/base",
      "_view_module_version": "1.2.0",
      "_view_name": "LayoutView",
      "align_content": null,
      "align_items": null,
      "align_self": null,
      "border": null,
      "bottom": null,
      "display": null,
      "flex": null,
      "flex_flow": null,
      "grid_area": null,
      "grid_auto_columns": null,
      "grid_auto_flow": null,
      "grid_auto_rows": null,
      "grid_column": null,
      "grid_gap": null,
      "grid_row": null,
      "grid_template_areas": null,
      "grid_template_columns": null,
      "grid_template_rows": null,
      "height": null,
      "justify_content": null,
      "justify_items": null,
      "left": null,
      "margin": null,
      "max_height": null,
      "max_width": null,
      "min_height": null,
      "min_width": null,
      "object_fit": null,
      "object_position": null,
      "order": null,
      "overflow": null,
      "overflow_x": null,
      "overflow_y": null,
      "padding": null,
      "right": null,
      "top": null,
      "visibility": null,
      "width": null
     }
    },
    "77abd374ed524f2db2275b341eeae05b": {
     "model_module": "@jupyter-widgets/controls",
     "model_name": "HTMLModel",
     "state": {
      "_dom_classes": [],
      "_model_module": "@jupyter-widgets/controls",
      "_model_module_version": "1.5.0",
      "_model_name": "HTMLModel",
      "_view_count": null,
      "_view_module": "@jupyter-widgets/controls",
      "_view_module_version": "1.5.0",
      "_view_name": "HTMLView",
      "description": "",
      "description_tooltip": null,
      "layout": "IPY_MODEL_0834f80cd63843b7a8b6b915d8d36247",
      "placeholder": "​",
      "style": "IPY_MODEL_460a4dbb0d0546d98ea4efa69c1df215",
      "value": " 1230/1230 [01:32&lt;00:00, 13.36it/s]"
     }
    },
    "7850b742dcfb42ba823ef2233df90d0c": {
     "model_module": "@jupyter-widgets/controls",
     "model_name": "DescriptionStyleModel",
     "state": {
      "_model_module": "@jupyter-widgets/controls",
      "_model_module_version": "1.5.0",
      "_model_name": "DescriptionStyleModel",
      "_view_count": null,
      "_view_module": "@jupyter-widgets/base",
      "_view_module_version": "1.2.0",
      "_view_name": "StyleView",
      "description_width": ""
     }
    },
    "79d6dd6b83e146b0b4a02e1b78cd386e": {
     "model_module": "@jupyter-widgets/controls",
     "model_name": "FloatProgressModel",
     "state": {
      "_dom_classes": [],
      "_model_module": "@jupyter-widgets/controls",
      "_model_module_version": "1.5.0",
      "_model_name": "FloatProgressModel",
      "_view_count": null,
      "_view_module": "@jupyter-widgets/controls",
      "_view_module_version": "1.5.0",
      "_view_name": "ProgressView",
      "bar_style": "success",
      "description": "100%",
      "description_tooltip": null,
      "layout": "IPY_MODEL_30edcc002cc64385aa28e08e48343413",
      "max": 1230,
      "min": 0,
      "orientation": "horizontal",
      "style": "IPY_MODEL_56b68a6f066b402cbddeede50ad516cd",
      "value": 1230
     }
    },
    "7aa7346e46bd4fb385a91999b56c967d": {
     "model_module": "@jupyter-widgets/base",
     "model_name": "LayoutModel",
     "state": {
      "_model_module": "@jupyter-widgets/base",
      "_model_module_version": "1.2.0",
      "_model_name": "LayoutModel",
      "_view_count": null,
      "_view_module": "@jupyter-widgets/base",
      "_view_module_version": "1.2.0",
      "_view_name": "LayoutView",
      "align_content": null,
      "align_items": null,
      "align_self": null,
      "border": null,
      "bottom": null,
      "display": null,
      "flex": null,
      "flex_flow": null,
      "grid_area": null,
      "grid_auto_columns": null,
      "grid_auto_flow": null,
      "grid_auto_rows": null,
      "grid_column": null,
      "grid_gap": null,
      "grid_row": null,
      "grid_template_areas": null,
      "grid_template_columns": null,
      "grid_template_rows": null,
      "height": null,
      "justify_content": null,
      "justify_items": null,
      "left": null,
      "margin": null,
      "max_height": null,
      "max_width": null,
      "min_height": null,
      "min_width": null,
      "object_fit": null,
      "object_position": null,
      "order": null,
      "overflow": null,
      "overflow_x": null,
      "overflow_y": null,
      "padding": null,
      "right": null,
      "top": null,
      "visibility": null,
      "width": null
     }
    },
    "7c6df110c8ce48118f4b41b0a0be6904": {
     "model_module": "@jupyter-widgets/controls",
     "model_name": "DescriptionStyleModel",
     "state": {
      "_model_module": "@jupyter-widgets/controls",
      "_model_module_version": "1.5.0",
      "_model_name": "DescriptionStyleModel",
      "_view_count": null,
      "_view_module": "@jupyter-widgets/base",
      "_view_module_version": "1.2.0",
      "_view_name": "StyleView",
      "description_width": ""
     }
    },
    "7e0daf3066fd40d48dad5592f8355d50": {
     "model_module": "@jupyter-widgets/base",
     "model_name": "LayoutModel",
     "state": {
      "_model_module": "@jupyter-widgets/base",
      "_model_module_version": "1.2.0",
      "_model_name": "LayoutModel",
      "_view_count": null,
      "_view_module": "@jupyter-widgets/base",
      "_view_module_version": "1.2.0",
      "_view_name": "LayoutView",
      "align_content": null,
      "align_items": null,
      "align_self": null,
      "border": null,
      "bottom": null,
      "display": null,
      "flex": null,
      "flex_flow": null,
      "grid_area": null,
      "grid_auto_columns": null,
      "grid_auto_flow": null,
      "grid_auto_rows": null,
      "grid_column": null,
      "grid_gap": null,
      "grid_row": null,
      "grid_template_areas": null,
      "grid_template_columns": null,
      "grid_template_rows": null,
      "height": null,
      "justify_content": null,
      "justify_items": null,
      "left": null,
      "margin": null,
      "max_height": null,
      "max_width": null,
      "min_height": null,
      "min_width": null,
      "object_fit": null,
      "object_position": null,
      "order": null,
      "overflow": null,
      "overflow_x": null,
      "overflow_y": null,
      "padding": null,
      "right": null,
      "top": null,
      "visibility": null,
      "width": null
     }
    },
    "7f1848c8ec8f4305a2037a7d72382d4b": {
     "model_module": "@jupyter-widgets/controls",
     "model_name": "DescriptionStyleModel",
     "state": {
      "_model_module": "@jupyter-widgets/controls",
      "_model_module_version": "1.5.0",
      "_model_name": "DescriptionStyleModel",
      "_view_count": null,
      "_view_module": "@jupyter-widgets/base",
      "_view_module_version": "1.2.0",
      "_view_name": "StyleView",
      "description_width": ""
     }
    },
    "834f2060d9384a7e9fe4c96d332edf40": {
     "model_module": "@jupyter-widgets/controls",
     "model_name": "HTMLModel",
     "state": {
      "_dom_classes": [],
      "_model_module": "@jupyter-widgets/controls",
      "_model_module_version": "1.5.0",
      "_model_name": "HTMLModel",
      "_view_count": null,
      "_view_module": "@jupyter-widgets/controls",
      "_view_module_version": "1.5.0",
      "_view_name": "HTMLView",
      "description": "",
      "description_tooltip": null,
      "layout": "IPY_MODEL_26170b08603a4f27834271abf9c7a782",
      "placeholder": "​",
      "style": "IPY_MODEL_34bf6ef87cbe4d1eb6940a871db41c96",
      "value": " 1230/1230 [03:29&lt;00:00,  5.87it/s]"
     }
    },
    "837d68461f4c47488c6f35a4b07d1c2e": {
     "model_module": "@jupyter-widgets/controls",
     "model_name": "HTMLModel",
     "state": {
      "_dom_classes": [],
      "_model_module": "@jupyter-widgets/controls",
      "_model_module_version": "1.5.0",
      "_model_name": "HTMLModel",
      "_view_count": null,
      "_view_module": "@jupyter-widgets/controls",
      "_view_module_version": "1.5.0",
      "_view_name": "HTMLView",
      "description": "",
      "description_tooltip": null,
      "layout": "IPY_MODEL_de87c6dc06fb4707b66e0da3cd9a24d4",
      "placeholder": "​",
      "style": "IPY_MODEL_b6e634366db849f9be4717cbfd893fad",
      "value": " 1230/1230 [00:30&lt;00:00, 40.32it/s]"
     }
    },
    "87fc61ed452a45f18bfc3ba7633f7f53": {
     "model_module": "@jupyter-widgets/base",
     "model_name": "LayoutModel",
     "state": {
      "_model_module": "@jupyter-widgets/base",
      "_model_module_version": "1.2.0",
      "_model_name": "LayoutModel",
      "_view_count": null,
      "_view_module": "@jupyter-widgets/base",
      "_view_module_version": "1.2.0",
      "_view_name": "LayoutView",
      "align_content": null,
      "align_items": null,
      "align_self": null,
      "border": null,
      "bottom": null,
      "display": null,
      "flex": null,
      "flex_flow": null,
      "grid_area": null,
      "grid_auto_columns": null,
      "grid_auto_flow": null,
      "grid_auto_rows": null,
      "grid_column": null,
      "grid_gap": null,
      "grid_row": null,
      "grid_template_areas": null,
      "grid_template_columns": null,
      "grid_template_rows": null,
      "height": null,
      "justify_content": null,
      "justify_items": null,
      "left": null,
      "margin": null,
      "max_height": null,
      "max_width": null,
      "min_height": null,
      "min_width": null,
      "object_fit": null,
      "object_position": null,
      "order": null,
      "overflow": null,
      "overflow_x": null,
      "overflow_y": null,
      "padding": null,
      "right": null,
      "top": null,
      "visibility": null,
      "width": null
     }
    },
    "88af1ac91bbb4e97a6b702965f1de0d3": {
     "model_module": "@jupyter-widgets/controls",
     "model_name": "FloatProgressModel",
     "state": {
      "_dom_classes": [],
      "_model_module": "@jupyter-widgets/controls",
      "_model_module_version": "1.5.0",
      "_model_name": "FloatProgressModel",
      "_view_count": null,
      "_view_module": "@jupyter-widgets/controls",
      "_view_module_version": "1.5.0",
      "_view_name": "ProgressView",
      "bar_style": "success",
      "description": "100%",
      "description_tooltip": null,
      "layout": "IPY_MODEL_d7de9e0779bb4fd7985466e1672ea2bd",
      "max": 1230,
      "min": 0,
      "orientation": "horizontal",
      "style": "IPY_MODEL_bdad7c7195bb467db14b64f66179f910",
      "value": 1230
     }
    },
    "8c2f6555119d461793d06353b241f009": {
     "model_module": "@jupyter-widgets/controls",
     "model_name": "FloatProgressModel",
     "state": {
      "_dom_classes": [],
      "_model_module": "@jupyter-widgets/controls",
      "_model_module_version": "1.5.0",
      "_model_name": "FloatProgressModel",
      "_view_count": null,
      "_view_module": "@jupyter-widgets/controls",
      "_view_module_version": "1.5.0",
      "_view_name": "ProgressView",
      "bar_style": "success",
      "description": "100%",
      "description_tooltip": null,
      "layout": "IPY_MODEL_752c290b9d7b43d6a2013d1b6e44e8ad",
      "max": 1230,
      "min": 0,
      "orientation": "horizontal",
      "style": "IPY_MODEL_5ed16a6341cb4c53a4a9497a31fd26ee",
      "value": 1230
     }
    },
    "8d6cbba3c28c40f18ee999a38b7e1e70": {
     "model_module": "@jupyter-widgets/base",
     "model_name": "LayoutModel",
     "state": {
      "_model_module": "@jupyter-widgets/base",
      "_model_module_version": "1.2.0",
      "_model_name": "LayoutModel",
      "_view_count": null,
      "_view_module": "@jupyter-widgets/base",
      "_view_module_version": "1.2.0",
      "_view_name": "LayoutView",
      "align_content": null,
      "align_items": null,
      "align_self": null,
      "border": null,
      "bottom": null,
      "display": null,
      "flex": null,
      "flex_flow": null,
      "grid_area": null,
      "grid_auto_columns": null,
      "grid_auto_flow": null,
      "grid_auto_rows": null,
      "grid_column": null,
      "grid_gap": null,
      "grid_row": null,
      "grid_template_areas": null,
      "grid_template_columns": null,
      "grid_template_rows": null,
      "height": null,
      "justify_content": null,
      "justify_items": null,
      "left": null,
      "margin": null,
      "max_height": null,
      "max_width": null,
      "min_height": null,
      "min_width": null,
      "object_fit": null,
      "object_position": null,
      "order": null,
      "overflow": null,
      "overflow_x": null,
      "overflow_y": null,
      "padding": null,
      "right": null,
      "top": null,
      "visibility": null,
      "width": null
     }
    },
    "93b7f839d6ec4c02a5cb3115e47aae4b": {
     "model_module": "@jupyter-widgets/controls",
     "model_name": "HBoxModel",
     "state": {
      "_dom_classes": [],
      "_model_module": "@jupyter-widgets/controls",
      "_model_module_version": "1.5.0",
      "_model_name": "HBoxModel",
      "_view_count": null,
      "_view_module": "@jupyter-widgets/controls",
      "_view_module_version": "1.5.0",
      "_view_name": "HBoxView",
      "box_style": "",
      "children": [
       "IPY_MODEL_f2ccfa7556df47158ffde791c862a244",
       "IPY_MODEL_b70e76d1899b43e0be5170283b700c44"
      ],
      "layout": "IPY_MODEL_cdee09db36d04d5daa57ebf45b86c2b5"
     }
    },
    "952040e49a8f444b89234ff273e41b9b": {
     "model_module": "@jupyter-widgets/controls",
     "model_name": "ProgressStyleModel",
     "state": {
      "_model_module": "@jupyter-widgets/controls",
      "_model_module_version": "1.5.0",
      "_model_name": "ProgressStyleModel",
      "_view_count": null,
      "_view_module": "@jupyter-widgets/base",
      "_view_module_version": "1.2.0",
      "_view_name": "StyleView",
      "bar_color": null,
      "description_width": "initial"
     }
    },
    "976a8802527f453997815f61fb6e9971": {
     "model_module": "@jupyter-widgets/controls",
     "model_name": "ProgressStyleModel",
     "state": {
      "_model_module": "@jupyter-widgets/controls",
      "_model_module_version": "1.5.0",
      "_model_name": "ProgressStyleModel",
      "_view_count": null,
      "_view_module": "@jupyter-widgets/base",
      "_view_module_version": "1.2.0",
      "_view_name": "StyleView",
      "bar_color": null,
      "description_width": "initial"
     }
    },
    "98e7884813124fe884012c3b73898d33": {
     "model_module": "@jupyter-widgets/controls",
     "model_name": "HBoxModel",
     "state": {
      "_dom_classes": [],
      "_model_module": "@jupyter-widgets/controls",
      "_model_module_version": "1.5.0",
      "_model_name": "HBoxModel",
      "_view_count": null,
      "_view_module": "@jupyter-widgets/controls",
      "_view_module_version": "1.5.0",
      "_view_name": "HBoxView",
      "box_style": "",
      "children": [
       "IPY_MODEL_36b7bcbaa54340e182e9ce9df744e4c0",
       "IPY_MODEL_d2aa4705f233452fa6df2a4340d7f67c"
      ],
      "layout": "IPY_MODEL_e13c318c3a3e4f799f0d77b3c7dddf03"
     }
    },
    "a4a872b5f4a04a7491f48cb32b6f33af": {
     "model_module": "@jupyter-widgets/controls",
     "model_name": "FloatProgressModel",
     "state": {
      "_dom_classes": [],
      "_model_module": "@jupyter-widgets/controls",
      "_model_module_version": "1.5.0",
      "_model_name": "FloatProgressModel",
      "_view_count": null,
      "_view_module": "@jupyter-widgets/controls",
      "_view_module_version": "1.5.0",
      "_view_name": "ProgressView",
      "bar_style": "success",
      "description": "100%",
      "description_tooltip": null,
      "layout": "IPY_MODEL_609f27e0ad4f4556b6ff9a6f66610632",
      "max": 1230,
      "min": 0,
      "orientation": "horizontal",
      "style": "IPY_MODEL_589a9d3f73de457cbe27440e8bd5965a",
      "value": 1230
     }
    },
    "a4dca41007d74f5c87012da3a92e7719": {
     "model_module": "@jupyter-widgets/base",
     "model_name": "LayoutModel",
     "state": {
      "_model_module": "@jupyter-widgets/base",
      "_model_module_version": "1.2.0",
      "_model_name": "LayoutModel",
      "_view_count": null,
      "_view_module": "@jupyter-widgets/base",
      "_view_module_version": "1.2.0",
      "_view_name": "LayoutView",
      "align_content": null,
      "align_items": null,
      "align_self": null,
      "border": null,
      "bottom": null,
      "display": null,
      "flex": null,
      "flex_flow": null,
      "grid_area": null,
      "grid_auto_columns": null,
      "grid_auto_flow": null,
      "grid_auto_rows": null,
      "grid_column": null,
      "grid_gap": null,
      "grid_row": null,
      "grid_template_areas": null,
      "grid_template_columns": null,
      "grid_template_rows": null,
      "height": null,
      "justify_content": null,
      "justify_items": null,
      "left": null,
      "margin": null,
      "max_height": null,
      "max_width": null,
      "min_height": null,
      "min_width": null,
      "object_fit": null,
      "object_position": null,
      "order": null,
      "overflow": null,
      "overflow_x": null,
      "overflow_y": null,
      "padding": null,
      "right": null,
      "top": null,
      "visibility": null,
      "width": null
     }
    },
    "a5287a72550b4bb593d2cfc9db92f3b7": {
     "model_module": "@jupyter-widgets/base",
     "model_name": "LayoutModel",
     "state": {
      "_model_module": "@jupyter-widgets/base",
      "_model_module_version": "1.2.0",
      "_model_name": "LayoutModel",
      "_view_count": null,
      "_view_module": "@jupyter-widgets/base",
      "_view_module_version": "1.2.0",
      "_view_name": "LayoutView",
      "align_content": null,
      "align_items": null,
      "align_self": null,
      "border": null,
      "bottom": null,
      "display": null,
      "flex": null,
      "flex_flow": null,
      "grid_area": null,
      "grid_auto_columns": null,
      "grid_auto_flow": null,
      "grid_auto_rows": null,
      "grid_column": null,
      "grid_gap": null,
      "grid_row": null,
      "grid_template_areas": null,
      "grid_template_columns": null,
      "grid_template_rows": null,
      "height": null,
      "justify_content": null,
      "justify_items": null,
      "left": null,
      "margin": null,
      "max_height": null,
      "max_width": null,
      "min_height": null,
      "min_width": null,
      "object_fit": null,
      "object_position": null,
      "order": null,
      "overflow": null,
      "overflow_x": null,
      "overflow_y": null,
      "padding": null,
      "right": null,
      "top": null,
      "visibility": null,
      "width": null
     }
    },
    "ac5824e3241244cc9aed4147c55b124b": {
     "model_module": "@jupyter-widgets/controls",
     "model_name": "ProgressStyleModel",
     "state": {
      "_model_module": "@jupyter-widgets/controls",
      "_model_module_version": "1.5.0",
      "_model_name": "ProgressStyleModel",
      "_view_count": null,
      "_view_module": "@jupyter-widgets/base",
      "_view_module_version": "1.2.0",
      "_view_name": "StyleView",
      "bar_color": null,
      "description_width": "initial"
     }
    },
    "adc95c71ab6148fdb0ef4165259ce264": {
     "model_module": "@jupyter-widgets/controls",
     "model_name": "ProgressStyleModel",
     "state": {
      "_model_module": "@jupyter-widgets/controls",
      "_model_module_version": "1.5.0",
      "_model_name": "ProgressStyleModel",
      "_view_count": null,
      "_view_module": "@jupyter-widgets/base",
      "_view_module_version": "1.2.0",
      "_view_name": "StyleView",
      "bar_color": null,
      "description_width": "initial"
     }
    },
    "b595565aeef444cbb4441698041c2c95": {
     "model_module": "@jupyter-widgets/base",
     "model_name": "LayoutModel",
     "state": {
      "_model_module": "@jupyter-widgets/base",
      "_model_module_version": "1.2.0",
      "_model_name": "LayoutModel",
      "_view_count": null,
      "_view_module": "@jupyter-widgets/base",
      "_view_module_version": "1.2.0",
      "_view_name": "LayoutView",
      "align_content": null,
      "align_items": null,
      "align_self": null,
      "border": null,
      "bottom": null,
      "display": null,
      "flex": null,
      "flex_flow": null,
      "grid_area": null,
      "grid_auto_columns": null,
      "grid_auto_flow": null,
      "grid_auto_rows": null,
      "grid_column": null,
      "grid_gap": null,
      "grid_row": null,
      "grid_template_areas": null,
      "grid_template_columns": null,
      "grid_template_rows": null,
      "height": null,
      "justify_content": null,
      "justify_items": null,
      "left": null,
      "margin": null,
      "max_height": null,
      "max_width": null,
      "min_height": null,
      "min_width": null,
      "object_fit": null,
      "object_position": null,
      "order": null,
      "overflow": null,
      "overflow_x": null,
      "overflow_y": null,
      "padding": null,
      "right": null,
      "top": null,
      "visibility": null,
      "width": null
     }
    },
    "b69aa499dfe44844a92717e402bda9b9": {
     "model_module": "@jupyter-widgets/controls",
     "model_name": "HTMLModel",
     "state": {
      "_dom_classes": [],
      "_model_module": "@jupyter-widgets/controls",
      "_model_module_version": "1.5.0",
      "_model_name": "HTMLModel",
      "_view_count": null,
      "_view_module": "@jupyter-widgets/controls",
      "_view_module_version": "1.5.0",
      "_view_name": "HTMLView",
      "description": "",
      "description_tooltip": null,
      "layout": "IPY_MODEL_2832395f846941f59ef1b48b750dfa2d",
      "placeholder": "​",
      "style": "IPY_MODEL_7f1848c8ec8f4305a2037a7d72382d4b",
      "value": " 1230/1230 [00:58&lt;00:00, 20.93it/s]"
     }
    },
    "b6e634366db849f9be4717cbfd893fad": {
     "model_module": "@jupyter-widgets/controls",
     "model_name": "DescriptionStyleModel",
     "state": {
      "_model_module": "@jupyter-widgets/controls",
      "_model_module_version": "1.5.0",
      "_model_name": "DescriptionStyleModel",
      "_view_count": null,
      "_view_module": "@jupyter-widgets/base",
      "_view_module_version": "1.2.0",
      "_view_name": "StyleView",
      "description_width": ""
     }
    },
    "b6eb0fc605d04edc948ed8cf7190efaa": {
     "model_module": "@jupyter-widgets/base",
     "model_name": "LayoutModel",
     "state": {
      "_model_module": "@jupyter-widgets/base",
      "_model_module_version": "1.2.0",
      "_model_name": "LayoutModel",
      "_view_count": null,
      "_view_module": "@jupyter-widgets/base",
      "_view_module_version": "1.2.0",
      "_view_name": "LayoutView",
      "align_content": null,
      "align_items": null,
      "align_self": null,
      "border": null,
      "bottom": null,
      "display": null,
      "flex": null,
      "flex_flow": null,
      "grid_area": null,
      "grid_auto_columns": null,
      "grid_auto_flow": null,
      "grid_auto_rows": null,
      "grid_column": null,
      "grid_gap": null,
      "grid_row": null,
      "grid_template_areas": null,
      "grid_template_columns": null,
      "grid_template_rows": null,
      "height": null,
      "justify_content": null,
      "justify_items": null,
      "left": null,
      "margin": null,
      "max_height": null,
      "max_width": null,
      "min_height": null,
      "min_width": null,
      "object_fit": null,
      "object_position": null,
      "order": null,
      "overflow": null,
      "overflow_x": null,
      "overflow_y": null,
      "padding": null,
      "right": null,
      "top": null,
      "visibility": null,
      "width": null
     }
    },
    "b70e76d1899b43e0be5170283b700c44": {
     "model_module": "@jupyter-widgets/controls",
     "model_name": "HTMLModel",
     "state": {
      "_dom_classes": [],
      "_model_module": "@jupyter-widgets/controls",
      "_model_module_version": "1.5.0",
      "_model_name": "HTMLModel",
      "_view_count": null,
      "_view_module": "@jupyter-widgets/controls",
      "_view_module_version": "1.5.0",
      "_view_name": "HTMLView",
      "description": "",
      "description_tooltip": null,
      "layout": "IPY_MODEL_224dc67176e44697906636b5c30cd1f4",
      "placeholder": "​",
      "style": "IPY_MODEL_cdab5c3db7a8474bba28b550bc3d64b3",
      "value": " 1230/1230 [01:02&lt;00:00, 19.66it/s]"
     }
    },
    "b88bec3afd214becaf8ce18b41ec93f1": {
     "model_module": "@jupyter-widgets/controls",
     "model_name": "FloatProgressModel",
     "state": {
      "_dom_classes": [],
      "_model_module": "@jupyter-widgets/controls",
      "_model_module_version": "1.5.0",
      "_model_name": "FloatProgressModel",
      "_view_count": null,
      "_view_module": "@jupyter-widgets/controls",
      "_view_module_version": "1.5.0",
      "_view_name": "ProgressView",
      "bar_style": "success",
      "description": "100%",
      "description_tooltip": null,
      "layout": "IPY_MODEL_d5524bc15e794034b1236641f388ea23",
      "max": 1230,
      "min": 0,
      "orientation": "horizontal",
      "style": "IPY_MODEL_976a8802527f453997815f61fb6e9971",
      "value": 1230
     }
    },
    "bb569d738ce747ea860427d54f8f4b06": {
     "model_module": "@jupyter-widgets/controls",
     "model_name": "FloatProgressModel",
     "state": {
      "_dom_classes": [],
      "_model_module": "@jupyter-widgets/controls",
      "_model_module_version": "1.5.0",
      "_model_name": "FloatProgressModel",
      "_view_count": null,
      "_view_module": "@jupyter-widgets/controls",
      "_view_module_version": "1.5.0",
      "_view_name": "ProgressView",
      "bar_style": "success",
      "description": "100%",
      "description_tooltip": null,
      "layout": "IPY_MODEL_f2fbccfcc0c541869f3bbd3c45d9f12b",
      "max": 1037,
      "min": 0,
      "orientation": "horizontal",
      "style": "IPY_MODEL_952040e49a8f444b89234ff273e41b9b",
      "value": 1037
     }
    },
    "bbfa8e472b6d46638b4563b2987fdaf9": {
     "model_module": "@jupyter-widgets/base",
     "model_name": "LayoutModel",
     "state": {
      "_model_module": "@jupyter-widgets/base",
      "_model_module_version": "1.2.0",
      "_model_name": "LayoutModel",
      "_view_count": null,
      "_view_module": "@jupyter-widgets/base",
      "_view_module_version": "1.2.0",
      "_view_name": "LayoutView",
      "align_content": null,
      "align_items": null,
      "align_self": null,
      "border": null,
      "bottom": null,
      "display": null,
      "flex": null,
      "flex_flow": null,
      "grid_area": null,
      "grid_auto_columns": null,
      "grid_auto_flow": null,
      "grid_auto_rows": null,
      "grid_column": null,
      "grid_gap": null,
      "grid_row": null,
      "grid_template_areas": null,
      "grid_template_columns": null,
      "grid_template_rows": null,
      "height": null,
      "justify_content": null,
      "justify_items": null,
      "left": null,
      "margin": null,
      "max_height": null,
      "max_width": null,
      "min_height": null,
      "min_width": null,
      "object_fit": null,
      "object_position": null,
      "order": null,
      "overflow": null,
      "overflow_x": null,
      "overflow_y": null,
      "padding": null,
      "right": null,
      "top": null,
      "visibility": null,
      "width": null
     }
    },
    "bd0dc9b3ead0430491de1a0376224760": {
     "model_module": "@jupyter-widgets/controls",
     "model_name": "HBoxModel",
     "state": {
      "_dom_classes": [],
      "_model_module": "@jupyter-widgets/controls",
      "_model_module_version": "1.5.0",
      "_model_name": "HBoxModel",
      "_view_count": null,
      "_view_module": "@jupyter-widgets/controls",
      "_view_module_version": "1.5.0",
      "_view_name": "HBoxView",
      "box_style": "",
      "children": [
       "IPY_MODEL_bb569d738ce747ea860427d54f8f4b06",
       "IPY_MODEL_e13a0821522f4674878988bd5bc81e14"
      ],
      "layout": "IPY_MODEL_ff3d01da439a459b875a83d4024cb39e"
     }
    },
    "bd245c4f759843d9b80ca70b5380fa0d": {
     "model_module": "@jupyter-widgets/controls",
     "model_name": "HTMLModel",
     "state": {
      "_dom_classes": [],
      "_model_module": "@jupyter-widgets/controls",
      "_model_module_version": "1.5.0",
      "_model_name": "HTMLModel",
      "_view_count": null,
      "_view_module": "@jupyter-widgets/controls",
      "_view_module_version": "1.5.0",
      "_view_name": "HTMLView",
      "description": "",
      "description_tooltip": null,
      "layout": "IPY_MODEL_b595565aeef444cbb4441698041c2c95",
      "placeholder": "​",
      "style": "IPY_MODEL_47cbc11400e04ead9427095f820c39f8",
      "value": " 1230/1230 [01:28&lt;00:00, 13.92it/s]"
     }
    },
    "bdad7c7195bb467db14b64f66179f910": {
     "model_module": "@jupyter-widgets/controls",
     "model_name": "ProgressStyleModel",
     "state": {
      "_model_module": "@jupyter-widgets/controls",
      "_model_module_version": "1.5.0",
      "_model_name": "ProgressStyleModel",
      "_view_count": null,
      "_view_module": "@jupyter-widgets/base",
      "_view_module_version": "1.2.0",
      "_view_name": "StyleView",
      "bar_color": null,
      "description_width": "initial"
     }
    },
    "c16e831cb19d4dfc925f1027d2084c31": {
     "model_module": "@jupyter-widgets/controls",
     "model_name": "ProgressStyleModel",
     "state": {
      "_model_module": "@jupyter-widgets/controls",
      "_model_module_version": "1.5.0",
      "_model_name": "ProgressStyleModel",
      "_view_count": null,
      "_view_module": "@jupyter-widgets/base",
      "_view_module_version": "1.2.0",
      "_view_name": "StyleView",
      "bar_color": null,
      "description_width": "initial"
     }
    },
    "c3fff35b526e437eb6d9b875b45a51e7": {
     "model_module": "@jupyter-widgets/controls",
     "model_name": "FloatProgressModel",
     "state": {
      "_dom_classes": [],
      "_model_module": "@jupyter-widgets/controls",
      "_model_module_version": "1.5.0",
      "_model_name": "FloatProgressModel",
      "_view_count": null,
      "_view_module": "@jupyter-widgets/controls",
      "_view_module_version": "1.5.0",
      "_view_name": "ProgressView",
      "bar_style": "success",
      "description": "100%",
      "description_tooltip": null,
      "layout": "IPY_MODEL_334c45598ce54545a3824d3f92fbe1ae",
      "max": 1230,
      "min": 0,
      "orientation": "horizontal",
      "style": "IPY_MODEL_0884011fb50d47a18014d7bf7781eb56",
      "value": 1230
     }
    },
    "c472a08d14aa42328f8823e9c7bdc2c9": {
     "model_module": "@jupyter-widgets/base",
     "model_name": "LayoutModel",
     "state": {
      "_model_module": "@jupyter-widgets/base",
      "_model_module_version": "1.2.0",
      "_model_name": "LayoutModel",
      "_view_count": null,
      "_view_module": "@jupyter-widgets/base",
      "_view_module_version": "1.2.0",
      "_view_name": "LayoutView",
      "align_content": null,
      "align_items": null,
      "align_self": null,
      "border": null,
      "bottom": null,
      "display": null,
      "flex": null,
      "flex_flow": null,
      "grid_area": null,
      "grid_auto_columns": null,
      "grid_auto_flow": null,
      "grid_auto_rows": null,
      "grid_column": null,
      "grid_gap": null,
      "grid_row": null,
      "grid_template_areas": null,
      "grid_template_columns": null,
      "grid_template_rows": null,
      "height": null,
      "justify_content": null,
      "justify_items": null,
      "left": null,
      "margin": null,
      "max_height": null,
      "max_width": null,
      "min_height": null,
      "min_width": null,
      "object_fit": null,
      "object_position": null,
      "order": null,
      "overflow": null,
      "overflow_x": null,
      "overflow_y": null,
      "padding": null,
      "right": null,
      "top": null,
      "visibility": null,
      "width": null
     }
    },
    "c7b766e9078648d08a17ed604bb48242": {
     "model_module": "@jupyter-widgets/controls",
     "model_name": "HTMLModel",
     "state": {
      "_dom_classes": [],
      "_model_module": "@jupyter-widgets/controls",
      "_model_module_version": "1.5.0",
      "_model_name": "HTMLModel",
      "_view_count": null,
      "_view_module": "@jupyter-widgets/controls",
      "_view_module_version": "1.5.0",
      "_view_name": "HTMLView",
      "description": "",
      "description_tooltip": null,
      "layout": "IPY_MODEL_87fc61ed452a45f18bfc3ba7633f7f53",
      "placeholder": "​",
      "style": "IPY_MODEL_186659d2582d47a8a7bfc2d0db92a861",
      "value": " 1230/1230 [01:28&lt;00:00, 13.94it/s]"
     }
    },
    "cc08acf3a6b74a98819c66df4d275b28": {
     "model_module": "@jupyter-widgets/controls",
     "model_name": "HBoxModel",
     "state": {
      "_dom_classes": [],
      "_model_module": "@jupyter-widgets/controls",
      "_model_module_version": "1.5.0",
      "_model_name": "HBoxModel",
      "_view_count": null,
      "_view_module": "@jupyter-widgets/controls",
      "_view_module_version": "1.5.0",
      "_view_name": "HBoxView",
      "box_style": "",
      "children": [
       "IPY_MODEL_88af1ac91bbb4e97a6b702965f1de0d3",
       "IPY_MODEL_f26d553ac3c8498ebf5078c7148db1b6"
      ],
      "layout": "IPY_MODEL_bbfa8e472b6d46638b4563b2987fdaf9"
     }
    },
    "cdab5c3db7a8474bba28b550bc3d64b3": {
     "model_module": "@jupyter-widgets/controls",
     "model_name": "DescriptionStyleModel",
     "state": {
      "_model_module": "@jupyter-widgets/controls",
      "_model_module_version": "1.5.0",
      "_model_name": "DescriptionStyleModel",
      "_view_count": null,
      "_view_module": "@jupyter-widgets/base",
      "_view_module_version": "1.2.0",
      "_view_name": "StyleView",
      "description_width": ""
     }
    },
    "cdee09db36d04d5daa57ebf45b86c2b5": {
     "model_module": "@jupyter-widgets/base",
     "model_name": "LayoutModel",
     "state": {
      "_model_module": "@jupyter-widgets/base",
      "_model_module_version": "1.2.0",
      "_model_name": "LayoutModel",
      "_view_count": null,
      "_view_module": "@jupyter-widgets/base",
      "_view_module_version": "1.2.0",
      "_view_name": "LayoutView",
      "align_content": null,
      "align_items": null,
      "align_self": null,
      "border": null,
      "bottom": null,
      "display": null,
      "flex": null,
      "flex_flow": null,
      "grid_area": null,
      "grid_auto_columns": null,
      "grid_auto_flow": null,
      "grid_auto_rows": null,
      "grid_column": null,
      "grid_gap": null,
      "grid_row": null,
      "grid_template_areas": null,
      "grid_template_columns": null,
      "grid_template_rows": null,
      "height": null,
      "justify_content": null,
      "justify_items": null,
      "left": null,
      "margin": null,
      "max_height": null,
      "max_width": null,
      "min_height": null,
      "min_width": null,
      "object_fit": null,
      "object_position": null,
      "order": null,
      "overflow": null,
      "overflow_x": null,
      "overflow_y": null,
      "padding": null,
      "right": null,
      "top": null,
      "visibility": null,
      "width": null
     }
    },
    "d2aa4705f233452fa6df2a4340d7f67c": {
     "model_module": "@jupyter-widgets/controls",
     "model_name": "HTMLModel",
     "state": {
      "_dom_classes": [],
      "_model_module": "@jupyter-widgets/controls",
      "_model_module_version": "1.5.0",
      "_model_name": "HTMLModel",
      "_view_count": null,
      "_view_module": "@jupyter-widgets/controls",
      "_view_module_version": "1.5.0",
      "_view_name": "HTMLView",
      "description": "",
      "description_tooltip": null,
      "layout": "IPY_MODEL_f6395e592bdd412ba9646b50a0667d4b",
      "placeholder": "​",
      "style": "IPY_MODEL_38a2d39a987147e9b9186d37f4685d4e",
      "value": " 10/10 [04:57&lt;00:00, 29.76s/it]"
     }
    },
    "d3ca0f44cbd24a4e944c9081e2cea4af": {
     "model_module": "@jupyter-widgets/controls",
     "model_name": "HBoxModel",
     "state": {
      "_dom_classes": [],
      "_model_module": "@jupyter-widgets/controls",
      "_model_module_version": "1.5.0",
      "_model_name": "HBoxModel",
      "_view_count": null,
      "_view_module": "@jupyter-widgets/controls",
      "_view_module_version": "1.5.0",
      "_view_name": "HBoxView",
      "box_style": "",
      "children": [
       "IPY_MODEL_b88bec3afd214becaf8ce18b41ec93f1",
       "IPY_MODEL_837d68461f4c47488c6f35a4b07d1c2e"
      ],
      "layout": "IPY_MODEL_7aa7346e46bd4fb385a91999b56c967d"
     }
    },
    "d5524bc15e794034b1236641f388ea23": {
     "model_module": "@jupyter-widgets/base",
     "model_name": "LayoutModel",
     "state": {
      "_model_module": "@jupyter-widgets/base",
      "_model_module_version": "1.2.0",
      "_model_name": "LayoutModel",
      "_view_count": null,
      "_view_module": "@jupyter-widgets/base",
      "_view_module_version": "1.2.0",
      "_view_name": "LayoutView",
      "align_content": null,
      "align_items": null,
      "align_self": null,
      "border": null,
      "bottom": null,
      "display": null,
      "flex": null,
      "flex_flow": null,
      "grid_area": null,
      "grid_auto_columns": null,
      "grid_auto_flow": null,
      "grid_auto_rows": null,
      "grid_column": null,
      "grid_gap": null,
      "grid_row": null,
      "grid_template_areas": null,
      "grid_template_columns": null,
      "grid_template_rows": null,
      "height": null,
      "justify_content": null,
      "justify_items": null,
      "left": null,
      "margin": null,
      "max_height": null,
      "max_width": null,
      "min_height": null,
      "min_width": null,
      "object_fit": null,
      "object_position": null,
      "order": null,
      "overflow": null,
      "overflow_x": null,
      "overflow_y": null,
      "padding": null,
      "right": null,
      "top": null,
      "visibility": null,
      "width": null
     }
    },
    "d7de9e0779bb4fd7985466e1672ea2bd": {
     "model_module": "@jupyter-widgets/base",
     "model_name": "LayoutModel",
     "state": {
      "_model_module": "@jupyter-widgets/base",
      "_model_module_version": "1.2.0",
      "_model_name": "LayoutModel",
      "_view_count": null,
      "_view_module": "@jupyter-widgets/base",
      "_view_module_version": "1.2.0",
      "_view_name": "LayoutView",
      "align_content": null,
      "align_items": null,
      "align_self": null,
      "border": null,
      "bottom": null,
      "display": null,
      "flex": null,
      "flex_flow": null,
      "grid_area": null,
      "grid_auto_columns": null,
      "grid_auto_flow": null,
      "grid_auto_rows": null,
      "grid_column": null,
      "grid_gap": null,
      "grid_row": null,
      "grid_template_areas": null,
      "grid_template_columns": null,
      "grid_template_rows": null,
      "height": null,
      "justify_content": null,
      "justify_items": null,
      "left": null,
      "margin": null,
      "max_height": null,
      "max_width": null,
      "min_height": null,
      "min_width": null,
      "object_fit": null,
      "object_position": null,
      "order": null,
      "overflow": null,
      "overflow_x": null,
      "overflow_y": null,
      "padding": null,
      "right": null,
      "top": null,
      "visibility": null,
      "width": null
     }
    },
    "db07cdecec7542b3a0d1958e55e2a081": {
     "model_module": "@jupyter-widgets/base",
     "model_name": "LayoutModel",
     "state": {
      "_model_module": "@jupyter-widgets/base",
      "_model_module_version": "1.2.0",
      "_model_name": "LayoutModel",
      "_view_count": null,
      "_view_module": "@jupyter-widgets/base",
      "_view_module_version": "1.2.0",
      "_view_name": "LayoutView",
      "align_content": null,
      "align_items": null,
      "align_self": null,
      "border": null,
      "bottom": null,
      "display": null,
      "flex": null,
      "flex_flow": null,
      "grid_area": null,
      "grid_auto_columns": null,
      "grid_auto_flow": null,
      "grid_auto_rows": null,
      "grid_column": null,
      "grid_gap": null,
      "grid_row": null,
      "grid_template_areas": null,
      "grid_template_columns": null,
      "grid_template_rows": null,
      "height": null,
      "justify_content": null,
      "justify_items": null,
      "left": null,
      "margin": null,
      "max_height": null,
      "max_width": null,
      "min_height": null,
      "min_width": null,
      "object_fit": null,
      "object_position": null,
      "order": null,
      "overflow": null,
      "overflow_x": null,
      "overflow_y": null,
      "padding": null,
      "right": null,
      "top": null,
      "visibility": null,
      "width": null
     }
    },
    "de87c6dc06fb4707b66e0da3cd9a24d4": {
     "model_module": "@jupyter-widgets/base",
     "model_name": "LayoutModel",
     "state": {
      "_model_module": "@jupyter-widgets/base",
      "_model_module_version": "1.2.0",
      "_model_name": "LayoutModel",
      "_view_count": null,
      "_view_module": "@jupyter-widgets/base",
      "_view_module_version": "1.2.0",
      "_view_name": "LayoutView",
      "align_content": null,
      "align_items": null,
      "align_self": null,
      "border": null,
      "bottom": null,
      "display": null,
      "flex": null,
      "flex_flow": null,
      "grid_area": null,
      "grid_auto_columns": null,
      "grid_auto_flow": null,
      "grid_auto_rows": null,
      "grid_column": null,
      "grid_gap": null,
      "grid_row": null,
      "grid_template_areas": null,
      "grid_template_columns": null,
      "grid_template_rows": null,
      "height": null,
      "justify_content": null,
      "justify_items": null,
      "left": null,
      "margin": null,
      "max_height": null,
      "max_width": null,
      "min_height": null,
      "min_width": null,
      "object_fit": null,
      "object_position": null,
      "order": null,
      "overflow": null,
      "overflow_x": null,
      "overflow_y": null,
      "padding": null,
      "right": null,
      "top": null,
      "visibility": null,
      "width": null
     }
    },
    "e13a0821522f4674878988bd5bc81e14": {
     "model_module": "@jupyter-widgets/controls",
     "model_name": "HTMLModel",
     "state": {
      "_dom_classes": [],
      "_model_module": "@jupyter-widgets/controls",
      "_model_module_version": "1.5.0",
      "_model_name": "HTMLModel",
      "_view_count": null,
      "_view_module": "@jupyter-widgets/controls",
      "_view_module_version": "1.5.0",
      "_view_name": "HTMLView",
      "description": "",
      "description_tooltip": null,
      "layout": "IPY_MODEL_16ba687f9c6447958826ed6181224f64",
      "placeholder": "​",
      "style": "IPY_MODEL_7c6df110c8ce48118f4b41b0a0be6904",
      "value": " 1037/1037 [18:59&lt;00:00,  1.10s/it]"
     }
    },
    "e13c318c3a3e4f799f0d77b3c7dddf03": {
     "model_module": "@jupyter-widgets/base",
     "model_name": "LayoutModel",
     "state": {
      "_model_module": "@jupyter-widgets/base",
      "_model_module_version": "1.2.0",
      "_model_name": "LayoutModel",
      "_view_count": null,
      "_view_module": "@jupyter-widgets/base",
      "_view_module_version": "1.2.0",
      "_view_name": "LayoutView",
      "align_content": null,
      "align_items": null,
      "align_self": null,
      "border": null,
      "bottom": null,
      "display": null,
      "flex": null,
      "flex_flow": null,
      "grid_area": null,
      "grid_auto_columns": null,
      "grid_auto_flow": null,
      "grid_auto_rows": null,
      "grid_column": null,
      "grid_gap": null,
      "grid_row": null,
      "grid_template_areas": null,
      "grid_template_columns": null,
      "grid_template_rows": null,
      "height": null,
      "justify_content": null,
      "justify_items": null,
      "left": null,
      "margin": null,
      "max_height": null,
      "max_width": null,
      "min_height": null,
      "min_width": null,
      "object_fit": null,
      "object_position": null,
      "order": null,
      "overflow": null,
      "overflow_x": null,
      "overflow_y": null,
      "padding": null,
      "right": null,
      "top": null,
      "visibility": null,
      "width": null
     }
    },
    "e68896e319c7420a986dcdb087ab683b": {
     "model_module": "@jupyter-widgets/controls",
     "model_name": "HBoxModel",
     "state": {
      "_dom_classes": [],
      "_model_module": "@jupyter-widgets/controls",
      "_model_module_version": "1.5.0",
      "_model_name": "HBoxModel",
      "_view_count": null,
      "_view_module": "@jupyter-widgets/controls",
      "_view_module_version": "1.5.0",
      "_view_name": "HBoxView",
      "box_style": "",
      "children": [
       "IPY_MODEL_a4a872b5f4a04a7491f48cb32b6f33af",
       "IPY_MODEL_bd245c4f759843d9b80ca70b5380fa0d"
      ],
      "layout": "IPY_MODEL_7e0daf3066fd40d48dad5592f8355d50"
     }
    },
    "e99cf2aba2ac475985d66cdf23263f95": {
     "model_module": "@jupyter-widgets/controls",
     "model_name": "HTMLModel",
     "state": {
      "_dom_classes": [],
      "_model_module": "@jupyter-widgets/controls",
      "_model_module_version": "1.5.0",
      "_model_name": "HTMLModel",
      "_view_count": null,
      "_view_module": "@jupyter-widgets/controls",
      "_view_module_version": "1.5.0",
      "_view_name": "HTMLView",
      "description": "",
      "description_tooltip": null,
      "layout": "IPY_MODEL_ff3fd248ee80403a9bc1903e16ab01ad",
      "placeholder": "​",
      "style": "IPY_MODEL_7850b742dcfb42ba823ef2233df90d0c",
      "value": " 1230/1230 [04:57&lt;00:00,  4.13it/s]"
     }
    },
    "edbaf1fafb7243d89a3e6d9ca371c71b": {
     "model_module": "@jupyter-widgets/base",
     "model_name": "LayoutModel",
     "state": {
      "_model_module": "@jupyter-widgets/base",
      "_model_module_version": "1.2.0",
      "_model_name": "LayoutModel",
      "_view_count": null,
      "_view_module": "@jupyter-widgets/base",
      "_view_module_version": "1.2.0",
      "_view_name": "LayoutView",
      "align_content": null,
      "align_items": null,
      "align_self": null,
      "border": null,
      "bottom": null,
      "display": null,
      "flex": null,
      "flex_flow": null,
      "grid_area": null,
      "grid_auto_columns": null,
      "grid_auto_flow": null,
      "grid_auto_rows": null,
      "grid_column": null,
      "grid_gap": null,
      "grid_row": null,
      "grid_template_areas": null,
      "grid_template_columns": null,
      "grid_template_rows": null,
      "height": null,
      "justify_content": null,
      "justify_items": null,
      "left": null,
      "margin": null,
      "max_height": null,
      "max_width": null,
      "min_height": null,
      "min_width": null,
      "object_fit": null,
      "object_position": null,
      "order": null,
      "overflow": null,
      "overflow_x": null,
      "overflow_y": null,
      "padding": null,
      "right": null,
      "top": null,
      "visibility": null,
      "width": null
     }
    },
    "f26d553ac3c8498ebf5078c7148db1b6": {
     "model_module": "@jupyter-widgets/controls",
     "model_name": "HTMLModel",
     "state": {
      "_dom_classes": [],
      "_model_module": "@jupyter-widgets/controls",
      "_model_module_version": "1.5.0",
      "_model_name": "HTMLModel",
      "_view_count": null,
      "_view_module": "@jupyter-widgets/controls",
      "_view_module_version": "1.5.0",
      "_view_name": "HTMLView",
      "description": "",
      "description_tooltip": null,
      "layout": "IPY_MODEL_db07cdecec7542b3a0d1958e55e2a081",
      "placeholder": "​",
      "style": "IPY_MODEL_4fec38f617814ee08d80e5ebc71375e9",
      "value": " 1230/1230 [03:00&lt;00:00,  6.82it/s]"
     }
    },
    "f2ccfa7556df47158ffde791c862a244": {
     "model_module": "@jupyter-widgets/controls",
     "model_name": "FloatProgressModel",
     "state": {
      "_dom_classes": [],
      "_model_module": "@jupyter-widgets/controls",
      "_model_module_version": "1.5.0",
      "_model_name": "FloatProgressModel",
      "_view_count": null,
      "_view_module": "@jupyter-widgets/controls",
      "_view_module_version": "1.5.0",
      "_view_name": "ProgressView",
      "bar_style": "success",
      "description": "100%",
      "description_tooltip": null,
      "layout": "IPY_MODEL_edbaf1fafb7243d89a3e6d9ca371c71b",
      "max": 1230,
      "min": 0,
      "orientation": "horizontal",
      "style": "IPY_MODEL_adc95c71ab6148fdb0ef4165259ce264",
      "value": 1230
     }
    },
    "f2fbccfcc0c541869f3bbd3c45d9f12b": {
     "model_module": "@jupyter-widgets/base",
     "model_name": "LayoutModel",
     "state": {
      "_model_module": "@jupyter-widgets/base",
      "_model_module_version": "1.2.0",
      "_model_name": "LayoutModel",
      "_view_count": null,
      "_view_module": "@jupyter-widgets/base",
      "_view_module_version": "1.2.0",
      "_view_name": "LayoutView",
      "align_content": null,
      "align_items": null,
      "align_self": null,
      "border": null,
      "bottom": null,
      "display": null,
      "flex": null,
      "flex_flow": null,
      "grid_area": null,
      "grid_auto_columns": null,
      "grid_auto_flow": null,
      "grid_auto_rows": null,
      "grid_column": null,
      "grid_gap": null,
      "grid_row": null,
      "grid_template_areas": null,
      "grid_template_columns": null,
      "grid_template_rows": null,
      "height": null,
      "justify_content": null,
      "justify_items": null,
      "left": null,
      "margin": null,
      "max_height": null,
      "max_width": null,
      "min_height": null,
      "min_width": null,
      "object_fit": null,
      "object_position": null,
      "order": null,
      "overflow": null,
      "overflow_x": null,
      "overflow_y": null,
      "padding": null,
      "right": null,
      "top": null,
      "visibility": null,
      "width": null
     }
    },
    "f496a29dcc6940108aa1b7335f6de899": {
     "model_module": "@jupyter-widgets/controls",
     "model_name": "HBoxModel",
     "state": {
      "_dom_classes": [],
      "_model_module": "@jupyter-widgets/controls",
      "_model_module_version": "1.5.0",
      "_model_name": "HBoxModel",
      "_view_count": null,
      "_view_module": "@jupyter-widgets/controls",
      "_view_module_version": "1.5.0",
      "_view_name": "HBoxView",
      "box_style": "",
      "children": [
       "IPY_MODEL_8c2f6555119d461793d06353b241f009",
       "IPY_MODEL_834f2060d9384a7e9fe4c96d332edf40"
      ],
      "layout": "IPY_MODEL_f56e135c5ab942e6ad327b1d9b402257"
     }
    },
    "f56e135c5ab942e6ad327b1d9b402257": {
     "model_module": "@jupyter-widgets/base",
     "model_name": "LayoutModel",
     "state": {
      "_model_module": "@jupyter-widgets/base",
      "_model_module_version": "1.2.0",
      "_model_name": "LayoutModel",
      "_view_count": null,
      "_view_module": "@jupyter-widgets/base",
      "_view_module_version": "1.2.0",
      "_view_name": "LayoutView",
      "align_content": null,
      "align_items": null,
      "align_self": null,
      "border": null,
      "bottom": null,
      "display": null,
      "flex": null,
      "flex_flow": null,
      "grid_area": null,
      "grid_auto_columns": null,
      "grid_auto_flow": null,
      "grid_auto_rows": null,
      "grid_column": null,
      "grid_gap": null,
      "grid_row": null,
      "grid_template_areas": null,
      "grid_template_columns": null,
      "grid_template_rows": null,
      "height": null,
      "justify_content": null,
      "justify_items": null,
      "left": null,
      "margin": null,
      "max_height": null,
      "max_width": null,
      "min_height": null,
      "min_width": null,
      "object_fit": null,
      "object_position": null,
      "order": null,
      "overflow": null,
      "overflow_x": null,
      "overflow_y": null,
      "padding": null,
      "right": null,
      "top": null,
      "visibility": null,
      "width": null
     }
    },
    "f6395e592bdd412ba9646b50a0667d4b": {
     "model_module": "@jupyter-widgets/base",
     "model_name": "LayoutModel",
     "state": {
      "_model_module": "@jupyter-widgets/base",
      "_model_module_version": "1.2.0",
      "_model_name": "LayoutModel",
      "_view_count": null,
      "_view_module": "@jupyter-widgets/base",
      "_view_module_version": "1.2.0",
      "_view_name": "LayoutView",
      "align_content": null,
      "align_items": null,
      "align_self": null,
      "border": null,
      "bottom": null,
      "display": null,
      "flex": null,
      "flex_flow": null,
      "grid_area": null,
      "grid_auto_columns": null,
      "grid_auto_flow": null,
      "grid_auto_rows": null,
      "grid_column": null,
      "grid_gap": null,
      "grid_row": null,
      "grid_template_areas": null,
      "grid_template_columns": null,
      "grid_template_rows": null,
      "height": null,
      "justify_content": null,
      "justify_items": null,
      "left": null,
      "margin": null,
      "max_height": null,
      "max_width": null,
      "min_height": null,
      "min_width": null,
      "object_fit": null,
      "object_position": null,
      "order": null,
      "overflow": null,
      "overflow_x": null,
      "overflow_y": null,
      "padding": null,
      "right": null,
      "top": null,
      "visibility": null,
      "width": null
     }
    },
    "f8fc949483e2446f9a3771498b8407a1": {
     "model_module": "@jupyter-widgets/controls",
     "model_name": "FloatProgressModel",
     "state": {
      "_dom_classes": [],
      "_model_module": "@jupyter-widgets/controls",
      "_model_module_version": "1.5.0",
      "_model_name": "FloatProgressModel",
      "_view_count": null,
      "_view_module": "@jupyter-widgets/controls",
      "_view_module_version": "1.5.0",
      "_view_name": "ProgressView",
      "bar_style": "success",
      "description": "100%",
      "description_tooltip": null,
      "layout": "IPY_MODEL_3d762013f7b448fdba8b903ea4578956",
      "max": 1230,
      "min": 0,
      "orientation": "horizontal",
      "style": "IPY_MODEL_2d26944debab47cb8084e2e606dbee1c",
      "value": 1230
     }
    },
    "ff3d01da439a459b875a83d4024cb39e": {
     "model_module": "@jupyter-widgets/base",
     "model_name": "LayoutModel",
     "state": {
      "_model_module": "@jupyter-widgets/base",
      "_model_module_version": "1.2.0",
      "_model_name": "LayoutModel",
      "_view_count": null,
      "_view_module": "@jupyter-widgets/base",
      "_view_module_version": "1.2.0",
      "_view_name": "LayoutView",
      "align_content": null,
      "align_items": null,
      "align_self": null,
      "border": null,
      "bottom": null,
      "display": null,
      "flex": null,
      "flex_flow": null,
      "grid_area": null,
      "grid_auto_columns": null,
      "grid_auto_flow": null,
      "grid_auto_rows": null,
      "grid_column": null,
      "grid_gap": null,
      "grid_row": null,
      "grid_template_areas": null,
      "grid_template_columns": null,
      "grid_template_rows": null,
      "height": null,
      "justify_content": null,
      "justify_items": null,
      "left": null,
      "margin": null,
      "max_height": null,
      "max_width": null,
      "min_height": null,
      "min_width": null,
      "object_fit": null,
      "object_position": null,
      "order": null,
      "overflow": null,
      "overflow_x": null,
      "overflow_y": null,
      "padding": null,
      "right": null,
      "top": null,
      "visibility": null,
      "width": null
     }
    },
    "ff3fd248ee80403a9bc1903e16ab01ad": {
     "model_module": "@jupyter-widgets/base",
     "model_name": "LayoutModel",
     "state": {
      "_model_module": "@jupyter-widgets/base",
      "_model_module_version": "1.2.0",
      "_model_name": "LayoutModel",
      "_view_count": null,
      "_view_module": "@jupyter-widgets/base",
      "_view_module_version": "1.2.0",
      "_view_name": "LayoutView",
      "align_content": null,
      "align_items": null,
      "align_self": null,
      "border": null,
      "bottom": null,
      "display": null,
      "flex": null,
      "flex_flow": null,
      "grid_area": null,
      "grid_auto_columns": null,
      "grid_auto_flow": null,
      "grid_auto_rows": null,
      "grid_column": null,
      "grid_gap": null,
      "grid_row": null,
      "grid_template_areas": null,
      "grid_template_columns": null,
      "grid_template_rows": null,
      "height": null,
      "justify_content": null,
      "justify_items": null,
      "left": null,
      "margin": null,
      "max_height": null,
      "max_width": null,
      "min_height": null,
      "min_width": null,
      "object_fit": null,
      "object_position": null,
      "order": null,
      "overflow": null,
      "overflow_x": null,
      "overflow_y": null,
      "padding": null,
      "right": null,
      "top": null,
      "visibility": null,
      "width": null
     }
    }
   }
  }
 },
 "nbformat": 4,
 "nbformat_minor": 1
}
